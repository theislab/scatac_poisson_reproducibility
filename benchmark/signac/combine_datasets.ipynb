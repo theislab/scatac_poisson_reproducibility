{
 "cells": [
  {
   "cell_type": "code",
   "execution_count": 3,
   "id": "897e9c14-0c02-4f36-8088-dc3deea66c5c",
   "metadata": {},
   "outputs": [],
   "source": [
    "library(stringr)\n",
    "library(Matrix)"
   ]
  },
  {
   "cell_type": "code",
   "execution_count": null,
   "id": "c5234899-8b97-460e-bece-b635883753d1",
   "metadata": {},
   "outputs": [],
   "source": [
    "path <- \"/lustre/groups/ml01/workspace/laura.martens/data/aerts_fly_brain/\"\n",
    "\n",
    "count_matrices <- list.files(path, '.rds', full.names = FALSE)\n",
    "\n",
    "ids <- str_split(count_matrices, '.rds', simplify=TRUE)[,1]\n",
    "\n",
    "objects <- lapply(str_c(path, count_matrices), readRDS)\n",
    "\n",
    "combined <- merge(\n",
    " x = objects[[1]],\n",
    " y = c(objects[[2]], objects[[3]], objects[[4]], objects[[5]], objects[[6]], objects[[7]], objects[[8]], objects[[9]], objects[[10]], objects[[11]],\n",
    "      objects[[12]], objects[[13]], objects[[14]], objects[[15]], objects[[16]], objects[[17]], objects[[18]], objects[[19]], objects[[20]], objects[[21]], objects[[22]], objects[[23]]),\n",
    " add.cell.ids = ids\n",
    ")\n",
    "\n",
    "combined"
   ]
  },
  {
   "cell_type": "code",
   "execution_count": 1,
   "id": "f5641251-9727-40c6-9fe4-f78d7dbed56b",
   "metadata": {},
   "outputs": [],
   "source": [
    "combined <- readRDS(paste0('/lustre/groups/ml01/workspace/laura.martens/data/aerts_fly_brain/combined.rds'))  "
   ]
  },
  {
   "cell_type": "code",
   "execution_count": 4,
   "id": "c9849dae-dd44-4867-9eb7-b5a9f2f957f8",
   "metadata": {},
   "outputs": [],
   "source": [
    "X = t(combined[['ATAC']]@data)"
   ]
  },
  {
   "cell_type": "markdown",
   "id": "25598f74-ce92-4802-8a21-22bc4ed44d5f",
   "metadata": {
    "tags": []
   },
   "source": [
    "### Save as anndata"
   ]
  },
  {
   "cell_type": "code",
   "execution_count": 5,
   "id": "c7c6d0a8-ece0-4757-ac00-e86bbf9e395a",
   "metadata": {
    "tags": []
   },
   "outputs": [],
   "source": [
    "# Create adata - Gene activity in adata.X and peaks in adata.obsm\n",
    "adata <- anndata::AnnData(X = X)"
   ]
  },
  {
   "cell_type": "code",
   "execution_count": 6,
   "id": "da226b5f-3851-47e7-b570-700cf6a37312",
   "metadata": {},
   "outputs": [
    {
     "data": {
      "text/plain": [
       "AnnData object with n_obs × n_vars = 240919 × 129078"
      ]
     },
     "metadata": {},
     "output_type": "display_data"
    }
   ],
   "source": [
    "adata"
   ]
  },
  {
   "cell_type": "code",
   "execution_count": 7,
   "id": "7151bc53-6495-413c-be36-e62bb8a7d50c",
   "metadata": {
    "tags": []
   },
   "outputs": [],
   "source": [
    "# Add meta data\n",
    "adata$obs = combined@meta.data\n"
   ]
  },
  {
   "cell_type": "code",
   "execution_count": 8,
   "id": "4cd43064-6482-4af2-b3d6-91862e2ad506",
   "metadata": {
    "tags": []
   },
   "outputs": [
    {
     "data": {
      "text/plain": [
       "None"
      ]
     },
     "metadata": {},
     "output_type": "display_data"
    }
   ],
   "source": [
    "# Save to disk \n",
    "adata$write_h5ad(\"/lustre/groups/ml01/workspace/laura.martens/data/aerts_fly_brain/All_timepoints.h5ad\",\n",
    "                compression = \"gzip\")"
   ]
  },
  {
   "cell_type": "code",
   "execution_count": null,
   "id": "ce1c682f-c13d-4aad-8a3a-5533f49616f5",
   "metadata": {},
   "outputs": [],
   "source": []
  }
 ],
 "metadata": {
  "kernelspec": {
   "display_name": "R",
   "language": "R",
   "name": "ir"
  },
  "language_info": {
   "codemirror_mode": "r",
   "file_extension": ".r",
   "mimetype": "text/x-r-source",
   "name": "R",
   "pygments_lexer": "r",
   "version": "4.1.3"
  }
 },
 "nbformat": 4,
 "nbformat_minor": 5
}
