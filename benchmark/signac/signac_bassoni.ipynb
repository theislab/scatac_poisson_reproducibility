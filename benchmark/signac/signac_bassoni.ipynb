{
 "cells": [
  {
   "cell_type": "code",
   "execution_count": 2,
   "id": "7308d966-0cf8-46c8-bb83-3fc29b44a1fd",
   "metadata": {},
   "outputs": [
    {
     "name": "stderr",
     "output_type": "stream",
     "text": [
      "Warning message:\n",
      "“package ‘HCATonsilData’ was built under R version 4.1.3”\n"
     ]
    }
   ],
   "source": [
    ".libPaths(\"/mnt/home/icb/laura.martens/miniconda3/envs/archr/lib/R/library\")\n",
    "library(HCATonsilData)\n"
   ]
  },
  {
   "cell_type": "code",
   "execution_count": 3,
   "id": "aedb704b-98f9-4148-a7a2-314151b39995",
   "metadata": {},
   "outputs": [
    {
     "data": {
      "text/html": [
       "<style>\n",
       ".list-inline {list-style: none; margin:0; padding: 0}\n",
       ".list-inline>li {display: inline-block}\n",
       ".list-inline>li:not(:last-child)::after {content: \"\\00b7\"; padding: 0 .5ex}\n",
       "</style>\n",
       "<ol class=list-inline><li>'All'</li><li>'NBC-MBC'</li><li>'GCBC'</li><li>'PC'</li><li>'CD4-T'</li><li>'Th'</li><li>'CD8-T'</li><li>'ILC-NK'</li><li>'myeloid'</li><li>'FDC'</li><li>'epithelial'</li><li>'PDC'</li><li>'preB'</li><li>'preT'</li></ol>\n"
      ],
      "text/latex": [
       "\\begin{enumerate*}\n",
       "\\item 'All'\n",
       "\\item 'NBC-MBC'\n",
       "\\item 'GCBC'\n",
       "\\item 'PC'\n",
       "\\item 'CD4-T'\n",
       "\\item 'Th'\n",
       "\\item 'CD8-T'\n",
       "\\item 'ILC-NK'\n",
       "\\item 'myeloid'\n",
       "\\item 'FDC'\n",
       "\\item 'epithelial'\n",
       "\\item 'PDC'\n",
       "\\item 'preB'\n",
       "\\item 'preT'\n",
       "\\end{enumerate*}\n"
      ],
      "text/markdown": [
       "1. 'All'\n",
       "2. 'NBC-MBC'\n",
       "3. 'GCBC'\n",
       "4. 'PC'\n",
       "5. 'CD4-T'\n",
       "6. 'Th'\n",
       "7. 'CD8-T'\n",
       "8. 'ILC-NK'\n",
       "9. 'myeloid'\n",
       "10. 'FDC'\n",
       "11. 'epithelial'\n",
       "12. 'PDC'\n",
       "13. 'preB'\n",
       "14. 'preT'\n",
       "\n",
       "\n"
      ],
      "text/plain": [
       " [1] \"All\"        \"NBC-MBC\"    \"GCBC\"       \"PC\"         \"CD4-T\"     \n",
       " [6] \"Th\"         \"CD8-T\"      \"ILC-NK\"     \"myeloid\"    \"FDC\"       \n",
       "[11] \"epithelial\" \"PDC\"        \"preB\"       \"preT\"      "
      ]
     },
     "metadata": {},
     "output_type": "display_data"
    }
   ],
   "source": [
    "listCellTypes(assayType = \"RNA\")"
   ]
  },
  {
   "cell_type": "code",
   "execution_count": 4,
   "id": "56260da1-c3ab-4f40-8304-92e4ab77ffd5",
   "metadata": {},
   "outputs": [
    {
     "name": "stderr",
     "output_type": "stream",
     "text": [
      "snapshotDate(): 2021-10-19\n",
      "\n"
     ]
    },
    {
     "ename": "ERROR",
     "evalue": "Error in .local(x, i, j = j, ...): 'i' must be length 1\n",
     "output_type": "error",
     "traceback": [
      "Error in .local(x, i, j = j, ...): 'i' must be length 1\nTraceback:\n",
      "1. HCATonsilDataInfo(cellType = \"CD4-T\")",
      "2. eh[eh$rdatapath == filePaths[\"rowData\"]][[1]]",
      "3. eh[eh$rdatapath == filePaths[\"rowData\"]][[1]]",
      "4. .local(x, i, j = j, ...)",
      "5. stop(\"'i' must be length 1\")"
     ]
    }
   ],
   "source": [
    "HCATonsilDataInfo(cellType = \"CD4-T\")"
   ]
  },
  {
   "cell_type": "code",
   "execution_count": 5,
   "id": "38acdb60-6366-4abb-b340-a0367cec9dc6",
   "metadata": {},
   "outputs": [
    {
     "name": "stderr",
     "output_type": "stream",
     "text": [
      "snapshotDate(): 2021-10-19\n",
      "\n"
     ]
    },
    {
     "ename": "ERROR",
     "evalue": "Error in .local(x, i, j = j, ...): 'i' must be length 1\n",
     "output_type": "error",
     "traceback": [
      "Error in .local(x, i, j = j, ...): 'i' must be length 1\nTraceback:\n",
      "1. HCATonsilData(assayType = \"RNA\", cellType = \"CD4-T\")",
      "2. HDF5Array::HDF5Array(eh[eh$rdatapath == filePaths[\"counts\"]][[1]], \n .     name = \"counts\")",
      "3. is(filepath, \"HDF5ArraySeed\")",
      "4. eh[eh$rdatapath == filePaths[\"counts\"]][[1]]",
      "5. eh[eh$rdatapath == filePaths[\"counts\"]][[1]]",
      "6. .local(x, i, j = j, ...)",
      "7. stop(\"'i' must be length 1\")"
     ]
    }
   ],
   "source": [
    "cd4_t <- HCATonsilData(assayType = \"RNA\", cellType = \"CD4-T\")"
   ]
  },
  {
   "cell_type": "code",
   "execution_count": 6,
   "id": "2ecb9307-a447-47cb-88ca-78625cef236f",
   "metadata": {},
   "outputs": [
    {
     "data": {
      "text/plain": [
       "R version 4.1.2 (2021-11-01)\n",
       "Platform: x86_64-conda-linux-gnu (64-bit)\n",
       "Running under: CentOS Linux 7 (Core)\n",
       "\n",
       "Matrix products: default\n",
       "BLAS/LAPACK: /mnt/home/icb/laura.martens/miniconda3/envs/poisson_atac_new/lib/libmkl_rt.so.2\n",
       "\n",
       "locale:\n",
       " [1] LC_CTYPE=en_US.UTF-8       LC_NUMERIC=C              \n",
       " [3] LC_TIME=en_US.UTF-8        LC_COLLATE=en_US.UTF-8    \n",
       " [5] LC_MONETARY=en_US.UTF-8    LC_MESSAGES=en_US.UTF-8   \n",
       " [7] LC_PAPER=en_US.UTF-8       LC_NAME=C                 \n",
       " [9] LC_ADDRESS=C               LC_TELEPHONE=C            \n",
       "[11] LC_MEASUREMENT=en_US.UTF-8 LC_IDENTIFICATION=C       \n",
       "\n",
       "attached base packages:\n",
       "[1] stats     graphics  grDevices utils     datasets  methods   base     \n",
       "\n",
       "other attached packages:\n",
       "[1] HCATonsilData_0.0.0.9000\n",
       "\n",
       "loaded via a namespace (and not attached):\n",
       " [1] Rcpp_1.0.8.3                  lattice_0.20-45              \n",
       " [3] png_0.1-7                     Biostrings_2.62.0            \n",
       " [5] SingleCellExperiment_1.16.0   assertthat_0.2.1             \n",
       " [7] digest_0.6.29                 utf8_1.2.2                   \n",
       " [9] mime_0.12                     IRdisplay_1.1                \n",
       "[11] BiocFileCache_2.2.1           R6_2.5.1                     \n",
       "[13] GenomeInfoDb_1.30.1           repr_1.1.4                   \n",
       "[15] stats4_4.1.2                  RSQLite_2.2.14               \n",
       "[17] evaluate_0.15                 httr_1.4.3                   \n",
       "[19] pillar_1.7.0                  zlibbioc_1.40.0              \n",
       "[21] rlang_1.0.2                   curl_4.3.2                   \n",
       "[23] uuid_1.1-0                    blob_1.2.3                   \n",
       "[25] S4Vectors_0.32.4              Matrix_1.4-1                 \n",
       "[27] AnnotationHub_3.2.2           RCurl_1.98-1.7               \n",
       "[29] bit_4.0.4                     DelayedArray_0.20.0          \n",
       "[31] HDF5Array_1.22.1              shiny_1.7.1                  \n",
       "[33] compiler_4.1.2                httpuv_1.6.5                 \n",
       "[35] pkgconfig_2.0.3               BiocGenerics_0.40.0          \n",
       "[37] base64enc_0.1-3               htmltools_0.5.2              \n",
       "[39] SummarizedExperiment_1.24.0   tidyselect_1.1.2             \n",
       "[41] KEGGREST_1.34.0               GenomeInfoDbData_1.2.7       \n",
       "[43] tibble_3.1.7                  interactiveDisplayBase_1.32.0\n",
       "[45] matrixStats_0.62.0            IRanges_2.28.0               \n",
       "[47] fansi_1.0.3                   crayon_1.5.1                 \n",
       "[49] dplyr_1.0.9                   dbplyr_2.2.1                 \n",
       "[51] later_1.3.0                   rhdf5filters_1.6.0           \n",
       "[53] bitops_1.0-7                  rappdirs_0.3.3               \n",
       "[55] grid_4.1.2                    jsonlite_1.8.0               \n",
       "[57] xtable_1.8-4                  lifecycle_1.0.1              \n",
       "[59] DBI_1.1.3                     magrittr_2.0.3               \n",
       "[61] cli_3.3.0                     cachem_1.0.6                 \n",
       "[63] XVector_0.34.0                promises_1.2.0.1             \n",
       "[65] ellipsis_0.3.2                filelock_1.0.2               \n",
       "[67] generics_0.1.2                vctrs_0.4.1                  \n",
       "[69] IRkernel_1.3                  Rhdf5lib_1.16.0              \n",
       "[71] tools_4.1.2                   bit64_4.0.5                  \n",
       "[73] Biobase_2.54.0                glue_1.6.2                   \n",
       "[75] purrr_0.3.4                   BiocVersion_3.14.0           \n",
       "[77] MatrixGenerics_1.6.0          fastmap_1.1.0                \n",
       "[79] yaml_2.3.5                    rhdf5_2.38.1                 \n",
       "[81] AnnotationDbi_1.56.2          BiocManager_1.30.18          \n",
       "[83] ExperimentHub_2.2.1           GenomicRanges_1.46.1         \n",
       "[85] memoise_2.0.1                 pbdZMQ_0.3-7                 "
      ]
     },
     "metadata": {},
     "output_type": "display_data"
    }
   ],
   "source": [
    "sessionInfo()"
   ]
  },
  {
   "cell_type": "code",
   "execution_count": null,
   "id": "a701a15a-0595-4be2-af7b-b679215993dc",
   "metadata": {},
   "outputs": [],
   "source": []
  }
 ],
 "metadata": {
  "kernelspec": {
   "display_name": "R",
   "language": "R",
   "name": "ir"
  },
  "language_info": {
   "codemirror_mode": "r",
   "file_extension": ".r",
   "mimetype": "text/x-r-source",
   "name": "R",
   "pygments_lexer": "r",
   "version": "4.1.2"
  }
 },
 "nbformat": 4,
 "nbformat_minor": 5
}
