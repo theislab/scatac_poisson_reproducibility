{
 "cells": [
  {
   "cell_type": "code",
   "execution_count": 1,
   "id": "dd67819c-9a50-489d-a83a-598c5a60e297",
   "metadata": {},
   "outputs": [
    {
     "name": "stderr",
     "output_type": "stream",
     "text": [
      "Global seed set to 0\n"
     ]
    }
   ],
   "source": [
    "import poisson_atac as patac"
   ]
  },
  {
   "cell_type": "code",
   "execution_count": 2,
   "id": "9d72d4ad-b812-451c-82e3-a78fe728a334",
   "metadata": {},
   "outputs": [],
   "source": [
    "adata = patac.data.load_neurips(only_train=False, convert_counts = False)"
   ]
  },
  {
   "cell_type": "code",
   "execution_count": 6,
   "id": "b25514c6-689a-4997-aa4d-4242ba489d6e",
   "metadata": {},
   "outputs": [
    {
     "name": "stdout",
     "output_type": "stream",
     "text": [
      "Writing barcodes\n",
      "Writing peaks\n",
      "Writing binary matrix\n",
      "Writing count matrix\n",
      "Done!\n"
     ]
    }
   ],
   "source": [
    "patac.data.save_for_seurat(adata, outdir='/lustre/groups/ml01/workspace/laura.martens/atac_poisson_data/benchmark/neurips/')"
   ]
  },
  {
   "cell_type": "code",
   "execution_count": null,
   "id": "68451ce1-f2c3-42f9-a8b2-6b75ddb30438",
   "metadata": {},
   "outputs": [],
   "source": []
  },
  {
   "cell_type": "code",
   "execution_count": 2,
   "id": "adc47a61-0787-4a4a-aaf7-70ba10c8e018",
   "metadata": {},
   "outputs": [
    {
     "name": "stderr",
     "output_type": "stream",
     "text": [
      "Observation names are not unique. To make them unique, call `.obs_names_make_unique`.\n"
     ]
    }
   ],
   "source": [
    "adata = patac.data.load_hematopoiesis(convert_counts = False)"
   ]
  },
  {
   "cell_type": "code",
   "execution_count": 3,
   "id": "91eaef17-24a5-4314-a144-ece670954c35",
   "metadata": {},
   "outputs": [
    {
     "name": "stdout",
     "output_type": "stream",
     "text": [
      "Writing barcodes\n",
      "Writing peaks\n",
      "Writing metadata\n",
      "Writing binary matrix\n",
      "Writing count matrix\n",
      "Done!\n"
     ]
    }
   ],
   "source": [
    "patac.data.save_for_seurat(adata, outdir='/lustre/groups/ml01/workspace/laura.martens/atac_poisson_data/benchmark/satpathy/', sep=[('_', ':'), ('_', '-')])"
   ]
  },
  {
   "cell_type": "code",
   "execution_count": 12,
   "id": "30b107e2-2bd2-4e3e-8929-3affe513cd27",
   "metadata": {},
   "outputs": [
    {
     "data": {
      "text/html": [
       "<div>\n",
       "<style scoped>\n",
       "    .dataframe tbody tr th:only-of-type {\n",
       "        vertical-align: middle;\n",
       "    }\n",
       "\n",
       "    .dataframe tbody tr th {\n",
       "        vertical-align: top;\n",
       "    }\n",
       "\n",
       "    .dataframe thead th {\n",
       "        text-align: right;\n",
       "    }\n",
       "</style>\n",
       "<table border=\"1\" class=\"dataframe\">\n",
       "  <thead>\n",
       "    <tr style=\"text-align: right;\">\n",
       "      <th></th>\n",
       "      <th>Feature</th>\n",
       "      <th>n_cells</th>\n",
       "    </tr>\n",
       "  </thead>\n",
       "  <tbody>\n",
       "    <tr>\n",
       "      <th>chr1:10238-10738</th>\n",
       "      <td>chr1_10238_10738</td>\n",
       "      <td>763</td>\n",
       "    </tr>\n",
       "    <tr>\n",
       "      <th>chr1:237511-238011</th>\n",
       "      <td>chr1_237511_238011</td>\n",
       "      <td>754</td>\n",
       "    </tr>\n",
       "    <tr>\n",
       "      <th>chr1:752456-752956</th>\n",
       "      <td>chr1_752456_752956</td>\n",
       "      <td>2434</td>\n",
       "    </tr>\n",
       "    <tr>\n",
       "      <th>chr1:761853-762353</th>\n",
       "      <td>chr1_761853_762353</td>\n",
       "      <td>828</td>\n",
       "    </tr>\n",
       "    <tr>\n",
       "      <th>chr1:779762-780262</th>\n",
       "      <td>chr1_779762_780262</td>\n",
       "      <td>1225</td>\n",
       "    </tr>\n",
       "    <tr>\n",
       "      <th>...</th>\n",
       "      <td>...</td>\n",
       "      <td>...</td>\n",
       "    </tr>\n",
       "    <tr>\n",
       "      <th>chrX:155196472-155196972</th>\n",
       "      <td>chrX_155196472_155196972</td>\n",
       "      <td>1338</td>\n",
       "    </tr>\n",
       "    <tr>\n",
       "      <th>chrX:155227018-155227518</th>\n",
       "      <td>chrX_155227018_155227518</td>\n",
       "      <td>2129</td>\n",
       "    </tr>\n",
       "    <tr>\n",
       "      <th>chrX:155229940-155230440</th>\n",
       "      <td>chrX_155229940_155230440</td>\n",
       "      <td>712</td>\n",
       "    </tr>\n",
       "    <tr>\n",
       "      <th>chrX:155231135-155231635</th>\n",
       "      <td>chrX_155231135_155231635</td>\n",
       "      <td>3202</td>\n",
       "    </tr>\n",
       "    <tr>\n",
       "      <th>chrX:155260029-155260529</th>\n",
       "      <td>chrX_155260029_155260529</td>\n",
       "      <td>841</td>\n",
       "    </tr>\n",
       "  </tbody>\n",
       "</table>\n",
       "<p>134104 rows × 2 columns</p>\n",
       "</div>"
      ],
      "text/plain": [
       "                                           Feature  n_cells\n",
       "chr1:10238-10738                  chr1_10238_10738      763\n",
       "chr1:237511-238011              chr1_237511_238011      754\n",
       "chr1:752456-752956              chr1_752456_752956     2434\n",
       "chr1:761853-762353              chr1_761853_762353      828\n",
       "chr1:779762-780262              chr1_779762_780262     1225\n",
       "...                                            ...      ...\n",
       "chrX:155196472-155196972  chrX_155196472_155196972     1338\n",
       "chrX:155227018-155227518  chrX_155227018_155227518     2129\n",
       "chrX:155229940-155230440  chrX_155229940_155230440      712\n",
       "chrX:155231135-155231635  chrX_155231135_155231635     3202\n",
       "chrX:155260029-155260529  chrX_155260029_155260529      841\n",
       "\n",
       "[134104 rows x 2 columns]"
      ]
     },
     "execution_count": 12,
     "metadata": {},
     "output_type": "execute_result"
    }
   ],
   "source": [
    "adata.var"
   ]
  },
  {
   "cell_type": "code",
   "execution_count": null,
   "id": "5b785b17-3a3c-4614-acd1-3ba327775304",
   "metadata": {},
   "outputs": [],
   "source": []
  }
 ],
 "metadata": {
  "kernelspec": {
   "display_name": "Python 3 (ipykernel)",
   "language": "python",
   "name": "python3"
  },
  "language_info": {
   "codemirror_mode": {
    "name": "ipython",
    "version": 3
   },
   "file_extension": ".py",
   "mimetype": "text/x-python",
   "name": "python",
   "nbconvert_exporter": "python",
   "pygments_lexer": "ipython3",
   "version": "3.9.12"
  }
 },
 "nbformat": 4,
 "nbformat_minor": 5
}
