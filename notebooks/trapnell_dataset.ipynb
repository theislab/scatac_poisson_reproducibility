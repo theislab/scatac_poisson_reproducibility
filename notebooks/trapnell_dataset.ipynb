{
 "cells": [
  {
   "cell_type": "code",
   "execution_count": 2,
   "id": "67f7c563-e553-46a3-b34f-5ea94becaf2e",
   "metadata": {},
   "outputs": [],
   "source": [
    "setwd('/lustre/groups/ml01/workspace/laura.martens/data/trapnell_sciATAC_fetal_tissue')\n",
    "\n",
    "library(anndata)\n",
    "library(Matrix)\n",
    "library(stringr)"
   ]
  },
  {
   "cell_type": "code",
   "execution_count": 3,
   "id": "1fcb7d94-8fdb-4807-90e2-dc4a35078802",
   "metadata": {},
   "outputs": [
    {
     "name": "stdout",
     "output_type": "stream",
     "text": [
      "[1] \"GSM4508928_adrenal_filtered.seurat.RDS\"\n"
     ]
    },
    {
     "name": "stderr",
     "output_type": "stream",
     "text": [
      "Loading required package: Seurat\n",
      "\n",
      "Warning message:\n",
      "“package ‘Seurat’ was built under R version 4.1.3”\n",
      "Attaching SeuratObject\n",
      "\n",
      "Attaching sp\n",
      "\n"
     ]
    },
    {
     "name": "stdout",
     "output_type": "stream",
     "text": [
      "[1] \"GSM4508929_cerebellum_filtered.seurat.RDS\"\n",
      "[1] \"GSM4508930_cerebrum_filtered.seurat.RDS\"\n",
      "[1] \"GSM4508931_eye_filtered.seurat.RDS\"\n",
      "[1] \"GSM4508932_heart_filtered.seurat.RDS\"\n",
      "[1] \"GSM4508933_intestine_filtered.seurat.RDS\"\n",
      "[1] \"GSM4508934_kidney_filtered.seurat.RDS\"\n",
      "[1] \"GSM4508935_liver_filtered.seurat.RDS\"\n",
      "[1] \"GSM4508936_lung_filtered.seurat.RDS\"\n",
      "[1] \"GSM4508937_muscle_filtered.seurat.RDS\"\n",
      "[1] \"GSM4508938_pancreas_filtered.seurat.RDS\"\n",
      "[1] \"GSM4508939_placenta_filtered.seurat.RDS\"\n",
      "[1] \"GSM4508940_spleen_filtered.seurat.RDS\"\n",
      "[1] \"GSM4508941_stomach_filtered.seurat.RDS\"\n",
      "[1] \"GSM4508942_thymus_filtered.seurat.RDS\"\n"
     ]
    }
   ],
   "source": [
    "for(file in list.files('.', 'seurat.RDS')){\n",
    "    print(file)\n",
    "\n",
    "atac <- readRDS(file)\n",
    "\n",
    "adata <- anndata::AnnData(X = t(atac[['peaks']]@data))\n",
    "\n",
    "# Add meta data\n",
    "adata$obs = atac@meta.data\n",
    "\n",
    "adata$obsm[['RNA']] <- t(atac[['RNA']]@data)\n",
    "\n",
    "# Save embeddings\n",
    "adata$obsm[['pca.l2.harmony']] <- Embeddings(atac, reduction = \"pca.l2.harmony\")\n",
    "adata$obsm[['umap']] <- Embeddings(atac, reduction = \"umap\")\n",
    "\n",
    "# Save gene names\n",
    "adata$uns[['gene_names']] <- rownames(atac[['RNA']]@data)\n",
    "\n",
    "\n",
    "# Save to disk \n",
    "adata$write_h5ad(str_c(str_split(file, '.seurat.RDS', simplify=TRUE)[1], '.h5ad'),\n",
    "                compression = \"gzip\")\n",
    "    }"
   ]
  },
  {
   "cell_type": "code",
   "execution_count": 1,
   "id": "6ee320ba-798e-4e4b-9bff-0a419c6ccc4e",
   "metadata": {},
   "outputs": [
    {
     "data": {
      "text/html": [
       "6"
      ],
      "text/latex": [
       "6"
      ],
      "text/markdown": [
       "6"
      ],
      "text/plain": [
       "[1] 6"
      ]
     },
     "metadata": {},
     "output_type": "display_data"
    }
   ],
   "source": [
    "6"
   ]
  },
  {
   "cell_type": "code",
   "execution_count": null,
   "id": "3dbbac77-4bd1-4871-b9da-7f2e468c589e",
   "metadata": {},
   "outputs": [],
   "source": []
  }
 ],
 "metadata": {
  "kernelspec": {
   "display_name": "R",
   "language": "R",
   "name": "ir"
  },
  "language_info": {
   "codemirror_mode": "r",
   "file_extension": ".r",
   "mimetype": "text/x-r-source",
   "name": "R",
   "pygments_lexer": "r",
   "version": "4.1.2"
  }
 },
 "nbformat": 4,
 "nbformat_minor": 5
}
