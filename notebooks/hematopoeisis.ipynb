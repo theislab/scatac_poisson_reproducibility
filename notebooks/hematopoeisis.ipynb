{
 "cells": [
  {
   "cell_type": "code",
   "execution_count": 1,
   "id": "fd0f1de7-fabc-42a7-85de-0dc34be9bd9c",
   "metadata": {},
   "outputs": [
    {
     "name": "stderr",
     "output_type": "stream",
     "text": [
      "Global seed set to 0\n"
     ]
    }
   ],
   "source": [
    "import poisson_atac as patac\n",
    "import os\n",
    "import pandas as pd\n",
    "import scanpy as sc\n",
    "import numpy as np"
   ]
  },
  {
   "cell_type": "code",
   "execution_count": 2,
   "id": "b260c02c-7115-4631-bfdb-d7d829346d87",
   "metadata": {},
   "outputs": [
    {
     "name": "stderr",
     "output_type": "stream",
     "text": [
      "Observation names are not unique. To make them unique, call `.obs_names_make_unique`.\n"
     ]
    },
    {
     "ename": "NameError",
     "evalue": "name 'np' is not defined",
     "output_type": "error",
     "traceback": [
      "\u001b[0;31m---------------------------------------------------------------------------\u001b[0m",
      "\u001b[0;31mNameError\u001b[0m                                 Traceback (most recent call last)",
      "Input \u001b[0;32mIn [2]\u001b[0m, in \u001b[0;36m<module>\u001b[0;34m\u001b[0m\n\u001b[0;32m----> 1\u001b[0m adata \u001b[38;5;241m=\u001b[39m \u001b[43mpatac\u001b[49m\u001b[38;5;241;43m.\u001b[39;49m\u001b[43mdata\u001b[49m\u001b[38;5;241;43m.\u001b[39;49m\u001b[43mload_hematopoiesis\u001b[49m\u001b[43m(\u001b[49m\u001b[43m)\u001b[49m\n",
      "File \u001b[0;32m/storage/groups/ml01/code/laura.martens/atac_poisson_study/poisson_atac/data/dataloader.py:34\u001b[0m, in \u001b[0;36mload_hematopoiesis\u001b[0;34m(data_path)\u001b[0m\n\u001b[1;32m     32\u001b[0m var\u001b[38;5;241m.\u001b[39mindex \u001b[38;5;241m=\u001b[39m var[\u001b[38;5;124m'\u001b[39m\u001b[38;5;124mFeature\u001b[39m\u001b[38;5;124m'\u001b[39m]\u001b[38;5;241m.\u001b[39mvalues\n\u001b[1;32m     33\u001b[0m adata \u001b[38;5;241m=\u001b[39m ad\u001b[38;5;241m.\u001b[39mAnnData(X\u001b[38;5;241m=\u001b[39mX, obs\u001b[38;5;241m=\u001b[39mobs, var\u001b[38;5;241m=\u001b[39mvar)\n\u001b[0;32m---> 34\u001b[0m adata\u001b[38;5;241m.\u001b[39mobsm[\u001b[38;5;124m\"\u001b[39m\u001b[38;5;124mX_umap\u001b[39m\u001b[38;5;124m\"\u001b[39m] \u001b[38;5;241m=\u001b[39m adata\u001b[38;5;241m.\u001b[39mobs[[\u001b[38;5;124m\"\u001b[39m\u001b[38;5;124mUMAP1\u001b[39m\u001b[38;5;124m\"\u001b[39m, \u001b[38;5;124m\"\u001b[39m\u001b[38;5;124mUMAP2\u001b[39m\u001b[38;5;124m\"\u001b[39m]]\u001b[38;5;241m.\u001b[39mvalues\n\u001b[1;32m     35\u001b[0m keys \u001b[38;5;241m=\u001b[39m (\u001b[38;5;124m\"\u001b[39m\u001b[38;5;124mCluster\u001b[39m\u001b[38;5;124m\"\u001b[39m \u001b[38;5;241m+\u001b[39m pd\u001b[38;5;241m.\u001b[39mSeries(np\u001b[38;5;241m.\u001b[39marange(\u001b[38;5;241m1\u001b[39m,\u001b[38;5;241m32\u001b[39m))\u001b[38;5;241m.\u001b[39mastype(\u001b[38;5;28mstr\u001b[39m))\u001b[38;5;241m.\u001b[39mvalues\n\u001b[1;32m     36\u001b[0m cluster_names \u001b[38;5;241m=\u001b[39m \u001b[38;5;28mdict\u001b[39m(\u001b[38;5;28mzip\u001b[39m(keys, [\u001b[38;5;124m\"\u001b[39m\u001b[38;5;124mHSC\u001b[39m\u001b[38;5;124m\"\u001b[39m,   \u001b[38;5;124m\"\u001b[39m\u001b[38;5;124mMEP\u001b[39m\u001b[38;5;124m\"\u001b[39m,  \u001b[38;5;124m\"\u001b[39m\u001b[38;5;124mCMP-BMP\u001b[39m\u001b[38;5;124m\"\u001b[39m,  \u001b[38;5;124m\"\u001b[39m\u001b[38;5;124mLMPP\u001b[39m\u001b[38;5;124m\"\u001b[39m, \u001b[38;5;124m\"\u001b[39m\u001b[38;5;124mCLP\u001b[39m\u001b[38;5;124m\"\u001b[39m,  \u001b[38;5;124m\"\u001b[39m\u001b[38;5;124mPro-B\u001b[39m\u001b[38;5;124m\"\u001b[39m,    \u001b[38;5;124m\"\u001b[39m\u001b[38;5;124mPre-B\u001b[39m\u001b[38;5;124m\"\u001b[39m,    \u001b[38;5;124m\"\u001b[39m\u001b[38;5;124mGMP\u001b[39m\u001b[38;5;124m\"\u001b[39m,\n\u001b[1;32m     37\u001b[0m                 \u001b[38;5;124m\"\u001b[39m\u001b[38;5;124mMDP\u001b[39m\u001b[38;5;124m\"\u001b[39m,    \u001b[38;5;124m\"\u001b[39m\u001b[38;5;124mpDC\u001b[39m\u001b[38;5;124m\"\u001b[39m,  \u001b[38;5;124m\"\u001b[39m\u001b[38;5;124mcDC\u001b[39m\u001b[38;5;124m\"\u001b[39m,  \u001b[38;5;124m\"\u001b[39m\u001b[38;5;124mMonocyte-1\u001b[39m\u001b[38;5;124m\"\u001b[39m,   \u001b[38;5;124m\"\u001b[39m\u001b[38;5;124mMonocyte-2\u001b[39m\u001b[38;5;124m\"\u001b[39m,   \u001b[38;5;124m\"\u001b[39m\u001b[38;5;124mNaive-B\u001b[39m\u001b[38;5;124m\"\u001b[39m,  \u001b[38;5;124m\"\u001b[39m\u001b[38;5;124mMemory-B\u001b[39m\u001b[38;5;124m\"\u001b[39m,\n\u001b[1;32m     38\u001b[0m                 \u001b[38;5;124m\"\u001b[39m\u001b[38;5;124mPlasma-cell\u001b[39m\u001b[38;5;124m\"\u001b[39m,    \u001b[38;5;124m\"\u001b[39m\u001b[38;5;124mBasophil\u001b[39m\u001b[38;5;124m\"\u001b[39m, \u001b[38;5;124m\"\u001b[39m\u001b[38;5;124mImmature-NK\u001b[39m\u001b[38;5;124m\"\u001b[39m,  \u001b[38;5;124m\"\u001b[39m\u001b[38;5;124mMature-NK1\u001b[39m\u001b[38;5;124m\"\u001b[39m,   \u001b[38;5;124m\"\u001b[39m\u001b[38;5;124mMature-NK2\u001b[39m\u001b[38;5;124m\"\u001b[39m,   \u001b[38;5;124m\"\u001b[39m\u001b[38;5;124mNaive-CD4-T1\u001b[39m\u001b[38;5;124m\"\u001b[39m,\n\u001b[1;32m     39\u001b[0m                 \u001b[38;5;124m\"\u001b[39m\u001b[38;5;124mNaive-CD4-T2\u001b[39m\u001b[38;5;124m\"\u001b[39m,   \u001b[38;5;124m\"\u001b[39m\u001b[38;5;124mNaive-Treg\u001b[39m\u001b[38;5;124m\"\u001b[39m,   \u001b[38;5;124m\"\u001b[39m\u001b[38;5;124mMemory-CD4-T\u001b[39m\u001b[38;5;124m\"\u001b[39m, \u001b[38;5;124m\"\u001b[39m\u001b[38;5;124mTreg\u001b[39m\u001b[38;5;124m\"\u001b[39m, \u001b[38;5;124m\"\u001b[39m\u001b[38;5;124mNaive-CD8-T1\u001b[39m\u001b[38;5;124m\"\u001b[39m, \u001b[38;5;124m\"\u001b[39m\u001b[38;5;124mNaive-CD8-T2\u001b[39m\u001b[38;5;124m\"\u001b[39m,\n\u001b[1;32m     40\u001b[0m                 \u001b[38;5;124m\"\u001b[39m\u001b[38;5;124mNaive-CD8-T3\u001b[39m\u001b[38;5;124m\"\u001b[39m,   \u001b[38;5;124m\"\u001b[39m\u001b[38;5;124mCentral-memory-CD8-T\u001b[39m\u001b[38;5;124m\"\u001b[39m, \u001b[38;5;124m\"\u001b[39m\u001b[38;5;124mEffector-memory-CD8-T\u001b[39m\u001b[38;5;124m\"\u001b[39m,    \u001b[38;5;124m\"\u001b[39m\u001b[38;5;124mGamma delta T\u001b[39m\u001b[38;5;124m\"\u001b[39m]))\n",
      "\u001b[0;31mNameError\u001b[0m: name 'np' is not defined"
     ]
    }
   ],
   "source": [
    "adata = patac.data.load_hematopoiesis()"
   ]
  },
  {
   "cell_type": "code",
   "execution_count": 9,
   "id": "eec89bd9-11aa-487c-969b-bec4e233b33d",
   "metadata": {},
   "outputs": [],
   "source": [
    "adata.obsm[\"X_umap\"] = adata.obs[[\"UMAP1\", \"UMAP2\"]].values"
   ]
  },
  {
   "cell_type": "code",
   "execution_count": null,
   "id": "e04baf72-0e8f-491c-94f5-4414df638e2b",
   "metadata": {},
   "outputs": [],
   "source": [
    "sc.pl.umap(adata, color = \"cell_type\")"
   ]
  },
  {
   "cell_type": "code",
   "execution_count": 30,
   "id": "99b13696-0e7e-4844-b740-4147fc39f160",
   "metadata": {},
   "outputs": [
    {
     "data": {
      "text/plain": [
       "{'Cluster1',\n",
       " 'Cluster10',\n",
       " 'Cluster11',\n",
       " 'Cluster12',\n",
       " 'Cluster13',\n",
       " 'Cluster14',\n",
       " 'Cluster15',\n",
       " 'Cluster16',\n",
       " 'Cluster17',\n",
       " 'Cluster18',\n",
       " 'Cluster19',\n",
       " 'Cluster2',\n",
       " 'Cluster20',\n",
       " 'Cluster21',\n",
       " 'Cluster22',\n",
       " 'Cluster23',\n",
       " 'Cluster24',\n",
       " 'Cluster25',\n",
       " 'Cluster26',\n",
       " 'Cluster27',\n",
       " 'Cluster28',\n",
       " 'Cluster29',\n",
       " 'Cluster3',\n",
       " 'Cluster30',\n",
       " 'Cluster31',\n",
       " 'Cluster4',\n",
       " 'Cluster5',\n",
       " 'Cluster6',\n",
       " 'Cluster7',\n",
       " 'Cluster8',\n",
       " 'Cluster9'}"
      ]
     },
     "execution_count": 30,
     "metadata": {},
     "output_type": "execute_result"
    }
   ],
   "source": [
    "set(adata.obs.Clusters.unique())"
   ]
  },
  {
   "cell_type": "code",
   "execution_count": 33,
   "id": "ef629112-e490-4196-a865-c7480481d488",
   "metadata": {},
   "outputs": [],
   "source": [
    "keys = (\"Cluster\" + pd.Series(np.arange(1,32)).astype(str)).values\n",
    "cluster_names = dict(zip(keys, [\"HSC\",   \"MEP\",  \"CMP-BMP\",  \"LMPP\", \"CLP\",  \"Pro-B\",    \"Pre-B\",    \"GMP\",\n",
    "                  \"MDP\",    \"pDC\",  \"cDC\",  \"Monocyte-1\",   \"Monocyte-2\",   \"Naive-B\",  \"Memory-B\",\n",
    "                  \"Plasma-cell\",    \"Basophil\", \"Immature-NK\",  \"Mature-NK1\",   \"Mature-NK2\",   \"Naive-CD4-T1\",\n",
    "                  \"Naive-CD4-T2\",   \"Naive-Treg\",   \"Memory-CD4-T\", \"Treg\", \"Naive-CD8-T1\", \"Naive-CD8-T2\",\n",
    "                  \"Naive-CD8-T3\",   \"Central-memory-CD8-T\", \"Effector-memory-CD8-T\",    \"Gamma delta T\"]))"
   ]
  },
  {
   "cell_type": "code",
   "execution_count": 35,
   "id": "2db8f156-8226-4d06-b68d-11b7f574326c",
   "metadata": {},
   "outputs": [],
   "source": [
    "adata.obs[\"cell_type\"] = adata.obs[\"Clusters\"].map(cluster_names)"
   ]
  },
  {
   "cell_type": "code",
   "execution_count": 38,
   "id": "2c9c9e17-195b-4e9b-a5da-586cb8f082c1",
   "metadata": {},
   "outputs": [
    {
     "data": {
      "text/plain": [
       "'/storage/groups/ml01/workspace/laura.martens/atac_poisson_data/data/GSE129785_scATAC-Hematopoiesis/GSE129785_scATAC-Hematopoiesis.h5ad'"
      ]
     },
     "execution_count": 38,
     "metadata": {},
     "output_type": "execute_result"
    }
   ],
   "source": [
    "data_path = '/storage/groups/ml01/workspace/laura.martens/atac_poisson_data/data'\n",
    "os.path.join(data_path, \"GSE129785_scATAC-Hematopoiesis\", \"GSE129785_scATAC-Hematopoiesis.h5ad\")"
   ]
  },
  {
   "cell_type": "code",
   "execution_count": null,
   "id": "1b71da62-7a28-4f4f-af3d-10daa89be7d1",
   "metadata": {},
   "outputs": [],
   "source": []
  }
 ],
 "metadata": {
  "kernelspec": {
   "display_name": "Python 3 (ipykernel)",
   "language": "python",
   "name": "python3"
  },
  "language_info": {
   "codemirror_mode": {
    "name": "ipython",
    "version": 3
   },
   "file_extension": ".py",
   "mimetype": "text/x-python",
   "name": "python",
   "nbconvert_exporter": "python",
   "pygments_lexer": "ipython3",
   "version": "3.9.7"
  }
 },
 "nbformat": 4,
 "nbformat_minor": 5
}
