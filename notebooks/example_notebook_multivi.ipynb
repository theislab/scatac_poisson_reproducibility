{
 "cells": [
  {
   "cell_type": "code",
   "execution_count": 1,
   "id": "de302957-a061-4ef5-a334-7ac41a29a7d2",
   "metadata": {},
   "outputs": [
    {
     "name": "stderr",
     "output_type": "stream",
     "text": [
      "Global seed set to 0\n"
     ]
    }
   ],
   "source": [
    "%load_ext autoreload\n",
    "%autoreload 2\n",
    "\n",
    "import poisson_atac as patac\n",
    "import scanpy as sc\n",
    "import os\n",
    "import anndata as ad\n",
    "import wandb\n",
    "from pytorch_lightning.loggers import WandbLogger"
   ]
  },
  {
   "cell_type": "code",
   "execution_count": 2,
   "id": "ed69008d-a618-4e40-9dfa-0a557c2c3fff",
   "metadata": {},
   "outputs": [
    {
     "data": {
      "text/plain": [
       "'0.0.0'"
      ]
     },
     "execution_count": 2,
     "metadata": {},
     "output_type": "execute_result"
    }
   ],
   "source": [
    "import scvi\n",
    "scvi.__version__"
   ]
  },
  {
   "cell_type": "markdown",
   "id": "3df0f420-88a9-49d4-a7a5-af4c556f50f4",
   "metadata": {},
   "source": [
    "# Read in Neurips data"
   ]
  },
  {
   "cell_type": "code",
   "execution_count": 3,
   "id": "89b56692-7fc7-47eb-b116-eed270efe23e",
   "metadata": {},
   "outputs": [],
   "source": [
    "data_path = '/storage/groups/ml01/workspace/laura.martens/atac_poisson_data/data'"
   ]
  },
  {
   "cell_type": "code",
   "execution_count": 4,
   "id": "f5cfda8d-7feb-41ff-9167-1dc1755a2d8f",
   "metadata": {},
   "outputs": [
    {
     "name": "stdout",
     "output_type": "stream",
     "text": [
      "Index(['pct_counts_mt', 'n_counts', 'n_genes', 'size_factors', 'phase',\n",
      "       'cell_type', 'pseudotime_order_GEX', 'batch', 'pseudotime_order_ATAC',\n",
      "       'is_train', 'nCount_peaks', 'atac_fragments', 'reads_in_peaks_frac',\n",
      "       'blacklist_fraction', 'nucleosome_signal', 'size_factor'],\n",
      "      dtype='object')\n"
     ]
    }
   ],
   "source": [
    "adata = patac.data.load_neurips(data_path, batch=['s1d1', 's1d2'], gex=False, multiome=True, convert_counts=True)"
   ]
  },
  {
   "cell_type": "code",
   "execution_count": 5,
   "id": "45a594d7-5c58-4faf-85f8-95a8ef5dff1a",
   "metadata": {},
   "outputs": [
    {
     "data": {
      "text/html": [
       "<div>\n",
       "<style scoped>\n",
       "    .dataframe tbody tr th:only-of-type {\n",
       "        vertical-align: middle;\n",
       "    }\n",
       "\n",
       "    .dataframe tbody tr th {\n",
       "        vertical-align: top;\n",
       "    }\n",
       "\n",
       "    .dataframe thead th {\n",
       "        text-align: right;\n",
       "    }\n",
       "</style>\n",
       "<table border=\"1\" class=\"dataframe\">\n",
       "  <thead>\n",
       "    <tr style=\"text-align: right;\">\n",
       "      <th></th>\n",
       "      <th>feature_types</th>\n",
       "      <th>modality</th>\n",
       "    </tr>\n",
       "  </thead>\n",
       "  <tbody>\n",
       "    <tr>\n",
       "      <th>AL627309.5</th>\n",
       "      <td>GEX</td>\n",
       "      <td>Gene Expression</td>\n",
       "    </tr>\n",
       "    <tr>\n",
       "      <th>LINC01409</th>\n",
       "      <td>GEX</td>\n",
       "      <td>Gene Expression</td>\n",
       "    </tr>\n",
       "    <tr>\n",
       "      <th>LINC01128</th>\n",
       "      <td>GEX</td>\n",
       "      <td>Gene Expression</td>\n",
       "    </tr>\n",
       "    <tr>\n",
       "      <th>NOC2L</th>\n",
       "      <td>GEX</td>\n",
       "      <td>Gene Expression</td>\n",
       "    </tr>\n",
       "    <tr>\n",
       "      <th>KLHL17</th>\n",
       "      <td>GEX</td>\n",
       "      <td>Gene Expression</td>\n",
       "    </tr>\n",
       "    <tr>\n",
       "      <th>...</th>\n",
       "      <td>...</td>\n",
       "      <td>...</td>\n",
       "    </tr>\n",
       "    <tr>\n",
       "      <th>GL000219.1-90062-90937</th>\n",
       "      <td>ATAC</td>\n",
       "      <td>Peaks</td>\n",
       "    </tr>\n",
       "    <tr>\n",
       "      <th>GL000219.1-99257-100160</th>\n",
       "      <td>ATAC</td>\n",
       "      <td>Peaks</td>\n",
       "    </tr>\n",
       "    <tr>\n",
       "      <th>KI270726.1-27152-28034</th>\n",
       "      <td>ATAC</td>\n",
       "      <td>Peaks</td>\n",
       "    </tr>\n",
       "    <tr>\n",
       "      <th>KI270713.1-21434-22336</th>\n",
       "      <td>ATAC</td>\n",
       "      <td>Peaks</td>\n",
       "    </tr>\n",
       "    <tr>\n",
       "      <th>KI270713.1-29629-30491</th>\n",
       "      <td>ATAC</td>\n",
       "      <td>Peaks</td>\n",
       "    </tr>\n",
       "  </tbody>\n",
       "</table>\n",
       "<p>129921 rows × 2 columns</p>\n",
       "</div>"
      ],
      "text/plain": [
       "                        feature_types         modality\n",
       "AL627309.5                        GEX  Gene Expression\n",
       "LINC01409                         GEX  Gene Expression\n",
       "LINC01128                         GEX  Gene Expression\n",
       "NOC2L                             GEX  Gene Expression\n",
       "KLHL17                            GEX  Gene Expression\n",
       "...                               ...              ...\n",
       "GL000219.1-90062-90937           ATAC            Peaks\n",
       "GL000219.1-99257-100160          ATAC            Peaks\n",
       "KI270726.1-27152-28034           ATAC            Peaks\n",
       "KI270713.1-21434-22336           ATAC            Peaks\n",
       "KI270713.1-29629-30491           ATAC            Peaks\n",
       "\n",
       "[129921 rows x 2 columns]"
      ]
     },
     "execution_count": 5,
     "metadata": {},
     "output_type": "execute_result"
    }
   ],
   "source": [
    "adata.var"
   ]
  },
  {
   "cell_type": "code",
   "execution_count": 6,
   "id": "acf17f44-e56c-4474-ad95-128b114ba9bb",
   "metadata": {},
   "outputs": [
    {
     "name": "stderr",
     "output_type": "stream",
     "text": [
      "/home/icb/laura.martens/miniconda3/envs/poisson_atac_new/lib/python3.9/site-packages/anndata/_core/anndata.py:882: FutureWarning: X.dtype being converted to np.float32 from float64. In the next version of anndata (0.9) conversion will not be automatic. Pass dtype explicitly to avoid this warning. Pass `AnnData(X, dtype=X.dtype, ...)` to get the future behavour.\n",
      "  self._set_dim_df(value, \"var\")\n"
     ]
    }
   ],
   "source": [
    "adata_mvi = scvi.data.organize_multiome_anndatas(adata)\n"
   ]
  },
  {
   "cell_type": "code",
   "execution_count": 7,
   "id": "f1bbe55a-6457-42f8-a79d-4eb10dc43e07",
   "metadata": {},
   "outputs": [
    {
     "data": {
      "text/html": [
       "<div>\n",
       "<style scoped>\n",
       "    .dataframe tbody tr th:only-of-type {\n",
       "        vertical-align: middle;\n",
       "    }\n",
       "\n",
       "    .dataframe tbody tr th {\n",
       "        vertical-align: top;\n",
       "    }\n",
       "\n",
       "    .dataframe thead th {\n",
       "        text-align: right;\n",
       "    }\n",
       "</style>\n",
       "<table border=\"1\" class=\"dataframe\">\n",
       "  <thead>\n",
       "    <tr style=\"text-align: right;\">\n",
       "      <th></th>\n",
       "      <th>feature_types</th>\n",
       "      <th>modality</th>\n",
       "    </tr>\n",
       "  </thead>\n",
       "  <tbody>\n",
       "    <tr>\n",
       "      <th>AL627309.5</th>\n",
       "      <td>GEX</td>\n",
       "      <td>Gene Expression</td>\n",
       "    </tr>\n",
       "    <tr>\n",
       "      <th>ACTR10</th>\n",
       "      <td>GEX</td>\n",
       "      <td>Gene Expression</td>\n",
       "    </tr>\n",
       "    <tr>\n",
       "      <th>PSMA3</th>\n",
       "      <td>GEX</td>\n",
       "      <td>Gene Expression</td>\n",
       "    </tr>\n",
       "    <tr>\n",
       "      <th>PSMA3-AS1</th>\n",
       "      <td>GEX</td>\n",
       "      <td>Gene Expression</td>\n",
       "    </tr>\n",
       "    <tr>\n",
       "      <th>ARID4A</th>\n",
       "      <td>GEX</td>\n",
       "      <td>Gene Expression</td>\n",
       "    </tr>\n",
       "    <tr>\n",
       "      <th>...</th>\n",
       "      <td>...</td>\n",
       "      <td>...</td>\n",
       "    </tr>\n",
       "    <tr>\n",
       "      <th>chr15-93164143-93165006</th>\n",
       "      <td>ATAC</td>\n",
       "      <td>Peaks</td>\n",
       "    </tr>\n",
       "    <tr>\n",
       "      <th>chr15-93152026-93152897</th>\n",
       "      <td>ATAC</td>\n",
       "      <td>Peaks</td>\n",
       "    </tr>\n",
       "    <tr>\n",
       "      <th>chr15-93141085-93141988</th>\n",
       "      <td>ATAC</td>\n",
       "      <td>Peaks</td>\n",
       "    </tr>\n",
       "    <tr>\n",
       "      <th>chr15-94206321-94207192</th>\n",
       "      <td>ATAC</td>\n",
       "      <td>Peaks</td>\n",
       "    </tr>\n",
       "    <tr>\n",
       "      <th>KI270713.1-29629-30491</th>\n",
       "      <td>ATAC</td>\n",
       "      <td>Peaks</td>\n",
       "    </tr>\n",
       "  </tbody>\n",
       "</table>\n",
       "<p>129921 rows × 2 columns</p>\n",
       "</div>"
      ],
      "text/plain": [
       "                        feature_types         modality\n",
       "AL627309.5                        GEX  Gene Expression\n",
       "ACTR10                            GEX  Gene Expression\n",
       "PSMA3                             GEX  Gene Expression\n",
       "PSMA3-AS1                         GEX  Gene Expression\n",
       "ARID4A                            GEX  Gene Expression\n",
       "...                               ...              ...\n",
       "chr15-93164143-93165006          ATAC            Peaks\n",
       "chr15-93152026-93152897          ATAC            Peaks\n",
       "chr15-93141085-93141988          ATAC            Peaks\n",
       "chr15-94206321-94207192          ATAC            Peaks\n",
       "KI270713.1-29629-30491           ATAC            Peaks\n",
       "\n",
       "[129921 rows x 2 columns]"
      ]
     },
     "execution_count": 7,
     "metadata": {},
     "output_type": "execute_result"
    }
   ],
   "source": [
    "adata_mvi = adata_mvi[:, adata_mvi.var[\"modality\"].argsort()].copy()\n",
    "adata_mvi.var"
   ]
  },
  {
   "cell_type": "markdown",
   "id": "ef3d05e1-5bd0-4465-a540-9fdff23f6dc1",
   "metadata": {},
   "source": [
    "# Setup model Poisson loss"
   ]
  },
  {
   "cell_type": "code",
   "execution_count": 12,
   "id": "8167fc72-f7ac-4aa0-9d97-8816e2a676d5",
   "metadata": {},
   "outputs": [
    {
     "data": {
      "text/plain": [
       "AnnData object with n_obs × n_vars = 11685 × 129921\n",
       "    obs: 'pct_counts_mt', 'n_counts', 'n_genes', 'size_factors', 'phase', 'cell_type', 'pseudotime_order_GEX', 'batch', 'pseudotime_order_ATAC', 'is_train', 'nCount_peaks', 'atac_fragments', 'reads_in_peaks_frac', 'blacklist_fraction', 'nucleosome_signal', 'size_factor', 'modality', '_scvi_batch', '_scvi_labels'\n",
       "    var: 'feature_types', 'modality'\n",
       "    uns: '_scvi_uuid', '_scvi_manager_uuid'\n",
       "    obsm: 'X_pca', 'X_umap', 'gene_activity', 'lsi_full', 'lsi_red', 'umap', '_scvi_extra_categorical_covs'\n",
       "    layers: 'counts'"
      ]
     },
     "execution_count": 12,
     "metadata": {},
     "output_type": "execute_result"
    }
   ],
   "source": [
    "adata_mvi"
   ]
  },
  {
   "cell_type": "code",
   "execution_count": 13,
   "id": "5fff4a86-31af-482c-a4c2-aee1f7ae929e",
   "metadata": {},
   "outputs": [],
   "source": [
    "patac.model.MULTIVI.setup_anndata(adata_mvi, batch_key='modality',\n",
    "    size_factor_key = 'n_counts', layer='counts', categorical_covariate_keys=['batch'])"
   ]
  },
  {
   "cell_type": "code",
   "execution_count": 14,
   "id": "80bc25d0-f3ea-40a0-b974-9b97cab148ef",
   "metadata": {},
   "outputs": [
    {
     "data": {
      "text/html": [
       "<pre style=\"white-space:pre;overflow-x:auto;line-height:normal;font-family:Menlo,'DejaVu Sans Mono',consolas,'Courier New',monospace\">Anndata setup with scvi-tools version <span style=\"color: #008080; text-decoration-color: #008080; font-weight: bold\">0.0</span>.<span style=\"color: #008080; text-decoration-color: #008080; font-weight: bold\">0</span>.\n",
       "</pre>\n"
      ],
      "text/plain": [
       "Anndata setup with scvi-tools version \u001b[1;36m0.0\u001b[0m.\u001b[1;36m0\u001b[0m.\n"
      ]
     },
     "metadata": {},
     "output_type": "display_data"
    },
    {
     "data": {
      "text/html": [
       "<pre style=\"white-space:pre;overflow-x:auto;line-height:normal;font-family:Menlo,'DejaVu Sans Mono',consolas,'Courier New',monospace\">\n",
       "</pre>\n"
      ],
      "text/plain": [
       "\n"
      ]
     },
     "metadata": {},
     "output_type": "display_data"
    },
    {
     "data": {
      "text/html": [
       "<pre style=\"white-space:pre;overflow-x:auto;line-height:normal;font-family:Menlo,'DejaVu Sans Mono',consolas,'Courier New',monospace\">Setup via `MULTIVI.setup_anndata` with arguments:\n",
       "</pre>\n"
      ],
      "text/plain": [
       "Setup via `MULTIVI.setup_anndata` with arguments:\n"
      ]
     },
     "metadata": {},
     "output_type": "display_data"
    },
    {
     "data": {
      "text/html": [
       "<pre style=\"white-space:pre;overflow-x:auto;line-height:normal;font-family:Menlo,'DejaVu Sans Mono',consolas,'Courier New',monospace\"><span style=\"font-weight: bold\">{</span>\n",
       "<span style=\"color: #7fbf7f; text-decoration-color: #7fbf7f\">│   </span><span style=\"color: #008000; text-decoration-color: #008000\">'layer'</span>: <span style=\"color: #008000; text-decoration-color: #008000\">'counts'</span>,\n",
       "<span style=\"color: #7fbf7f; text-decoration-color: #7fbf7f\">│   </span><span style=\"color: #008000; text-decoration-color: #008000\">'batch_key'</span>: <span style=\"color: #008000; text-decoration-color: #008000\">'modality'</span>,\n",
       "<span style=\"color: #7fbf7f; text-decoration-color: #7fbf7f\">│   </span><span style=\"color: #008000; text-decoration-color: #008000\">'size_factor_key'</span>: <span style=\"color: #008000; text-decoration-color: #008000\">'n_counts'</span>,\n",
       "<span style=\"color: #7fbf7f; text-decoration-color: #7fbf7f\">│   </span><span style=\"color: #008000; text-decoration-color: #008000\">'categorical_covariate_keys'</span>: <span style=\"font-weight: bold\">[</span><span style=\"color: #008000; text-decoration-color: #008000\">'batch'</span><span style=\"font-weight: bold\">]</span>,\n",
       "<span style=\"color: #7fbf7f; text-decoration-color: #7fbf7f\">│   </span><span style=\"color: #008000; text-decoration-color: #008000\">'continuous_covariate_keys'</span>: <span style=\"color: #800080; text-decoration-color: #800080; font-style: italic\">None</span>\n",
       "<span style=\"font-weight: bold\">}</span>\n",
       "</pre>\n"
      ],
      "text/plain": [
       "\u001b[1m{\u001b[0m\n",
       "\u001b[2;32m│   \u001b[0m\u001b[32m'layer'\u001b[0m: \u001b[32m'counts'\u001b[0m,\n",
       "\u001b[2;32m│   \u001b[0m\u001b[32m'batch_key'\u001b[0m: \u001b[32m'modality'\u001b[0m,\n",
       "\u001b[2;32m│   \u001b[0m\u001b[32m'size_factor_key'\u001b[0m: \u001b[32m'n_counts'\u001b[0m,\n",
       "\u001b[2;32m│   \u001b[0m\u001b[32m'categorical_covariate_keys'\u001b[0m: \u001b[1m[\u001b[0m\u001b[32m'batch'\u001b[0m\u001b[1m]\u001b[0m,\n",
       "\u001b[2;32m│   \u001b[0m\u001b[32m'continuous_covariate_keys'\u001b[0m: \u001b[3;35mNone\u001b[0m\n",
       "\u001b[1m}\u001b[0m\n"
      ]
     },
     "metadata": {},
     "output_type": "display_data"
    },
    {
     "data": {
      "text/html": [
       "<pre style=\"white-space:pre;overflow-x:auto;line-height:normal;font-family:Menlo,'DejaVu Sans Mono',consolas,'Courier New',monospace\">\n",
       "</pre>\n"
      ],
      "text/plain": [
       "\n"
      ]
     },
     "metadata": {},
     "output_type": "display_data"
    },
    {
     "data": {
      "text/html": [
       "<pre style=\"white-space:pre;overflow-x:auto;line-height:normal;font-family:Menlo,'DejaVu Sans Mono',consolas,'Courier New',monospace\"><span style=\"font-style: italic\">         Summary Statistics          </span>\n",
       "┏━━━━━━━━━━━━━━━━━━━━━━━━━━┳━━━━━━━━┓\n",
       "┃<span style=\"font-weight: bold\">     Summary Stat Key     </span>┃<span style=\"font-weight: bold\"> Value  </span>┃\n",
       "┡━━━━━━━━━━━━━━━━━━━━━━━━━━╇━━━━━━━━┩\n",
       "│<span style=\"color: #0087ff; text-decoration-color: #0087ff\">         n_cells          </span>│<span style=\"color: #af00d7; text-decoration-color: #af00d7\"> 11685  </span>│\n",
       "│<span style=\"color: #0087ff; text-decoration-color: #0087ff\">          n_vars          </span>│<span style=\"color: #af00d7; text-decoration-color: #af00d7\"> 129921 </span>│\n",
       "│<span style=\"color: #0087ff; text-decoration-color: #0087ff\">         n_batch          </span>│<span style=\"color: #af00d7; text-decoration-color: #af00d7\">   1    </span>│\n",
       "│<span style=\"color: #0087ff; text-decoration-color: #0087ff\"> n_extra_categorical_covs </span>│<span style=\"color: #af00d7; text-decoration-color: #af00d7\">   1    </span>│\n",
       "│<span style=\"color: #0087ff; text-decoration-color: #0087ff\"> n_extra_continuous_covs  </span>│<span style=\"color: #af00d7; text-decoration-color: #af00d7\">   0    </span>│\n",
       "└──────────────────────────┴────────┘\n",
       "</pre>\n"
      ],
      "text/plain": [
       "\u001b[3m         Summary Statistics          \u001b[0m\n",
       "┏━━━━━━━━━━━━━━━━━━━━━━━━━━┳━━━━━━━━┓\n",
       "┃\u001b[1m \u001b[0m\u001b[1m    Summary Stat Key    \u001b[0m\u001b[1m \u001b[0m┃\u001b[1m \u001b[0m\u001b[1mValue \u001b[0m\u001b[1m \u001b[0m┃\n",
       "┡━━━━━━━━━━━━━━━━━━━━━━━━━━╇━━━━━━━━┩\n",
       "│\u001b[38;5;33m \u001b[0m\u001b[38;5;33m        n_cells         \u001b[0m\u001b[38;5;33m \u001b[0m│\u001b[38;5;128m \u001b[0m\u001b[38;5;128m11685 \u001b[0m\u001b[38;5;128m \u001b[0m│\n",
       "│\u001b[38;5;33m \u001b[0m\u001b[38;5;33m         n_vars         \u001b[0m\u001b[38;5;33m \u001b[0m│\u001b[38;5;128m \u001b[0m\u001b[38;5;128m129921\u001b[0m\u001b[38;5;128m \u001b[0m│\n",
       "│\u001b[38;5;33m \u001b[0m\u001b[38;5;33m        n_batch         \u001b[0m\u001b[38;5;33m \u001b[0m│\u001b[38;5;128m \u001b[0m\u001b[38;5;128m  1   \u001b[0m\u001b[38;5;128m \u001b[0m│\n",
       "│\u001b[38;5;33m \u001b[0m\u001b[38;5;33mn_extra_categorical_covs\u001b[0m\u001b[38;5;33m \u001b[0m│\u001b[38;5;128m \u001b[0m\u001b[38;5;128m  1   \u001b[0m\u001b[38;5;128m \u001b[0m│\n",
       "│\u001b[38;5;33m \u001b[0m\u001b[38;5;33mn_extra_continuous_covs \u001b[0m\u001b[38;5;33m \u001b[0m│\u001b[38;5;128m \u001b[0m\u001b[38;5;128m  0   \u001b[0m\u001b[38;5;128m \u001b[0m│\n",
       "└──────────────────────────┴────────┘\n"
      ]
     },
     "metadata": {},
     "output_type": "display_data"
    },
    {
     "data": {
      "text/html": [
       "<pre style=\"white-space:pre;overflow-x:auto;line-height:normal;font-family:Menlo,'DejaVu Sans Mono',consolas,'Courier New',monospace\"><span style=\"font-style: italic\">                             Data Registry                             </span>\n",
       "┏━━━━━━━━━━━━━━━━━━━━━━━━┳━━━━━━━━━━━━━━━━━━━━━━━━━━━━━━━━━━━━━━━━━━━━┓\n",
       "┃<span style=\"font-weight: bold\">      Registry Key      </span>┃<span style=\"font-weight: bold\">            scvi-tools Location             </span>┃\n",
       "┡━━━━━━━━━━━━━━━━━━━━━━━━╇━━━━━━━━━━━━━━━━━━━━━━━━━━━━━━━━━━━━━━━━━━━━┩\n",
       "│<span style=\"color: #0087ff; text-decoration-color: #0087ff\">           X            </span>│<span style=\"color: #af00d7; text-decoration-color: #af00d7\">           adata.layers['counts']           </span>│\n",
       "│<span style=\"color: #0087ff; text-decoration-color: #0087ff\">         batch          </span>│<span style=\"color: #af00d7; text-decoration-color: #af00d7\">          adata.obs['_scvi_batch']          </span>│\n",
       "│<span style=\"color: #0087ff; text-decoration-color: #0087ff\">      size_factor       </span>│<span style=\"color: #af00d7; text-decoration-color: #af00d7\">           adata.obs['n_counts']            </span>│\n",
       "│<span style=\"color: #0087ff; text-decoration-color: #0087ff\"> extra_categorical_covs </span>│<span style=\"color: #af00d7; text-decoration-color: #af00d7\"> adata.obsm['_scvi_extra_categorical_covs'] </span>│\n",
       "└────────────────────────┴────────────────────────────────────────────┘\n",
       "</pre>\n"
      ],
      "text/plain": [
       "\u001b[3m                             Data Registry                             \u001b[0m\n",
       "┏━━━━━━━━━━━━━━━━━━━━━━━━┳━━━━━━━━━━━━━━━━━━━━━━━━━━━━━━━━━━━━━━━━━━━━┓\n",
       "┃\u001b[1m \u001b[0m\u001b[1m     Registry Key     \u001b[0m\u001b[1m \u001b[0m┃\u001b[1m \u001b[0m\u001b[1m           scvi-tools Location            \u001b[0m\u001b[1m \u001b[0m┃\n",
       "┡━━━━━━━━━━━━━━━━━━━━━━━━╇━━━━━━━━━━━━━━━━━━━━━━━━━━━━━━━━━━━━━━━━━━━━┩\n",
       "│\u001b[38;5;33m \u001b[0m\u001b[38;5;33m          X           \u001b[0m\u001b[38;5;33m \u001b[0m│\u001b[38;5;128m \u001b[0m\u001b[38;5;128m          adata.layers['counts']          \u001b[0m\u001b[38;5;128m \u001b[0m│\n",
       "│\u001b[38;5;33m \u001b[0m\u001b[38;5;33m        batch         \u001b[0m\u001b[38;5;33m \u001b[0m│\u001b[38;5;128m \u001b[0m\u001b[38;5;128m         adata.obs['_scvi_batch']         \u001b[0m\u001b[38;5;128m \u001b[0m│\n",
       "│\u001b[38;5;33m \u001b[0m\u001b[38;5;33m     size_factor      \u001b[0m\u001b[38;5;33m \u001b[0m│\u001b[38;5;128m \u001b[0m\u001b[38;5;128m          adata.obs['n_counts']           \u001b[0m\u001b[38;5;128m \u001b[0m│\n",
       "│\u001b[38;5;33m \u001b[0m\u001b[38;5;33mextra_categorical_covs\u001b[0m\u001b[38;5;33m \u001b[0m│\u001b[38;5;128m \u001b[0m\u001b[38;5;128madata.obsm['_scvi_extra_categorical_covs']\u001b[0m\u001b[38;5;128m \u001b[0m│\n",
       "└────────────────────────┴────────────────────────────────────────────┘\n"
      ]
     },
     "metadata": {},
     "output_type": "display_data"
    },
    {
     "data": {
      "text/html": [
       "<pre style=\"white-space:pre;overflow-x:auto;line-height:normal;font-family:Menlo,'DejaVu Sans Mono',consolas,'Courier New',monospace\"><span style=\"font-style: italic\">                    batch State Registry                    </span>\n",
       "┏━━━━━━━━━━━━━━━━━━━━━━━┳━━━━━━━━━━━━┳━━━━━━━━━━━━━━━━━━━━━┓\n",
       "┃<span style=\"font-weight: bold\">    Source Location    </span>┃<span style=\"font-weight: bold\"> Categories </span>┃<span style=\"font-weight: bold\"> scvi-tools Encoding </span>┃\n",
       "┡━━━━━━━━━━━━━━━━━━━━━━━╇━━━━━━━━━━━━╇━━━━━━━━━━━━━━━━━━━━━┩\n",
       "│<span style=\"color: #0087ff; text-decoration-color: #0087ff\"> adata.obs['modality'] </span>│<span style=\"color: #008000; text-decoration-color: #008000\">   paired   </span>│<span style=\"color: #af00d7; text-decoration-color: #af00d7\">          0          </span>│\n",
       "└───────────────────────┴────────────┴─────────────────────┘\n",
       "</pre>\n"
      ],
      "text/plain": [
       "\u001b[3m                    batch State Registry                    \u001b[0m\n",
       "┏━━━━━━━━━━━━━━━━━━━━━━━┳━━━━━━━━━━━━┳━━━━━━━━━━━━━━━━━━━━━┓\n",
       "┃\u001b[1m \u001b[0m\u001b[1m   Source Location   \u001b[0m\u001b[1m \u001b[0m┃\u001b[1m \u001b[0m\u001b[1mCategories\u001b[0m\u001b[1m \u001b[0m┃\u001b[1m \u001b[0m\u001b[1mscvi-tools Encoding\u001b[0m\u001b[1m \u001b[0m┃\n",
       "┡━━━━━━━━━━━━━━━━━━━━━━━╇━━━━━━━━━━━━╇━━━━━━━━━━━━━━━━━━━━━┩\n",
       "│\u001b[38;5;33m \u001b[0m\u001b[38;5;33madata.obs['modality']\u001b[0m\u001b[38;5;33m \u001b[0m│\u001b[32m \u001b[0m\u001b[32m  paired  \u001b[0m\u001b[32m \u001b[0m│\u001b[38;5;128m \u001b[0m\u001b[38;5;128m         0         \u001b[0m\u001b[38;5;128m \u001b[0m│\n",
       "└───────────────────────┴────────────┴─────────────────────┘\n"
      ]
     },
     "metadata": {},
     "output_type": "display_data"
    },
    {
     "data": {
      "text/html": [
       "<pre style=\"white-space:pre;overflow-x:auto;line-height:normal;font-family:Menlo,'DejaVu Sans Mono',consolas,'Courier New',monospace\"><span style=\"font-style: italic\">          extra_categorical_covs State Registry          </span>\n",
       "┏━━━━━━━━━━━━━━━━━━━━┳━━━━━━━━━━━━┳━━━━━━━━━━━━━━━━━━━━━┓\n",
       "┃<span style=\"font-weight: bold\">  Source Location   </span>┃<span style=\"font-weight: bold\"> Categories </span>┃<span style=\"font-weight: bold\"> scvi-tools Encoding </span>┃\n",
       "┡━━━━━━━━━━━━━━━━━━━━╇━━━━━━━━━━━━╇━━━━━━━━━━━━━━━━━━━━━┩\n",
       "│<span style=\"color: #0087ff; text-decoration-color: #0087ff\"> adata.obs['batch'] </span>│<span style=\"color: #008000; text-decoration-color: #008000\">    s1d1    </span>│<span style=\"color: #af00d7; text-decoration-color: #af00d7\">          0          </span>│\n",
       "│<span style=\"color: #0087ff; text-decoration-color: #0087ff\">                    </span>│<span style=\"color: #008000; text-decoration-color: #008000\">    s1d2    </span>│<span style=\"color: #af00d7; text-decoration-color: #af00d7\">          1          </span>│\n",
       "│<span style=\"color: #0087ff; text-decoration-color: #0087ff\">                    </span>│<span style=\"color: #008000; text-decoration-color: #008000\">            </span>│<span style=\"color: #af00d7; text-decoration-color: #af00d7\">                     </span>│\n",
       "└────────────────────┴────────────┴─────────────────────┘\n",
       "</pre>\n"
      ],
      "text/plain": [
       "\u001b[3m          extra_categorical_covs State Registry          \u001b[0m\n",
       "┏━━━━━━━━━━━━━━━━━━━━┳━━━━━━━━━━━━┳━━━━━━━━━━━━━━━━━━━━━┓\n",
       "┃\u001b[1m \u001b[0m\u001b[1m Source Location  \u001b[0m\u001b[1m \u001b[0m┃\u001b[1m \u001b[0m\u001b[1mCategories\u001b[0m\u001b[1m \u001b[0m┃\u001b[1m \u001b[0m\u001b[1mscvi-tools Encoding\u001b[0m\u001b[1m \u001b[0m┃\n",
       "┡━━━━━━━━━━━━━━━━━━━━╇━━━━━━━━━━━━╇━━━━━━━━━━━━━━━━━━━━━┩\n",
       "│\u001b[38;5;33m \u001b[0m\u001b[38;5;33madata.obs['batch']\u001b[0m\u001b[38;5;33m \u001b[0m│\u001b[32m \u001b[0m\u001b[32m   s1d1   \u001b[0m\u001b[32m \u001b[0m│\u001b[38;5;128m \u001b[0m\u001b[38;5;128m         0         \u001b[0m\u001b[38;5;128m \u001b[0m│\n",
       "│\u001b[38;5;33m \u001b[0m\u001b[38;5;33m                  \u001b[0m\u001b[38;5;33m \u001b[0m│\u001b[32m \u001b[0m\u001b[32m   s1d2   \u001b[0m\u001b[32m \u001b[0m│\u001b[38;5;128m \u001b[0m\u001b[38;5;128m         1         \u001b[0m\u001b[38;5;128m \u001b[0m│\n",
       "│\u001b[38;5;33m \u001b[0m\u001b[38;5;33m                  \u001b[0m\u001b[38;5;33m \u001b[0m│\u001b[32m \u001b[0m\u001b[32m          \u001b[0m\u001b[32m \u001b[0m│\u001b[38;5;128m \u001b[0m\u001b[38;5;128m                   \u001b[0m\u001b[38;5;128m \u001b[0m│\n",
       "└────────────────────┴────────────┴─────────────────────┘\n"
      ]
     },
     "metadata": {},
     "output_type": "display_data"
    }
   ],
   "source": [
    "mvi = patac.model.MULTIVI(\n",
    "    adata_mvi,\n",
    "    n_genes=(adata_mvi.var['modality']=='Gene Expression').sum(),\n",
    "    n_regions=(adata_mvi.var['modality']=='Peaks').sum(),\n",
    "    peak_likelihood='poisson'\n",
    ")\n",
    "mvi.view_anndata_setup()"
   ]
  },
  {
   "cell_type": "code",
   "execution_count": 15,
   "id": "5af9ccc8-a179-4a4c-bf32-d0af9a6ab8d3",
   "metadata": {},
   "outputs": [
    {
     "data": {
      "text/html": [
       "<pre style=\"white-space:pre;overflow-x:auto;line-height:normal;font-family:Menlo,'DejaVu Sans Mono',consolas,'Courier New',monospace\">MultiVI Model with INPUTS: n_genes:<span style=\"color: #008080; text-decoration-color: #008080; font-weight: bold\">13431</span>, n_regions:<span style=\"color: #008080; text-decoration-color: #008080; font-weight: bold\">116490</span>\n",
       "n_hidden: <span style=\"color: #008080; text-decoration-color: #008080; font-weight: bold\">360</span>, n_latent: <span style=\"color: #008080; text-decoration-color: #008080; font-weight: bold\">18</span>, n_layers_encoder: <span style=\"color: #008080; text-decoration-color: #008080; font-weight: bold\">2</span>, n_layers_decoder: <span style=\"color: #008080; text-decoration-color: #008080; font-weight: bold\">2</span> , dropout_rate: <span style=\"color: #008080; text-decoration-color: #008080; font-weight: bold\">0.1</span>, \n",
       "latent_distribution: normal, deep injection: <span style=\"color: #ff0000; text-decoration-color: #ff0000; font-style: italic\">False</span>, gene_likelihood: zinb, peak_likelihood: \n",
       "poisson\n",
       "Training status: Not Trained\n",
       "</pre>\n"
      ],
      "text/plain": [
       "MultiVI Model with INPUTS: n_genes:\u001b[1;36m13431\u001b[0m, n_regions:\u001b[1;36m116490\u001b[0m\n",
       "n_hidden: \u001b[1;36m360\u001b[0m, n_latent: \u001b[1;36m18\u001b[0m, n_layers_encoder: \u001b[1;36m2\u001b[0m, n_layers_decoder: \u001b[1;36m2\u001b[0m , dropout_rate: \u001b[1;36m0.1\u001b[0m, \n",
       "latent_distribution: normal, deep injection: \u001b[3;91mFalse\u001b[0m, gene_likelihood: zinb, peak_likelihood: \n",
       "poisson\n",
       "Training status: Not Trained\n"
      ]
     },
     "metadata": {},
     "output_type": "display_data"
    },
    {
     "data": {
      "text/plain": []
     },
     "execution_count": 15,
     "metadata": {},
     "output_type": "execute_result"
    }
   ],
   "source": [
    "mvi.train()"
   ]
  },
  {
   "cell_type": "code",
   "execution_count": 57,
   "id": "ad1eca9a-e235-4102-8afa-236b50fa7657",
   "metadata": {},
   "outputs": [
    {
     "data": {
      "text/html": [
       "<div>\n",
       "<style scoped>\n",
       "    .dataframe tbody tr th:only-of-type {\n",
       "        vertical-align: middle;\n",
       "    }\n",
       "\n",
       "    .dataframe tbody tr th {\n",
       "        vertical-align: top;\n",
       "    }\n",
       "\n",
       "    .dataframe thead th {\n",
       "        text-align: right;\n",
       "    }\n",
       "</style>\n",
       "<table border=\"1\" class=\"dataframe\">\n",
       "  <thead>\n",
       "    <tr style=\"text-align: right;\">\n",
       "      <th></th>\n",
       "      <th>chr3-97974083-97974871</th>\n",
       "      <th>chr3-97971751-97972691</th>\n",
       "      <th>chr3-97957418-97958331</th>\n",
       "      <th>chr3-97871959-97872834</th>\n",
       "      <th>chr3-97954089-97955030</th>\n",
       "      <th>chr3-97952023-97952908</th>\n",
       "      <th>chr3-97910557-97911401</th>\n",
       "      <th>chr3-97882859-97883780</th>\n",
       "      <th>chr3-97991084-97991801</th>\n",
       "      <th>chr3-97823564-97824351</th>\n",
       "      <th>...</th>\n",
       "      <th>chr15-93247444-93248379</th>\n",
       "      <th>chr15-93235883-93236809</th>\n",
       "      <th>chr15-93225467-93226383</th>\n",
       "      <th>chr15-93178749-93179639</th>\n",
       "      <th>chr15-93166693-93167597</th>\n",
       "      <th>chr15-93164143-93165006</th>\n",
       "      <th>chr15-93152026-93152897</th>\n",
       "      <th>chr15-93141085-93141988</th>\n",
       "      <th>chr15-94206321-94207192</th>\n",
       "      <th>KI270713.1-29629-30491</th>\n",
       "    </tr>\n",
       "  </thead>\n",
       "  <tbody>\n",
       "    <tr>\n",
       "      <th>TAGTTGTCACCCTCAC-1-s1d1_paired</th>\n",
       "      <td>0.013851</td>\n",
       "      <td>0.194698</td>\n",
       "      <td>0.012937</td>\n",
       "      <td>0.013869</td>\n",
       "      <td>0.013671</td>\n",
       "      <td>0.014843</td>\n",
       "      <td>0.047327</td>\n",
       "      <td>0.010070</td>\n",
       "      <td>0.013121</td>\n",
       "      <td>0.013768</td>\n",
       "      <td>...</td>\n",
       "      <td>0.015529</td>\n",
       "      <td>0.065064</td>\n",
       "      <td>0.014957</td>\n",
       "      <td>0.025096</td>\n",
       "      <td>0.013518</td>\n",
       "      <td>0.009633</td>\n",
       "      <td>0.034571</td>\n",
       "      <td>0.045475</td>\n",
       "      <td>0.030294</td>\n",
       "      <td>0.015419</td>\n",
       "    </tr>\n",
       "    <tr>\n",
       "      <th>CTATGGCCATAACGGG-1-s1d1_paired</th>\n",
       "      <td>0.031771</td>\n",
       "      <td>0.447511</td>\n",
       "      <td>0.029745</td>\n",
       "      <td>0.031835</td>\n",
       "      <td>0.031382</td>\n",
       "      <td>0.034098</td>\n",
       "      <td>0.108509</td>\n",
       "      <td>0.023146</td>\n",
       "      <td>0.030074</td>\n",
       "      <td>0.031578</td>\n",
       "      <td>...</td>\n",
       "      <td>0.035694</td>\n",
       "      <td>0.149754</td>\n",
       "      <td>0.034334</td>\n",
       "      <td>0.057649</td>\n",
       "      <td>0.031033</td>\n",
       "      <td>0.022080</td>\n",
       "      <td>0.079447</td>\n",
       "      <td>0.104416</td>\n",
       "      <td>0.069668</td>\n",
       "      <td>0.035416</td>\n",
       "    </tr>\n",
       "    <tr>\n",
       "      <th>CCGCACACAGGTTAAA-1-s1d1_paired</th>\n",
       "      <td>0.016664</td>\n",
       "      <td>0.234074</td>\n",
       "      <td>0.015541</td>\n",
       "      <td>0.016660</td>\n",
       "      <td>0.016445</td>\n",
       "      <td>0.017849</td>\n",
       "      <td>0.056897</td>\n",
       "      <td>0.012098</td>\n",
       "      <td>0.015746</td>\n",
       "      <td>0.016550</td>\n",
       "      <td>...</td>\n",
       "      <td>0.018669</td>\n",
       "      <td>0.078137</td>\n",
       "      <td>0.017969</td>\n",
       "      <td>0.030129</td>\n",
       "      <td>0.016232</td>\n",
       "      <td>0.011572</td>\n",
       "      <td>0.041546</td>\n",
       "      <td>0.054644</td>\n",
       "      <td>0.036393</td>\n",
       "      <td>0.018531</td>\n",
       "    </tr>\n",
       "    <tr>\n",
       "      <th>TCATTTGGTAATGGAA-1-s1d1_paired</th>\n",
       "      <td>0.009292</td>\n",
       "      <td>0.130533</td>\n",
       "      <td>0.008666</td>\n",
       "      <td>0.009287</td>\n",
       "      <td>0.009186</td>\n",
       "      <td>0.009969</td>\n",
       "      <td>0.031778</td>\n",
       "      <td>0.006758</td>\n",
       "      <td>0.008781</td>\n",
       "      <td>0.009232</td>\n",
       "      <td>...</td>\n",
       "      <td>0.010422</td>\n",
       "      <td>0.043576</td>\n",
       "      <td>0.010018</td>\n",
       "      <td>0.016804</td>\n",
       "      <td>0.009058</td>\n",
       "      <td>0.006462</td>\n",
       "      <td>0.023170</td>\n",
       "      <td>0.030492</td>\n",
       "      <td>0.020328</td>\n",
       "      <td>0.010356</td>\n",
       "    </tr>\n",
       "    <tr>\n",
       "      <th>ACCACATAGGTGTCCA-1-s1d1_paired</th>\n",
       "      <td>0.005465</td>\n",
       "      <td>0.077017</td>\n",
       "      <td>0.005110</td>\n",
       "      <td>0.005467</td>\n",
       "      <td>0.005395</td>\n",
       "      <td>0.005863</td>\n",
       "      <td>0.018667</td>\n",
       "      <td>0.003981</td>\n",
       "      <td>0.005161</td>\n",
       "      <td>0.005425</td>\n",
       "      <td>...</td>\n",
       "      <td>0.006143</td>\n",
       "      <td>0.025725</td>\n",
       "      <td>0.005892</td>\n",
       "      <td>0.009908</td>\n",
       "      <td>0.005320</td>\n",
       "      <td>0.003795</td>\n",
       "      <td>0.013647</td>\n",
       "      <td>0.017935</td>\n",
       "      <td>0.011978</td>\n",
       "      <td>0.006087</td>\n",
       "    </tr>\n",
       "    <tr>\n",
       "      <th>...</th>\n",
       "      <td>...</td>\n",
       "      <td>...</td>\n",
       "      <td>...</td>\n",
       "      <td>...</td>\n",
       "      <td>...</td>\n",
       "      <td>...</td>\n",
       "      <td>...</td>\n",
       "      <td>...</td>\n",
       "      <td>...</td>\n",
       "      <td>...</td>\n",
       "      <td>...</td>\n",
       "      <td>...</td>\n",
       "      <td>...</td>\n",
       "      <td>...</td>\n",
       "      <td>...</td>\n",
       "      <td>...</td>\n",
       "      <td>...</td>\n",
       "      <td>...</td>\n",
       "      <td>...</td>\n",
       "      <td>...</td>\n",
       "      <td>...</td>\n",
       "    </tr>\n",
       "    <tr>\n",
       "      <th>CGCGATTCATCATGTG-2-s1d2_paired</th>\n",
       "      <td>0.029860</td>\n",
       "      <td>0.423861</td>\n",
       "      <td>0.028204</td>\n",
       "      <td>0.030207</td>\n",
       "      <td>0.030192</td>\n",
       "      <td>0.031799</td>\n",
       "      <td>0.101810</td>\n",
       "      <td>0.021881</td>\n",
       "      <td>0.028645</td>\n",
       "      <td>0.029882</td>\n",
       "      <td>...</td>\n",
       "      <td>0.034260</td>\n",
       "      <td>0.140508</td>\n",
       "      <td>0.032499</td>\n",
       "      <td>0.053562</td>\n",
       "      <td>0.029257</td>\n",
       "      <td>0.021255</td>\n",
       "      <td>0.075639</td>\n",
       "      <td>0.097654</td>\n",
       "      <td>0.065469</td>\n",
       "      <td>0.033084</td>\n",
       "    </tr>\n",
       "    <tr>\n",
       "      <th>AAGCATGAGCATGGTT-2-s1d2_paired</th>\n",
       "      <td>0.031706</td>\n",
       "      <td>0.449976</td>\n",
       "      <td>0.029910</td>\n",
       "      <td>0.032045</td>\n",
       "      <td>0.032067</td>\n",
       "      <td>0.033743</td>\n",
       "      <td>0.108067</td>\n",
       "      <td>0.023194</td>\n",
       "      <td>0.030376</td>\n",
       "      <td>0.031713</td>\n",
       "      <td>...</td>\n",
       "      <td>0.036370</td>\n",
       "      <td>0.148957</td>\n",
       "      <td>0.034474</td>\n",
       "      <td>0.056789</td>\n",
       "      <td>0.031022</td>\n",
       "      <td>0.022537</td>\n",
       "      <td>0.080253</td>\n",
       "      <td>0.103604</td>\n",
       "      <td>0.069428</td>\n",
       "      <td>0.035112</td>\n",
       "    </tr>\n",
       "    <tr>\n",
       "      <th>GAGAACCAGCAGGTGG-2-s1d2_paired</th>\n",
       "      <td>0.023737</td>\n",
       "      <td>0.336998</td>\n",
       "      <td>0.022416</td>\n",
       "      <td>0.024019</td>\n",
       "      <td>0.023987</td>\n",
       "      <td>0.025275</td>\n",
       "      <td>0.080886</td>\n",
       "      <td>0.017381</td>\n",
       "      <td>0.022759</td>\n",
       "      <td>0.023745</td>\n",
       "      <td>...</td>\n",
       "      <td>0.027237</td>\n",
       "      <td>0.111683</td>\n",
       "      <td>0.025822</td>\n",
       "      <td>0.042584</td>\n",
       "      <td>0.023231</td>\n",
       "      <td>0.016884</td>\n",
       "      <td>0.060144</td>\n",
       "      <td>0.077546</td>\n",
       "      <td>0.052034</td>\n",
       "      <td>0.026274</td>\n",
       "    </tr>\n",
       "    <tr>\n",
       "      <th>AGCTTCCTCCCTGGTT-2-s1d2_paired</th>\n",
       "      <td>0.006996</td>\n",
       "      <td>0.099365</td>\n",
       "      <td>0.006604</td>\n",
       "      <td>0.007078</td>\n",
       "      <td>0.007068</td>\n",
       "      <td>0.007451</td>\n",
       "      <td>0.023855</td>\n",
       "      <td>0.005126</td>\n",
       "      <td>0.006702</td>\n",
       "      <td>0.006993</td>\n",
       "      <td>...</td>\n",
       "      <td>0.008020</td>\n",
       "      <td>0.032900</td>\n",
       "      <td>0.007603</td>\n",
       "      <td>0.012548</td>\n",
       "      <td>0.006849</td>\n",
       "      <td>0.004976</td>\n",
       "      <td>0.017730</td>\n",
       "      <td>0.022883</td>\n",
       "      <td>0.015333</td>\n",
       "      <td>0.007751</td>\n",
       "    </tr>\n",
       "    <tr>\n",
       "      <th>AAGCATGAGGTCTTGG-2-s1d2_paired</th>\n",
       "      <td>0.033237</td>\n",
       "      <td>0.471911</td>\n",
       "      <td>0.031377</td>\n",
       "      <td>0.033619</td>\n",
       "      <td>0.033605</td>\n",
       "      <td>0.035401</td>\n",
       "      <td>0.113352</td>\n",
       "      <td>0.024346</td>\n",
       "      <td>0.031869</td>\n",
       "      <td>0.033249</td>\n",
       "      <td>...</td>\n",
       "      <td>0.038142</td>\n",
       "      <td>0.156353</td>\n",
       "      <td>0.036150</td>\n",
       "      <td>0.059624</td>\n",
       "      <td>0.032549</td>\n",
       "      <td>0.023641</td>\n",
       "      <td>0.084183</td>\n",
       "      <td>0.108657</td>\n",
       "      <td>0.072861</td>\n",
       "      <td>0.036832</td>\n",
       "    </tr>\n",
       "  </tbody>\n",
       "</table>\n",
       "<p>11685 rows × 116490 columns</p>\n",
       "</div>"
      ],
      "text/plain": [
       "                                chr3-97974083-97974871  \\\n",
       "TAGTTGTCACCCTCAC-1-s1d1_paired                0.013851   \n",
       "CTATGGCCATAACGGG-1-s1d1_paired                0.031771   \n",
       "CCGCACACAGGTTAAA-1-s1d1_paired                0.016664   \n",
       "TCATTTGGTAATGGAA-1-s1d1_paired                0.009292   \n",
       "ACCACATAGGTGTCCA-1-s1d1_paired                0.005465   \n",
       "...                                                ...   \n",
       "CGCGATTCATCATGTG-2-s1d2_paired                0.029860   \n",
       "AAGCATGAGCATGGTT-2-s1d2_paired                0.031706   \n",
       "GAGAACCAGCAGGTGG-2-s1d2_paired                0.023737   \n",
       "AGCTTCCTCCCTGGTT-2-s1d2_paired                0.006996   \n",
       "AAGCATGAGGTCTTGG-2-s1d2_paired                0.033237   \n",
       "\n",
       "                                chr3-97971751-97972691  \\\n",
       "TAGTTGTCACCCTCAC-1-s1d1_paired                0.194698   \n",
       "CTATGGCCATAACGGG-1-s1d1_paired                0.447511   \n",
       "CCGCACACAGGTTAAA-1-s1d1_paired                0.234074   \n",
       "TCATTTGGTAATGGAA-1-s1d1_paired                0.130533   \n",
       "ACCACATAGGTGTCCA-1-s1d1_paired                0.077017   \n",
       "...                                                ...   \n",
       "CGCGATTCATCATGTG-2-s1d2_paired                0.423861   \n",
       "AAGCATGAGCATGGTT-2-s1d2_paired                0.449976   \n",
       "GAGAACCAGCAGGTGG-2-s1d2_paired                0.336998   \n",
       "AGCTTCCTCCCTGGTT-2-s1d2_paired                0.099365   \n",
       "AAGCATGAGGTCTTGG-2-s1d2_paired                0.471911   \n",
       "\n",
       "                                chr3-97957418-97958331  \\\n",
       "TAGTTGTCACCCTCAC-1-s1d1_paired                0.012937   \n",
       "CTATGGCCATAACGGG-1-s1d1_paired                0.029745   \n",
       "CCGCACACAGGTTAAA-1-s1d1_paired                0.015541   \n",
       "TCATTTGGTAATGGAA-1-s1d1_paired                0.008666   \n",
       "ACCACATAGGTGTCCA-1-s1d1_paired                0.005110   \n",
       "...                                                ...   \n",
       "CGCGATTCATCATGTG-2-s1d2_paired                0.028204   \n",
       "AAGCATGAGCATGGTT-2-s1d2_paired                0.029910   \n",
       "GAGAACCAGCAGGTGG-2-s1d2_paired                0.022416   \n",
       "AGCTTCCTCCCTGGTT-2-s1d2_paired                0.006604   \n",
       "AAGCATGAGGTCTTGG-2-s1d2_paired                0.031377   \n",
       "\n",
       "                                chr3-97871959-97872834  \\\n",
       "TAGTTGTCACCCTCAC-1-s1d1_paired                0.013869   \n",
       "CTATGGCCATAACGGG-1-s1d1_paired                0.031835   \n",
       "CCGCACACAGGTTAAA-1-s1d1_paired                0.016660   \n",
       "TCATTTGGTAATGGAA-1-s1d1_paired                0.009287   \n",
       "ACCACATAGGTGTCCA-1-s1d1_paired                0.005467   \n",
       "...                                                ...   \n",
       "CGCGATTCATCATGTG-2-s1d2_paired                0.030207   \n",
       "AAGCATGAGCATGGTT-2-s1d2_paired                0.032045   \n",
       "GAGAACCAGCAGGTGG-2-s1d2_paired                0.024019   \n",
       "AGCTTCCTCCCTGGTT-2-s1d2_paired                0.007078   \n",
       "AAGCATGAGGTCTTGG-2-s1d2_paired                0.033619   \n",
       "\n",
       "                                chr3-97954089-97955030  \\\n",
       "TAGTTGTCACCCTCAC-1-s1d1_paired                0.013671   \n",
       "CTATGGCCATAACGGG-1-s1d1_paired                0.031382   \n",
       "CCGCACACAGGTTAAA-1-s1d1_paired                0.016445   \n",
       "TCATTTGGTAATGGAA-1-s1d1_paired                0.009186   \n",
       "ACCACATAGGTGTCCA-1-s1d1_paired                0.005395   \n",
       "...                                                ...   \n",
       "CGCGATTCATCATGTG-2-s1d2_paired                0.030192   \n",
       "AAGCATGAGCATGGTT-2-s1d2_paired                0.032067   \n",
       "GAGAACCAGCAGGTGG-2-s1d2_paired                0.023987   \n",
       "AGCTTCCTCCCTGGTT-2-s1d2_paired                0.007068   \n",
       "AAGCATGAGGTCTTGG-2-s1d2_paired                0.033605   \n",
       "\n",
       "                                chr3-97952023-97952908  \\\n",
       "TAGTTGTCACCCTCAC-1-s1d1_paired                0.014843   \n",
       "CTATGGCCATAACGGG-1-s1d1_paired                0.034098   \n",
       "CCGCACACAGGTTAAA-1-s1d1_paired                0.017849   \n",
       "TCATTTGGTAATGGAA-1-s1d1_paired                0.009969   \n",
       "ACCACATAGGTGTCCA-1-s1d1_paired                0.005863   \n",
       "...                                                ...   \n",
       "CGCGATTCATCATGTG-2-s1d2_paired                0.031799   \n",
       "AAGCATGAGCATGGTT-2-s1d2_paired                0.033743   \n",
       "GAGAACCAGCAGGTGG-2-s1d2_paired                0.025275   \n",
       "AGCTTCCTCCCTGGTT-2-s1d2_paired                0.007451   \n",
       "AAGCATGAGGTCTTGG-2-s1d2_paired                0.035401   \n",
       "\n",
       "                                chr3-97910557-97911401  \\\n",
       "TAGTTGTCACCCTCAC-1-s1d1_paired                0.047327   \n",
       "CTATGGCCATAACGGG-1-s1d1_paired                0.108509   \n",
       "CCGCACACAGGTTAAA-1-s1d1_paired                0.056897   \n",
       "TCATTTGGTAATGGAA-1-s1d1_paired                0.031778   \n",
       "ACCACATAGGTGTCCA-1-s1d1_paired                0.018667   \n",
       "...                                                ...   \n",
       "CGCGATTCATCATGTG-2-s1d2_paired                0.101810   \n",
       "AAGCATGAGCATGGTT-2-s1d2_paired                0.108067   \n",
       "GAGAACCAGCAGGTGG-2-s1d2_paired                0.080886   \n",
       "AGCTTCCTCCCTGGTT-2-s1d2_paired                0.023855   \n",
       "AAGCATGAGGTCTTGG-2-s1d2_paired                0.113352   \n",
       "\n",
       "                                chr3-97882859-97883780  \\\n",
       "TAGTTGTCACCCTCAC-1-s1d1_paired                0.010070   \n",
       "CTATGGCCATAACGGG-1-s1d1_paired                0.023146   \n",
       "CCGCACACAGGTTAAA-1-s1d1_paired                0.012098   \n",
       "TCATTTGGTAATGGAA-1-s1d1_paired                0.006758   \n",
       "ACCACATAGGTGTCCA-1-s1d1_paired                0.003981   \n",
       "...                                                ...   \n",
       "CGCGATTCATCATGTG-2-s1d2_paired                0.021881   \n",
       "AAGCATGAGCATGGTT-2-s1d2_paired                0.023194   \n",
       "GAGAACCAGCAGGTGG-2-s1d2_paired                0.017381   \n",
       "AGCTTCCTCCCTGGTT-2-s1d2_paired                0.005126   \n",
       "AAGCATGAGGTCTTGG-2-s1d2_paired                0.024346   \n",
       "\n",
       "                                chr3-97991084-97991801  \\\n",
       "TAGTTGTCACCCTCAC-1-s1d1_paired                0.013121   \n",
       "CTATGGCCATAACGGG-1-s1d1_paired                0.030074   \n",
       "CCGCACACAGGTTAAA-1-s1d1_paired                0.015746   \n",
       "TCATTTGGTAATGGAA-1-s1d1_paired                0.008781   \n",
       "ACCACATAGGTGTCCA-1-s1d1_paired                0.005161   \n",
       "...                                                ...   \n",
       "CGCGATTCATCATGTG-2-s1d2_paired                0.028645   \n",
       "AAGCATGAGCATGGTT-2-s1d2_paired                0.030376   \n",
       "GAGAACCAGCAGGTGG-2-s1d2_paired                0.022759   \n",
       "AGCTTCCTCCCTGGTT-2-s1d2_paired                0.006702   \n",
       "AAGCATGAGGTCTTGG-2-s1d2_paired                0.031869   \n",
       "\n",
       "                                chr3-97823564-97824351  ...  \\\n",
       "TAGTTGTCACCCTCAC-1-s1d1_paired                0.013768  ...   \n",
       "CTATGGCCATAACGGG-1-s1d1_paired                0.031578  ...   \n",
       "CCGCACACAGGTTAAA-1-s1d1_paired                0.016550  ...   \n",
       "TCATTTGGTAATGGAA-1-s1d1_paired                0.009232  ...   \n",
       "ACCACATAGGTGTCCA-1-s1d1_paired                0.005425  ...   \n",
       "...                                                ...  ...   \n",
       "CGCGATTCATCATGTG-2-s1d2_paired                0.029882  ...   \n",
       "AAGCATGAGCATGGTT-2-s1d2_paired                0.031713  ...   \n",
       "GAGAACCAGCAGGTGG-2-s1d2_paired                0.023745  ...   \n",
       "AGCTTCCTCCCTGGTT-2-s1d2_paired                0.006993  ...   \n",
       "AAGCATGAGGTCTTGG-2-s1d2_paired                0.033249  ...   \n",
       "\n",
       "                                chr15-93247444-93248379  \\\n",
       "TAGTTGTCACCCTCAC-1-s1d1_paired                 0.015529   \n",
       "CTATGGCCATAACGGG-1-s1d1_paired                 0.035694   \n",
       "CCGCACACAGGTTAAA-1-s1d1_paired                 0.018669   \n",
       "TCATTTGGTAATGGAA-1-s1d1_paired                 0.010422   \n",
       "ACCACATAGGTGTCCA-1-s1d1_paired                 0.006143   \n",
       "...                                                 ...   \n",
       "CGCGATTCATCATGTG-2-s1d2_paired                 0.034260   \n",
       "AAGCATGAGCATGGTT-2-s1d2_paired                 0.036370   \n",
       "GAGAACCAGCAGGTGG-2-s1d2_paired                 0.027237   \n",
       "AGCTTCCTCCCTGGTT-2-s1d2_paired                 0.008020   \n",
       "AAGCATGAGGTCTTGG-2-s1d2_paired                 0.038142   \n",
       "\n",
       "                                chr15-93235883-93236809  \\\n",
       "TAGTTGTCACCCTCAC-1-s1d1_paired                 0.065064   \n",
       "CTATGGCCATAACGGG-1-s1d1_paired                 0.149754   \n",
       "CCGCACACAGGTTAAA-1-s1d1_paired                 0.078137   \n",
       "TCATTTGGTAATGGAA-1-s1d1_paired                 0.043576   \n",
       "ACCACATAGGTGTCCA-1-s1d1_paired                 0.025725   \n",
       "...                                                 ...   \n",
       "CGCGATTCATCATGTG-2-s1d2_paired                 0.140508   \n",
       "AAGCATGAGCATGGTT-2-s1d2_paired                 0.148957   \n",
       "GAGAACCAGCAGGTGG-2-s1d2_paired                 0.111683   \n",
       "AGCTTCCTCCCTGGTT-2-s1d2_paired                 0.032900   \n",
       "AAGCATGAGGTCTTGG-2-s1d2_paired                 0.156353   \n",
       "\n",
       "                                chr15-93225467-93226383  \\\n",
       "TAGTTGTCACCCTCAC-1-s1d1_paired                 0.014957   \n",
       "CTATGGCCATAACGGG-1-s1d1_paired                 0.034334   \n",
       "CCGCACACAGGTTAAA-1-s1d1_paired                 0.017969   \n",
       "TCATTTGGTAATGGAA-1-s1d1_paired                 0.010018   \n",
       "ACCACATAGGTGTCCA-1-s1d1_paired                 0.005892   \n",
       "...                                                 ...   \n",
       "CGCGATTCATCATGTG-2-s1d2_paired                 0.032499   \n",
       "AAGCATGAGCATGGTT-2-s1d2_paired                 0.034474   \n",
       "GAGAACCAGCAGGTGG-2-s1d2_paired                 0.025822   \n",
       "AGCTTCCTCCCTGGTT-2-s1d2_paired                 0.007603   \n",
       "AAGCATGAGGTCTTGG-2-s1d2_paired                 0.036150   \n",
       "\n",
       "                                chr15-93178749-93179639  \\\n",
       "TAGTTGTCACCCTCAC-1-s1d1_paired                 0.025096   \n",
       "CTATGGCCATAACGGG-1-s1d1_paired                 0.057649   \n",
       "CCGCACACAGGTTAAA-1-s1d1_paired                 0.030129   \n",
       "TCATTTGGTAATGGAA-1-s1d1_paired                 0.016804   \n",
       "ACCACATAGGTGTCCA-1-s1d1_paired                 0.009908   \n",
       "...                                                 ...   \n",
       "CGCGATTCATCATGTG-2-s1d2_paired                 0.053562   \n",
       "AAGCATGAGCATGGTT-2-s1d2_paired                 0.056789   \n",
       "GAGAACCAGCAGGTGG-2-s1d2_paired                 0.042584   \n",
       "AGCTTCCTCCCTGGTT-2-s1d2_paired                 0.012548   \n",
       "AAGCATGAGGTCTTGG-2-s1d2_paired                 0.059624   \n",
       "\n",
       "                                chr15-93166693-93167597  \\\n",
       "TAGTTGTCACCCTCAC-1-s1d1_paired                 0.013518   \n",
       "CTATGGCCATAACGGG-1-s1d1_paired                 0.031033   \n",
       "CCGCACACAGGTTAAA-1-s1d1_paired                 0.016232   \n",
       "TCATTTGGTAATGGAA-1-s1d1_paired                 0.009058   \n",
       "ACCACATAGGTGTCCA-1-s1d1_paired                 0.005320   \n",
       "...                                                 ...   \n",
       "CGCGATTCATCATGTG-2-s1d2_paired                 0.029257   \n",
       "AAGCATGAGCATGGTT-2-s1d2_paired                 0.031022   \n",
       "GAGAACCAGCAGGTGG-2-s1d2_paired                 0.023231   \n",
       "AGCTTCCTCCCTGGTT-2-s1d2_paired                 0.006849   \n",
       "AAGCATGAGGTCTTGG-2-s1d2_paired                 0.032549   \n",
       "\n",
       "                                chr15-93164143-93165006  \\\n",
       "TAGTTGTCACCCTCAC-1-s1d1_paired                 0.009633   \n",
       "CTATGGCCATAACGGG-1-s1d1_paired                 0.022080   \n",
       "CCGCACACAGGTTAAA-1-s1d1_paired                 0.011572   \n",
       "TCATTTGGTAATGGAA-1-s1d1_paired                 0.006462   \n",
       "ACCACATAGGTGTCCA-1-s1d1_paired                 0.003795   \n",
       "...                                                 ...   \n",
       "CGCGATTCATCATGTG-2-s1d2_paired                 0.021255   \n",
       "AAGCATGAGCATGGTT-2-s1d2_paired                 0.022537   \n",
       "GAGAACCAGCAGGTGG-2-s1d2_paired                 0.016884   \n",
       "AGCTTCCTCCCTGGTT-2-s1d2_paired                 0.004976   \n",
       "AAGCATGAGGTCTTGG-2-s1d2_paired                 0.023641   \n",
       "\n",
       "                                chr15-93152026-93152897  \\\n",
       "TAGTTGTCACCCTCAC-1-s1d1_paired                 0.034571   \n",
       "CTATGGCCATAACGGG-1-s1d1_paired                 0.079447   \n",
       "CCGCACACAGGTTAAA-1-s1d1_paired                 0.041546   \n",
       "TCATTTGGTAATGGAA-1-s1d1_paired                 0.023170   \n",
       "ACCACATAGGTGTCCA-1-s1d1_paired                 0.013647   \n",
       "...                                                 ...   \n",
       "CGCGATTCATCATGTG-2-s1d2_paired                 0.075639   \n",
       "AAGCATGAGCATGGTT-2-s1d2_paired                 0.080253   \n",
       "GAGAACCAGCAGGTGG-2-s1d2_paired                 0.060144   \n",
       "AGCTTCCTCCCTGGTT-2-s1d2_paired                 0.017730   \n",
       "AAGCATGAGGTCTTGG-2-s1d2_paired                 0.084183   \n",
       "\n",
       "                                chr15-93141085-93141988  \\\n",
       "TAGTTGTCACCCTCAC-1-s1d1_paired                 0.045475   \n",
       "CTATGGCCATAACGGG-1-s1d1_paired                 0.104416   \n",
       "CCGCACACAGGTTAAA-1-s1d1_paired                 0.054644   \n",
       "TCATTTGGTAATGGAA-1-s1d1_paired                 0.030492   \n",
       "ACCACATAGGTGTCCA-1-s1d1_paired                 0.017935   \n",
       "...                                                 ...   \n",
       "CGCGATTCATCATGTG-2-s1d2_paired                 0.097654   \n",
       "AAGCATGAGCATGGTT-2-s1d2_paired                 0.103604   \n",
       "GAGAACCAGCAGGTGG-2-s1d2_paired                 0.077546   \n",
       "AGCTTCCTCCCTGGTT-2-s1d2_paired                 0.022883   \n",
       "AAGCATGAGGTCTTGG-2-s1d2_paired                 0.108657   \n",
       "\n",
       "                                chr15-94206321-94207192  \\\n",
       "TAGTTGTCACCCTCAC-1-s1d1_paired                 0.030294   \n",
       "CTATGGCCATAACGGG-1-s1d1_paired                 0.069668   \n",
       "CCGCACACAGGTTAAA-1-s1d1_paired                 0.036393   \n",
       "TCATTTGGTAATGGAA-1-s1d1_paired                 0.020328   \n",
       "ACCACATAGGTGTCCA-1-s1d1_paired                 0.011978   \n",
       "...                                                 ...   \n",
       "CGCGATTCATCATGTG-2-s1d2_paired                 0.065469   \n",
       "AAGCATGAGCATGGTT-2-s1d2_paired                 0.069428   \n",
       "GAGAACCAGCAGGTGG-2-s1d2_paired                 0.052034   \n",
       "AGCTTCCTCCCTGGTT-2-s1d2_paired                 0.015333   \n",
       "AAGCATGAGGTCTTGG-2-s1d2_paired                 0.072861   \n",
       "\n",
       "                                KI270713.1-29629-30491  \n",
       "TAGTTGTCACCCTCAC-1-s1d1_paired                0.015419  \n",
       "CTATGGCCATAACGGG-1-s1d1_paired                0.035416  \n",
       "CCGCACACAGGTTAAA-1-s1d1_paired                0.018531  \n",
       "TCATTTGGTAATGGAA-1-s1d1_paired                0.010356  \n",
       "ACCACATAGGTGTCCA-1-s1d1_paired                0.006087  \n",
       "...                                                ...  \n",
       "CGCGATTCATCATGTG-2-s1d2_paired                0.033084  \n",
       "AAGCATGAGCATGGTT-2-s1d2_paired                0.035112  \n",
       "GAGAACCAGCAGGTGG-2-s1d2_paired                0.026274  \n",
       "AGCTTCCTCCCTGGTT-2-s1d2_paired                0.007751  \n",
       "AAGCATGAGGTCTTGG-2-s1d2_paired                0.036832  \n",
       "\n",
       "[11685 rows x 116490 columns]"
      ]
     },
     "execution_count": 57,
     "metadata": {},
     "output_type": "execute_result"
    }
   ],
   "source": [
    "mvi.get_accessibility_estimates(normalize_regions=True, normalize_cells=True)"
   ]
  },
  {
   "cell_type": "markdown",
   "id": "46d11de8-8796-4cdc-b975-68926dd1e1db",
   "metadata": {},
   "source": [
    "# Setup model Bernoulli loss"
   ]
  },
  {
   "cell_type": "code",
   "execution_count": 38,
   "id": "b72327e4-c96c-47dc-a445-c68f2a09a4b7",
   "metadata": {},
   "outputs": [],
   "source": [
    "patac.model.MULTIVI.setup_anndata(adata_mvi, batch_key='modality',\n",
    "    size_factor_key = 'n_counts', layer='counts', categorical_covariate_keys=['batch'])"
   ]
  },
  {
   "cell_type": "code",
   "execution_count": 39,
   "id": "eb84f9e3-d944-4c8d-a9c5-225e3e417108",
   "metadata": {},
   "outputs": [
    {
     "data": {
      "text/html": [
       "<pre style=\"white-space:pre;overflow-x:auto;line-height:normal;font-family:Menlo,'DejaVu Sans Mono',consolas,'Courier New',monospace\">Anndata setup with scvi-tools version <span style=\"color: #008080; text-decoration-color: #008080; font-weight: bold\">0.0</span>.<span style=\"color: #008080; text-decoration-color: #008080; font-weight: bold\">0</span>.\n",
       "</pre>\n"
      ],
      "text/plain": [
       "Anndata setup with scvi-tools version \u001b[1;36m0.0\u001b[0m.\u001b[1;36m0\u001b[0m.\n"
      ]
     },
     "metadata": {},
     "output_type": "display_data"
    },
    {
     "data": {
      "text/html": [
       "<pre style=\"white-space:pre;overflow-x:auto;line-height:normal;font-family:Menlo,'DejaVu Sans Mono',consolas,'Courier New',monospace\">\n",
       "</pre>\n"
      ],
      "text/plain": [
       "\n"
      ]
     },
     "metadata": {},
     "output_type": "display_data"
    },
    {
     "data": {
      "text/html": [
       "<pre style=\"white-space:pre;overflow-x:auto;line-height:normal;font-family:Menlo,'DejaVu Sans Mono',consolas,'Courier New',monospace\">Setup via `MULTIVI.setup_anndata` with arguments:\n",
       "</pre>\n"
      ],
      "text/plain": [
       "Setup via `MULTIVI.setup_anndata` with arguments:\n"
      ]
     },
     "metadata": {},
     "output_type": "display_data"
    },
    {
     "data": {
      "text/html": [
       "<pre style=\"white-space:pre;overflow-x:auto;line-height:normal;font-family:Menlo,'DejaVu Sans Mono',consolas,'Courier New',monospace\"><span style=\"font-weight: bold\">{</span>\n",
       "<span style=\"color: #7fbf7f; text-decoration-color: #7fbf7f\">│   </span><span style=\"color: #008000; text-decoration-color: #008000\">'layer'</span>: <span style=\"color: #008000; text-decoration-color: #008000\">'counts'</span>,\n",
       "<span style=\"color: #7fbf7f; text-decoration-color: #7fbf7f\">│   </span><span style=\"color: #008000; text-decoration-color: #008000\">'batch_key'</span>: <span style=\"color: #008000; text-decoration-color: #008000\">'modality'</span>,\n",
       "<span style=\"color: #7fbf7f; text-decoration-color: #7fbf7f\">│   </span><span style=\"color: #008000; text-decoration-color: #008000\">'size_factor_key'</span>: <span style=\"color: #008000; text-decoration-color: #008000\">'n_counts'</span>,\n",
       "<span style=\"color: #7fbf7f; text-decoration-color: #7fbf7f\">│   </span><span style=\"color: #008000; text-decoration-color: #008000\">'categorical_covariate_keys'</span>: <span style=\"font-weight: bold\">[</span><span style=\"color: #008000; text-decoration-color: #008000\">'batch'</span><span style=\"font-weight: bold\">]</span>,\n",
       "<span style=\"color: #7fbf7f; text-decoration-color: #7fbf7f\">│   </span><span style=\"color: #008000; text-decoration-color: #008000\">'continuous_covariate_keys'</span>: <span style=\"color: #800080; text-decoration-color: #800080; font-style: italic\">None</span>\n",
       "<span style=\"font-weight: bold\">}</span>\n",
       "</pre>\n"
      ],
      "text/plain": [
       "\u001b[1m{\u001b[0m\n",
       "\u001b[2;32m│   \u001b[0m\u001b[32m'layer'\u001b[0m: \u001b[32m'counts'\u001b[0m,\n",
       "\u001b[2;32m│   \u001b[0m\u001b[32m'batch_key'\u001b[0m: \u001b[32m'modality'\u001b[0m,\n",
       "\u001b[2;32m│   \u001b[0m\u001b[32m'size_factor_key'\u001b[0m: \u001b[32m'n_counts'\u001b[0m,\n",
       "\u001b[2;32m│   \u001b[0m\u001b[32m'categorical_covariate_keys'\u001b[0m: \u001b[1m[\u001b[0m\u001b[32m'batch'\u001b[0m\u001b[1m]\u001b[0m,\n",
       "\u001b[2;32m│   \u001b[0m\u001b[32m'continuous_covariate_keys'\u001b[0m: \u001b[3;35mNone\u001b[0m\n",
       "\u001b[1m}\u001b[0m\n"
      ]
     },
     "metadata": {},
     "output_type": "display_data"
    },
    {
     "data": {
      "text/html": [
       "<pre style=\"white-space:pre;overflow-x:auto;line-height:normal;font-family:Menlo,'DejaVu Sans Mono',consolas,'Courier New',monospace\">\n",
       "</pre>\n"
      ],
      "text/plain": [
       "\n"
      ]
     },
     "metadata": {},
     "output_type": "display_data"
    },
    {
     "data": {
      "text/html": [
       "<pre style=\"white-space:pre;overflow-x:auto;line-height:normal;font-family:Menlo,'DejaVu Sans Mono',consolas,'Courier New',monospace\"><span style=\"font-style: italic\">         Summary Statistics          </span>\n",
       "┏━━━━━━━━━━━━━━━━━━━━━━━━━━┳━━━━━━━━┓\n",
       "┃<span style=\"font-weight: bold\">     Summary Stat Key     </span>┃<span style=\"font-weight: bold\"> Value  </span>┃\n",
       "┡━━━━━━━━━━━━━━━━━━━━━━━━━━╇━━━━━━━━┩\n",
       "│<span style=\"color: #0087ff; text-decoration-color: #0087ff\">         n_cells          </span>│<span style=\"color: #af00d7; text-decoration-color: #af00d7\"> 11685  </span>│\n",
       "│<span style=\"color: #0087ff; text-decoration-color: #0087ff\">          n_vars          </span>│<span style=\"color: #af00d7; text-decoration-color: #af00d7\"> 129921 </span>│\n",
       "│<span style=\"color: #0087ff; text-decoration-color: #0087ff\">         n_batch          </span>│<span style=\"color: #af00d7; text-decoration-color: #af00d7\">   1    </span>│\n",
       "│<span style=\"color: #0087ff; text-decoration-color: #0087ff\"> n_extra_categorical_covs </span>│<span style=\"color: #af00d7; text-decoration-color: #af00d7\">   1    </span>│\n",
       "│<span style=\"color: #0087ff; text-decoration-color: #0087ff\"> n_extra_continuous_covs  </span>│<span style=\"color: #af00d7; text-decoration-color: #af00d7\">   0    </span>│\n",
       "└──────────────────────────┴────────┘\n",
       "</pre>\n"
      ],
      "text/plain": [
       "\u001b[3m         Summary Statistics          \u001b[0m\n",
       "┏━━━━━━━━━━━━━━━━━━━━━━━━━━┳━━━━━━━━┓\n",
       "┃\u001b[1m \u001b[0m\u001b[1m    Summary Stat Key    \u001b[0m\u001b[1m \u001b[0m┃\u001b[1m \u001b[0m\u001b[1mValue \u001b[0m\u001b[1m \u001b[0m┃\n",
       "┡━━━━━━━━━━━━━━━━━━━━━━━━━━╇━━━━━━━━┩\n",
       "│\u001b[38;5;33m \u001b[0m\u001b[38;5;33m        n_cells         \u001b[0m\u001b[38;5;33m \u001b[0m│\u001b[38;5;128m \u001b[0m\u001b[38;5;128m11685 \u001b[0m\u001b[38;5;128m \u001b[0m│\n",
       "│\u001b[38;5;33m \u001b[0m\u001b[38;5;33m         n_vars         \u001b[0m\u001b[38;5;33m \u001b[0m│\u001b[38;5;128m \u001b[0m\u001b[38;5;128m129921\u001b[0m\u001b[38;5;128m \u001b[0m│\n",
       "│\u001b[38;5;33m \u001b[0m\u001b[38;5;33m        n_batch         \u001b[0m\u001b[38;5;33m \u001b[0m│\u001b[38;5;128m \u001b[0m\u001b[38;5;128m  1   \u001b[0m\u001b[38;5;128m \u001b[0m│\n",
       "│\u001b[38;5;33m \u001b[0m\u001b[38;5;33mn_extra_categorical_covs\u001b[0m\u001b[38;5;33m \u001b[0m│\u001b[38;5;128m \u001b[0m\u001b[38;5;128m  1   \u001b[0m\u001b[38;5;128m \u001b[0m│\n",
       "│\u001b[38;5;33m \u001b[0m\u001b[38;5;33mn_extra_continuous_covs \u001b[0m\u001b[38;5;33m \u001b[0m│\u001b[38;5;128m \u001b[0m\u001b[38;5;128m  0   \u001b[0m\u001b[38;5;128m \u001b[0m│\n",
       "└──────────────────────────┴────────┘\n"
      ]
     },
     "metadata": {},
     "output_type": "display_data"
    },
    {
     "data": {
      "text/html": [
       "<pre style=\"white-space:pre;overflow-x:auto;line-height:normal;font-family:Menlo,'DejaVu Sans Mono',consolas,'Courier New',monospace\"><span style=\"font-style: italic\">                             Data Registry                             </span>\n",
       "┏━━━━━━━━━━━━━━━━━━━━━━━━┳━━━━━━━━━━━━━━━━━━━━━━━━━━━━━━━━━━━━━━━━━━━━┓\n",
       "┃<span style=\"font-weight: bold\">      Registry Key      </span>┃<span style=\"font-weight: bold\">            scvi-tools Location             </span>┃\n",
       "┡━━━━━━━━━━━━━━━━━━━━━━━━╇━━━━━━━━━━━━━━━━━━━━━━━━━━━━━━━━━━━━━━━━━━━━┩\n",
       "│<span style=\"color: #0087ff; text-decoration-color: #0087ff\">           X            </span>│<span style=\"color: #af00d7; text-decoration-color: #af00d7\">           adata.layers['counts']           </span>│\n",
       "│<span style=\"color: #0087ff; text-decoration-color: #0087ff\">         batch          </span>│<span style=\"color: #af00d7; text-decoration-color: #af00d7\">          adata.obs['_scvi_batch']          </span>│\n",
       "│<span style=\"color: #0087ff; text-decoration-color: #0087ff\">      size_factor       </span>│<span style=\"color: #af00d7; text-decoration-color: #af00d7\">           adata.obs['n_counts']            </span>│\n",
       "│<span style=\"color: #0087ff; text-decoration-color: #0087ff\"> extra_categorical_covs </span>│<span style=\"color: #af00d7; text-decoration-color: #af00d7\"> adata.obsm['_scvi_extra_categorical_covs'] </span>│\n",
       "└────────────────────────┴────────────────────────────────────────────┘\n",
       "</pre>\n"
      ],
      "text/plain": [
       "\u001b[3m                             Data Registry                             \u001b[0m\n",
       "┏━━━━━━━━━━━━━━━━━━━━━━━━┳━━━━━━━━━━━━━━━━━━━━━━━━━━━━━━━━━━━━━━━━━━━━┓\n",
       "┃\u001b[1m \u001b[0m\u001b[1m     Registry Key     \u001b[0m\u001b[1m \u001b[0m┃\u001b[1m \u001b[0m\u001b[1m           scvi-tools Location            \u001b[0m\u001b[1m \u001b[0m┃\n",
       "┡━━━━━━━━━━━━━━━━━━━━━━━━╇━━━━━━━━━━━━━━━━━━━━━━━━━━━━━━━━━━━━━━━━━━━━┩\n",
       "│\u001b[38;5;33m \u001b[0m\u001b[38;5;33m          X           \u001b[0m\u001b[38;5;33m \u001b[0m│\u001b[38;5;128m \u001b[0m\u001b[38;5;128m          adata.layers['counts']          \u001b[0m\u001b[38;5;128m \u001b[0m│\n",
       "│\u001b[38;5;33m \u001b[0m\u001b[38;5;33m        batch         \u001b[0m\u001b[38;5;33m \u001b[0m│\u001b[38;5;128m \u001b[0m\u001b[38;5;128m         adata.obs['_scvi_batch']         \u001b[0m\u001b[38;5;128m \u001b[0m│\n",
       "│\u001b[38;5;33m \u001b[0m\u001b[38;5;33m     size_factor      \u001b[0m\u001b[38;5;33m \u001b[0m│\u001b[38;5;128m \u001b[0m\u001b[38;5;128m          adata.obs['n_counts']           \u001b[0m\u001b[38;5;128m \u001b[0m│\n",
       "│\u001b[38;5;33m \u001b[0m\u001b[38;5;33mextra_categorical_covs\u001b[0m\u001b[38;5;33m \u001b[0m│\u001b[38;5;128m \u001b[0m\u001b[38;5;128madata.obsm['_scvi_extra_categorical_covs']\u001b[0m\u001b[38;5;128m \u001b[0m│\n",
       "└────────────────────────┴────────────────────────────────────────────┘\n"
      ]
     },
     "metadata": {},
     "output_type": "display_data"
    },
    {
     "data": {
      "text/html": [
       "<pre style=\"white-space:pre;overflow-x:auto;line-height:normal;font-family:Menlo,'DejaVu Sans Mono',consolas,'Courier New',monospace\"><span style=\"font-style: italic\">                    batch State Registry                    </span>\n",
       "┏━━━━━━━━━━━━━━━━━━━━━━━┳━━━━━━━━━━━━┳━━━━━━━━━━━━━━━━━━━━━┓\n",
       "┃<span style=\"font-weight: bold\">    Source Location    </span>┃<span style=\"font-weight: bold\"> Categories </span>┃<span style=\"font-weight: bold\"> scvi-tools Encoding </span>┃\n",
       "┡━━━━━━━━━━━━━━━━━━━━━━━╇━━━━━━━━━━━━╇━━━━━━━━━━━━━━━━━━━━━┩\n",
       "│<span style=\"color: #0087ff; text-decoration-color: #0087ff\"> adata.obs['modality'] </span>│<span style=\"color: #008000; text-decoration-color: #008000\">   paired   </span>│<span style=\"color: #af00d7; text-decoration-color: #af00d7\">          0          </span>│\n",
       "└───────────────────────┴────────────┴─────────────────────┘\n",
       "</pre>\n"
      ],
      "text/plain": [
       "\u001b[3m                    batch State Registry                    \u001b[0m\n",
       "┏━━━━━━━━━━━━━━━━━━━━━━━┳━━━━━━━━━━━━┳━━━━━━━━━━━━━━━━━━━━━┓\n",
       "┃\u001b[1m \u001b[0m\u001b[1m   Source Location   \u001b[0m\u001b[1m \u001b[0m┃\u001b[1m \u001b[0m\u001b[1mCategories\u001b[0m\u001b[1m \u001b[0m┃\u001b[1m \u001b[0m\u001b[1mscvi-tools Encoding\u001b[0m\u001b[1m \u001b[0m┃\n",
       "┡━━━━━━━━━━━━━━━━━━━━━━━╇━━━━━━━━━━━━╇━━━━━━━━━━━━━━━━━━━━━┩\n",
       "│\u001b[38;5;33m \u001b[0m\u001b[38;5;33madata.obs['modality']\u001b[0m\u001b[38;5;33m \u001b[0m│\u001b[32m \u001b[0m\u001b[32m  paired  \u001b[0m\u001b[32m \u001b[0m│\u001b[38;5;128m \u001b[0m\u001b[38;5;128m         0         \u001b[0m\u001b[38;5;128m \u001b[0m│\n",
       "└───────────────────────┴────────────┴─────────────────────┘\n"
      ]
     },
     "metadata": {},
     "output_type": "display_data"
    },
    {
     "data": {
      "text/html": [
       "<pre style=\"white-space:pre;overflow-x:auto;line-height:normal;font-family:Menlo,'DejaVu Sans Mono',consolas,'Courier New',monospace\"><span style=\"font-style: italic\">          extra_categorical_covs State Registry          </span>\n",
       "┏━━━━━━━━━━━━━━━━━━━━┳━━━━━━━━━━━━┳━━━━━━━━━━━━━━━━━━━━━┓\n",
       "┃<span style=\"font-weight: bold\">  Source Location   </span>┃<span style=\"font-weight: bold\"> Categories </span>┃<span style=\"font-weight: bold\"> scvi-tools Encoding </span>┃\n",
       "┡━━━━━━━━━━━━━━━━━━━━╇━━━━━━━━━━━━╇━━━━━━━━━━━━━━━━━━━━━┩\n",
       "│<span style=\"color: #0087ff; text-decoration-color: #0087ff\"> adata.obs['batch'] </span>│<span style=\"color: #008000; text-decoration-color: #008000\">    s1d1    </span>│<span style=\"color: #af00d7; text-decoration-color: #af00d7\">          0          </span>│\n",
       "│<span style=\"color: #0087ff; text-decoration-color: #0087ff\">                    </span>│<span style=\"color: #008000; text-decoration-color: #008000\">    s1d2    </span>│<span style=\"color: #af00d7; text-decoration-color: #af00d7\">          1          </span>│\n",
       "│<span style=\"color: #0087ff; text-decoration-color: #0087ff\">                    </span>│<span style=\"color: #008000; text-decoration-color: #008000\">            </span>│<span style=\"color: #af00d7; text-decoration-color: #af00d7\">                     </span>│\n",
       "└────────────────────┴────────────┴─────────────────────┘\n",
       "</pre>\n"
      ],
      "text/plain": [
       "\u001b[3m          extra_categorical_covs State Registry          \u001b[0m\n",
       "┏━━━━━━━━━━━━━━━━━━━━┳━━━━━━━━━━━━┳━━━━━━━━━━━━━━━━━━━━━┓\n",
       "┃\u001b[1m \u001b[0m\u001b[1m Source Location  \u001b[0m\u001b[1m \u001b[0m┃\u001b[1m \u001b[0m\u001b[1mCategories\u001b[0m\u001b[1m \u001b[0m┃\u001b[1m \u001b[0m\u001b[1mscvi-tools Encoding\u001b[0m\u001b[1m \u001b[0m┃\n",
       "┡━━━━━━━━━━━━━━━━━━━━╇━━━━━━━━━━━━╇━━━━━━━━━━━━━━━━━━━━━┩\n",
       "│\u001b[38;5;33m \u001b[0m\u001b[38;5;33madata.obs['batch']\u001b[0m\u001b[38;5;33m \u001b[0m│\u001b[32m \u001b[0m\u001b[32m   s1d1   \u001b[0m\u001b[32m \u001b[0m│\u001b[38;5;128m \u001b[0m\u001b[38;5;128m         0         \u001b[0m\u001b[38;5;128m \u001b[0m│\n",
       "│\u001b[38;5;33m \u001b[0m\u001b[38;5;33m                  \u001b[0m\u001b[38;5;33m \u001b[0m│\u001b[32m \u001b[0m\u001b[32m   s1d2   \u001b[0m\u001b[32m \u001b[0m│\u001b[38;5;128m \u001b[0m\u001b[38;5;128m         1         \u001b[0m\u001b[38;5;128m \u001b[0m│\n",
       "│\u001b[38;5;33m \u001b[0m\u001b[38;5;33m                  \u001b[0m\u001b[38;5;33m \u001b[0m│\u001b[32m \u001b[0m\u001b[32m          \u001b[0m\u001b[32m \u001b[0m│\u001b[38;5;128m \u001b[0m\u001b[38;5;128m                   \u001b[0m\u001b[38;5;128m \u001b[0m│\n",
       "└────────────────────┴────────────┴─────────────────────┘\n"
      ]
     },
     "metadata": {},
     "output_type": "display_data"
    }
   ],
   "source": [
    "mvi = patac.model.MULTIVI(\n",
    "    adata_mvi,\n",
    "    n_genes=(adata_mvi.var['modality']=='Gene Expression').sum(),\n",
    "    n_regions=(adata_mvi.var['modality']=='Peaks').sum(),\n",
    "    peak_likelihood='bernoulli'\n",
    ")\n",
    "mvi.view_anndata_setup()"
   ]
  },
  {
   "cell_type": "code",
   "execution_count": 40,
   "id": "1050db87-8f96-4bf0-a846-78e8c2e736b3",
   "metadata": {},
   "outputs": [
    {
     "data": {
      "text/html": [
       "<pre style=\"white-space:pre;overflow-x:auto;line-height:normal;font-family:Menlo,'DejaVu Sans Mono',consolas,'Courier New',monospace\">MultiVI Model with INPUTS: n_genes:<span style=\"color: #008080; text-decoration-color: #008080; font-weight: bold\">13431</span>, n_regions:<span style=\"color: #008080; text-decoration-color: #008080; font-weight: bold\">116490</span>\n",
       "n_hidden: <span style=\"color: #008080; text-decoration-color: #008080; font-weight: bold\">360</span>, n_latent: <span style=\"color: #008080; text-decoration-color: #008080; font-weight: bold\">18</span>, n_layers_encoder: <span style=\"color: #008080; text-decoration-color: #008080; font-weight: bold\">2</span>, n_layers_decoder: <span style=\"color: #008080; text-decoration-color: #008080; font-weight: bold\">2</span> , dropout_rate: <span style=\"color: #008080; text-decoration-color: #008080; font-weight: bold\">0.1</span>, \n",
       "latent_distribution: normal, deep injection: <span style=\"color: #ff0000; text-decoration-color: #ff0000; font-style: italic\">False</span>, gene_likelihood: zinb, peak_likelihood: \n",
       "bernoulli\n",
       "Training status: Not Trained\n",
       "</pre>\n"
      ],
      "text/plain": [
       "MultiVI Model with INPUTS: n_genes:\u001b[1;36m13431\u001b[0m, n_regions:\u001b[1;36m116490\u001b[0m\n",
       "n_hidden: \u001b[1;36m360\u001b[0m, n_latent: \u001b[1;36m18\u001b[0m, n_layers_encoder: \u001b[1;36m2\u001b[0m, n_layers_decoder: \u001b[1;36m2\u001b[0m , dropout_rate: \u001b[1;36m0.1\u001b[0m, \n",
       "latent_distribution: normal, deep injection: \u001b[3;91mFalse\u001b[0m, gene_likelihood: zinb, peak_likelihood: \n",
       "bernoulli\n",
       "Training status: Not Trained\n"
      ]
     },
     "metadata": {},
     "output_type": "display_data"
    },
    {
     "data": {
      "text/plain": []
     },
     "execution_count": 40,
     "metadata": {},
     "output_type": "execute_result"
    }
   ],
   "source": [
    "mvi.train()"
   ]
  }
 ],
 "metadata": {
  "kernelspec": {
   "display_name": "Python 3 (ipykernel)",
   "language": "python",
   "name": "python3"
  },
  "language_info": {
   "codemirror_mode": {
    "name": "ipython",
    "version": 3
   },
   "file_extension": ".py",
   "mimetype": "text/x-python",
   "name": "python",
   "nbconvert_exporter": "python",
   "pygments_lexer": "ipython3",
   "version": "3.9.12"
  }
 },
 "nbformat": 4,
 "nbformat_minor": 5
}
