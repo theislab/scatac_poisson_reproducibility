{
 "cells": [
  {
   "cell_type": "code",
   "execution_count": 1,
   "id": "47c09caf-530c-49b8-84af-2e2fa8ca2699",
   "metadata": {},
   "outputs": [],
   "source": [
    "%load_ext autoreload\n",
    "%autoreload 2"
   ]
  },
  {
   "cell_type": "code",
   "execution_count": 2,
   "id": "74192284-5b14-4c9e-a950-f05564cf1ef0",
   "metadata": {},
   "outputs": [
    {
     "name": "stderr",
     "output_type": "stream",
     "text": [
      "Global seed set to 0\n"
     ]
    }
   ],
   "source": [
    "import seml\n",
    "from poisson_atac.utils import model_type_map\n",
    "import seaborn as sns\n",
    "import numpy as np\n",
    "import pandas as pd\n",
    "import matplotlib.pyplot as plt\n",
    "import os"
   ]
  },
  {
   "cell_type": "code",
   "execution_count": 3,
   "id": "693879ba-961f-4e3d-a495-36db6fbd5f06",
   "metadata": {},
   "outputs": [],
   "source": [
    "from statannotations.Annotator import Annotator\n",
    "import itertools"
   ]
  },
  {
   "cell_type": "code",
   "execution_count": 4,
   "id": "4abb5b34-5f19-4970-93e9-4451a7dbe655",
   "metadata": {},
   "outputs": [],
   "source": [
    "seml_collection = \"neurips_challenge_evaluation\""
   ]
  },
  {
   "cell_type": "code",
   "execution_count": 5,
   "id": "947c5f30-a6f3-4198-86c2-4aa11f725525",
   "metadata": {},
   "outputs": [],
   "source": [
    "fig_path = 'panels/Figure2/'"
   ]
  },
  {
   "cell_type": "code",
   "execution_count": 6,
   "id": "ca850034-b275-4114-8d8c-5818b7c516b4",
   "metadata": {},
   "outputs": [],
   "source": [
    "def load_seml(seml_database, model_type_map, final=False):\n",
    "    dataset_map = {'neurips': 'Neurips\\nall batches'}\n",
    "    \n",
    "    results = seml.get_results(seml_database, to_data_frame=True,  fields=[\"config\", \"config_hash\", \"result\", \"batch_id\"])\n",
    "    \n",
    "    results = results[results['config.training.final']==final]\n",
    "    results['config.data.dataset'] = results['config.data.dataset'].map(dataset_map)\n",
    "    #add LS-lab results\n",
    "    results.loc[results['config.model.model_type'].isna(), 'config.model.model_type'] = results.loc[results['config.model.model_type'].isna(), 'config.model.method']\n",
    "    \n",
    "    results['config.setup.model_params.use_observed_lib_size'] = results['config.setup.model_params.use_observed_lib_size'].map({True: \"True\", np.nan: ''})\n",
    "    \n",
    "    results['config.model.model_type'] = results['config.model.model_type'] + results['config.setup.model_params.use_observed_lib_size'].astype(str) \n",
    "    results[\"config.model.model_type\"] = results[\"config.model.model_type\"].map(model_type_map)\n",
    "    \n",
    "    return results"
   ]
  },
  {
   "cell_type": "code",
   "execution_count": 7,
   "id": "fff03b90-43a9-4cbf-9b6e-45d29e8ed83e",
   "metadata": {},
   "outputs": [],
   "source": [
    "def create_annotated_boxplot(data, pairs, x, y, hue, hue_order, order, test, ax, x_label=None, y_label=None, legend=True, y_lim=None):\n",
    "    colors = sns.color_palette(\"colorblind\", 5)\n",
    "    palette = dict(zip(model_order, [colors[0], colors[2], colors[4]]))\n",
    "    sns.boxplot(data = data, x=x, y=y, hue=hue, hue_order = hue_order, order=order, orient=\"h\", ax=ax, palette=palette)\n",
    "    annot = Annotator(ax, pairs, data=data, x=x, y=y, order=order, hue=hue, hue_order=hue_order, orient=\"h\")\n",
    "    annot.configure(test=test, text_format='star', loc='inside', comparisons_correction=\"Benjamini-Hochberg\", verbose=2)\n",
    "    annot.apply_test()\n",
    "    ax, test_results = annot.annotate()\n",
    "    \n",
    "        \n",
    "    if x_label:\n",
    "        plt.xlabel(x_label)\n",
    "    else:\n",
    "        plt.xlabel(\"\")\n",
    "        \n",
    "    if y_label:\n",
    "        plt.ylabel(y_label)\n",
    "    else:\n",
    "        plt.ylabel(\"\")\n",
    "        ax.axes.get_yaxis().set_ticklabels([])\n",
    "        \n",
    "    if y_lim:\n",
    "        plt.ylim(y_lim)\n",
    "        \n",
    "    if legend:\n",
    "        plt.legend()\n",
    "    else:\n",
    "        ax.axes.get_legend().set_visible(False)\n",
    "        \n",
    "    plt.tight_layout()\n",
    "    return ax"
   ]
  },
  {
   "cell_type": "markdown",
   "id": "5b245e98-c53a-4f86-bda2-602697200bbe",
   "metadata": {},
   "source": [
    "# Load results of final evaluation"
   ]
  },
  {
   "cell_type": "code",
   "execution_count": 8,
   "id": "ff900ce0-4a76-49c8-b0da-ea2bf37c68d2",
   "metadata": {},
   "outputs": [],
   "source": [
    "model_order = [model_type_map[\"gexTrue\"], model_type_map['gex_binaryTrue'], model_type_map['LS_lab']]"
   ]
  },
  {
   "cell_type": "code",
   "execution_count": 17,
   "id": "7d2a6772-1327-47ed-a02e-12b280ba44d1",
   "metadata": {},
   "outputs": [
    {
     "data": {
      "application/vnd.jupyter.widget-view+json": {
       "model_id": "c1a416e253dc41229fe764ce1c1c29ae",
       "version_major": 2,
       "version_minor": 0
      },
      "text/plain": [
       "  0%|          | 0/143 [00:00<?, ?it/s]"
      ]
     },
     "metadata": {},
     "output_type": "display_data"
    },
    {
     "data": {
      "application/vnd.jupyter.widget-view+json": {
       "model_id": "461de3cb81104e04902c028eff93ad8f",
       "version_major": 2,
       "version_minor": 0
      },
      "text/plain": [
       "  0%|          | 0/143 [00:00<?, ?it/s]"
      ]
     },
     "metadata": {},
     "output_type": "display_data"
    }
   ],
   "source": [
    "results = load_seml(seml_collection, model_type_map, final=True)"
   ]
  },
  {
   "cell_type": "markdown",
   "id": "fdf8be0e-f2cb-4c5e-a6bf-fde05284c925",
   "metadata": {},
   "source": [
    "# Plot results"
   ]
  },
  {
   "cell_type": "code",
   "execution_count": 19,
   "id": "b8684cd8-f2ad-4228-8491-bce103dc6d15",
   "metadata": {},
   "outputs": [],
   "source": [
    "pairs = list(itertools.combinations(results['config.model.model_type'].unique(), 2))"
   ]
  },
  {
   "cell_type": "code",
   "execution_count": 20,
   "id": "a4040b5a-6035-4958-8417-8eea498417cc",
   "metadata": {},
   "outputs": [
    {
     "name": "stdout",
     "output_type": "stream",
     "text": [
      "p-value annotation legend:\n",
      "      ns: p <= 1.00e+00\n",
      "       *: 1.00e-02 < p <= 5.00e-02\n",
      "      **: 1.00e-03 < p <= 1.00e-02\n",
      "     ***: 1.00e-04 < p <= 1.00e-03\n",
      "    ****: p <= 1.00e-04\n",
      "\n",
      "Binary encoder-decoder\n",
      "(observed seq. coverage) vs. Neurips winner: LS_lab\n",
      "(binary, no seq. coverage): t-test paired samples with Benjamini-Hochberg correction, P_val:1.401e-18 t=-1.676e+02\n",
      "Poisson encoder-decoder\n",
      "(observed seq. coverage) vs. Binary encoder-decoder\n",
      "(observed seq. coverage): t-test paired samples with Benjamini-Hochberg correction, P_val:1.215e-04 t=-6.063e+00\n",
      "Poisson encoder-decoder\n",
      "(observed seq. coverage) vs. Neurips winner: LS_lab\n",
      "(binary, no seq. coverage): t-test paired samples with Benjamini-Hochberg correction, P_val:3.369e-18 t=-1.536e+02\n"
     ]
    },
    {
     "name": "stderr",
     "output_type": "stream",
     "text": [
      "No artists with labels found to put in legend.  Note that artists whose label start with an underscore are ignored when legend() is called with no argument.\n"
     ]
    },
    {
     "data": {
      "image/png": "[encoded data removed]",
      "text/plain": [
       "<Figure size 720x432 with 1 Axes>"
      ]
     },
     "metadata": {},
     "output_type": "display_data"
    }
   ],
   "source": [
    "fig, ax = plt.subplots(figsize=(10,6))\n",
    "ax = create_annotated_boxplot(data = results, pairs=pairs, x=f\"result.{metric}\", y=\"config.model.model_type\", hue=None, order=model_order, hue_order=None, ax = ax, test='t-test_paired', y_label=\" \", x_label=\"Root mean squared error\")\n",
    "fig.savefig(os.path.join(fig_path, \"Neurips_challenge_RMSE.pdf\"))\n",
    "fig.savefig(os.path.join(fig_path, \"Neurips_challenge_RMSE.png\"))"
   ]
  }
 ],
 "metadata": {
  "kernelspec": {
   "display_name": "Python 3 (ipykernel)",
   "language": "python",
   "name": "python3"
  },
  "language_info": {
   "codemirror_mode": {
    "name": "ipython",
    "version": 3
   },
   "file_extension": ".py",
   "mimetype": "text/x-python",
   "name": "python",
   "nbconvert_exporter": "python",
   "pygments_lexer": "ipython3",
   "version": "3.9.12"
  }
 },
 "nbformat": 4,
 "nbformat_minor": 5
}
