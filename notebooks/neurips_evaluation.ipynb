{
 "cells": [
  {
   "cell_type": "code",
   "execution_count": 1,
   "id": "5e91800b-bbee-451e-a9c0-03c2019f703b",
   "metadata": {},
   "outputs": [],
   "source": [
    "import anndata as ad\n",
    "import os\n",
    "import numpy as np\n",
    "\n",
    "data_path = '/storage/groups/ml01/workspace/laura.martens/atac_poisson_data/data/neurips/phase2-private-data/'\n",
    "\n",
    "save_path = \n",
    "\n",
    "path = os.path.join(data_path, 'common/openproblems_bmmc_multiome_phase2', 'openproblems_bmmc_multiome_phase2.manual_formatting.output_mod2.h5ad')\n",
    "\n",
    "adata = ad.read(path)\n",
    "\n",
    "neurips_test = ad.read(os.path.join(data_path, 'predict_modality', 'openproblems_bmmc_multiome_phase2_rna', 'openproblems_bmmc_multiome_phase2_rna.censor_dataset.output_test_mod2.h5ad'))\n",
    "\n",
    "neurips_peaks = neurips_test.var_names.values\n",
    "\n",
    "# Create sets of 10000 peaks\n",
    "peaks = adata.var_names[~adata.var_names.isin(neurips_peaks)].values\n",
    "\n",
    "np.random.seed(0)\n",
    "peaks = np.random.permutation(peaks)\n",
    "\n",
    "splits=np.array_split(peaks, np.arange(start=10000, stop=len(peaks), step=10000))[:-1]\n",
    "\n",
    "splits.append(neurips_peaks)\n",
    "\n",
    "len(splits)\n",
    "\n",
    "for i, split in enumerate(splits):\n",
    "    print(i)\n",
    "    a_split = adata[:, split].copy()\n",
    "    a_split[a_split.obs.is_train].write(os.path.join(save_path, \n",
    "                                                     f'openproblems_bmmc_multiome_phase2_rna.censor_dataset.output_train_mod2_split_{i}.h5ad'))\n",
    "    a_split[~a_split.obs.is_train].write(os.path.join(save_path, \n",
    "                                                 f'openproblems_bmmc_multiome_phase2_rna.censor_dataset.output_test_mod2_split_{i}.h5ad'))"
   ]
  },
  {
   "cell_type": "code",
   "execution_count": null,
   "id": "33327308-9a6a-457e-9953-582e4d85a936",
   "metadata": {},
   "outputs": [],
   "source": []
  }
 ],
 "metadata": {
  "kernelspec": {
   "display_name": "Python 3 (ipykernel)",
   "language": "python",
   "name": "python3"
  },
  "language_info": {
   "codemirror_mode": {
    "name": "ipython",
    "version": 3
   },
   "file_extension": ".py",
   "mimetype": "text/x-python",
   "name": "python",
   "nbconvert_exporter": "python",
   "pygments_lexer": "ipython3",
   "version": "3.9.10"
  }
 },
 "nbformat": 4,
 "nbformat_minor": 5
}
