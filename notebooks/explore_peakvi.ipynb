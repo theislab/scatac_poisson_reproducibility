{
 "cells": [
  {
   "cell_type": "code",
   "execution_count": 9,
   "id": "0b90a390-a697-4827-8647-d8b4ec85d911",
   "metadata": {},
   "outputs": [],
   "source": [
    "import scvi\n",
    "import poisson_atac as patac"
   ]
  },
  {
   "cell_type": "code",
   "execution_count": 10,
   "id": "0ebbd7db-6e37-4771-b8db-baaf19051c17",
   "metadata": {},
   "outputs": [],
   "source": [
    "batch='s1d1'\n",
    "adata = patac.data.load_neurips()"
   ]
  },
  {
   "cell_type": "code",
   "execution_count": 19,
   "id": "efb74953-7e2c-4a10-87b4-ec309b81b671",
   "metadata": {},
   "outputs": [],
   "source": [
    "adata.obsm = {}"
   ]
  },
  {
   "cell_type": "code",
   "execution_count": 22,
   "id": "6ab502a6-ac6f-4dc9-9731-3227d518abe5",
   "metadata": {},
   "outputs": [
    {
     "data": {
      "text/plain": [
       "AnnData object with n_obs × n_vars = 42492 × 116490\n",
       "    obs: 'nCount_peaks', 'atac_fragments', 'reads_in_peaks_frac', 'blacklist_fraction', 'nucleosome_signal', 'cell_type', 'pseudotime_order_ATAC', 'batch', 'pseudotime_order_GEX', 'is_train'\n",
       "    var: 'feature_types'\n",
       "    uns: 'dataset_id', 'gene_activity_var_names', 'organism', 'sample_pm_varnames'\n",
       "    layers: 'counts'"
      ]
     },
     "execution_count": 22,
     "metadata": {},
     "output_type": "execute_result"
    }
   ],
   "source": [
    "adata"
   ]
  },
  {
   "cell_type": "code",
   "execution_count": null,
   "id": "4b9b1bfe-1b46-46c0-8f87-677dbe53dee6",
   "metadata": {},
   "outputs": [],
   "source": []
  },
  {
   "cell_type": "code",
   "execution_count": 4,
   "id": "7de9596e-6b88-47a3-bd0b-5306d90c2697",
   "metadata": {},
   "outputs": [],
   "source": [
    "adata = adata[adata.obs.batch == batch].copy()"
   ]
  },
  {
   "cell_type": "code",
   "execution_count": 5,
   "id": "33500048-649b-4ca5-9589-8902dd44fb3f",
   "metadata": {},
   "outputs": [],
   "source": [
    "label_key='cell_type'"
   ]
  },
  {
   "cell_type": "code",
   "execution_count": 6,
   "id": "342d44c8-0236-4aea-92f8-5b036e9d15fb",
   "metadata": {},
   "outputs": [
    {
     "data": {
      "text/plain": [
       "1.0"
      ]
     },
     "execution_count": 6,
     "metadata": {},
     "output_type": "execute_result"
    }
   ],
   "source": [
    "adata.X.max()"
   ]
  },
  {
   "cell_type": "code",
   "execution_count": 7,
   "id": "4faf2ffe-4fe7-4727-9d25-4537bde519ee",
   "metadata": {},
   "outputs": [],
   "source": [
    "scvi.model.PEAKVI.setup_anndata(adata, batch_key=\"batch\")\n",
    "model = scvi.model.PEAKVI(adata)"
   ]
  },
  {
   "cell_type": "code",
   "execution_count": 8,
   "id": "4f1b95fe-344b-47b2-970d-9725b3098708",
   "metadata": {},
   "outputs": [
    {
     "data": {
      "text/plain": [
       "PEAKVAE(\n",
       "  (z_encoder): Encoder(\n",
       "    (encoder): FCLayers(\n",
       "      (fc_layers): Sequential(\n",
       "        (Layer 0): Sequential(\n",
       "          (0): Linear(in_features=116490, out_features=341, bias=True)\n",
       "          (1): None\n",
       "          (2): LayerNorm((341,), eps=1e-05, elementwise_affine=False)\n",
       "          (3): LeakyReLU(negative_slope=0.01)\n",
       "          (4): Dropout(p=0.1, inplace=False)\n",
       "        )\n",
       "        (Layer 1): Sequential(\n",
       "          (0): Linear(in_features=341, out_features=341, bias=True)\n",
       "          (1): None\n",
       "          (2): LayerNorm((341,), eps=1e-05, elementwise_affine=False)\n",
       "          (3): LeakyReLU(negative_slope=0.01)\n",
       "          (4): Dropout(p=0.1, inplace=False)\n",
       "        )\n",
       "      )\n",
       "    )\n",
       "    (mean_encoder): Linear(in_features=341, out_features=18, bias=True)\n",
       "    (var_encoder): Linear(in_features=341, out_features=18, bias=True)\n",
       "  )\n",
       "  (z_decoder): Decoder(\n",
       "    (px_decoder): FCLayers(\n",
       "      (fc_layers): Sequential(\n",
       "        (Layer 0): Sequential(\n",
       "          (0): Linear(in_features=18, out_features=341, bias=True)\n",
       "          (1): None\n",
       "          (2): LayerNorm((341,), eps=1e-05, elementwise_affine=False)\n",
       "          (3): LeakyReLU(negative_slope=0.01)\n",
       "          (4): None\n",
       "        )\n",
       "        (Layer 1): Sequential(\n",
       "          (0): Linear(in_features=341, out_features=341, bias=True)\n",
       "          (1): None\n",
       "          (2): LayerNorm((341,), eps=1e-05, elementwise_affine=False)\n",
       "          (3): LeakyReLU(negative_slope=0.01)\n",
       "          (4): None\n",
       "        )\n",
       "      )\n",
       "    )\n",
       "    (output): Sequential(\n",
       "      (0): Linear(in_features=341, out_features=116490, bias=True)\n",
       "      (1): Sigmoid()\n",
       "    )\n",
       "  )\n",
       "  (d_encoder): Decoder(\n",
       "    (px_decoder): FCLayers(\n",
       "      (fc_layers): Sequential(\n",
       "        (Layer 0): Sequential(\n",
       "          (0): Linear(in_features=116490, out_features=341, bias=True)\n",
       "          (1): None\n",
       "          (2): LayerNorm((341,), eps=1e-05, elementwise_affine=False)\n",
       "          (3): LeakyReLU(negative_slope=0.01)\n",
       "          (4): None\n",
       "        )\n",
       "        (Layer 1): Sequential(\n",
       "          (0): Linear(in_features=341, out_features=341, bias=True)\n",
       "          (1): None\n",
       "          (2): LayerNorm((341,), eps=1e-05, elementwise_affine=False)\n",
       "          (3): LeakyReLU(negative_slope=0.01)\n",
       "          (4): None\n",
       "        )\n",
       "      )\n",
       "    )\n",
       "    (output): Sequential(\n",
       "      (0): Linear(in_features=341, out_features=1, bias=True)\n",
       "      (1): Sigmoid()\n",
       "    )\n",
       "  )\n",
       ")"
      ]
     },
     "execution_count": 8,
     "metadata": {},
     "output_type": "execute_result"
    }
   ],
   "source": [
    "model.module"
   ]
  },
  {
   "cell_type": "code",
   "execution_count": null,
   "id": "7022d06b-3687-46d1-abf2-9b00a51dd58f",
   "metadata": {},
   "outputs": [
    {
     "name": "stderr",
     "output_type": "stream",
     "text": [
      "GPU available: True, used: True\n",
      "TPU available: False, using: 0 TPU cores\n",
      "LOCAL_RANK: 0 - CUDA_VISIBLE_DEVICES: [0]\n",
      "Set SLURM handle signals.\n"
     ]
    },
    {
     "name": "stdout",
     "output_type": "stream",
     "text": [
      "Epoch 1/500:   0%|          | 0/500 [00:00<?, ?it/s]"
     ]
    }
   ],
   "source": [
    "\n",
    "#train model\n",
    "model.train(\n",
    "                 lr=1e-4,\n",
    "                 weight_decay=1e-3,\n",
    "                 max_epochs=500,\n",
    "                 train_size=0.8, \n",
    "                 validation_size=0.1\n",
    "                 )"
   ]
  },
  {
   "cell_type": "code",
   "execution_count": null,
   "id": "1fd24118-5a0d-448a-8c6f-2f8e7122e7bb",
   "metadata": {},
   "outputs": [],
   "source": []
  }
 ],
 "metadata": {
  "kernelspec": {
   "display_name": "Python 3 (ipykernel)",
   "language": "python",
   "name": "python3"
  },
  "language_info": {
   "codemirror_mode": {
    "name": "ipython",
    "version": 3
   },
   "file_extension": ".py",
   "mimetype": "text/x-python",
   "name": "python",
   "nbconvert_exporter": "python",
   "pygments_lexer": "ipython3",
   "version": "3.9.7"
  }
 },
 "nbformat": 4,
 "nbformat_minor": 5
}
