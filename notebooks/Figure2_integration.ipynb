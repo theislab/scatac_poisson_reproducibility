{
 "cells": [
  {
   "cell_type": "code",
   "execution_count": 44,
   "id": "6736eb56-2a74-4f9f-aad2-7a76acb97ef9",
   "metadata": {},
   "outputs": [],
   "source": [
    "%load_ext autoreload\n",
    "%autoreload 2"
   ]
  },
  {
   "cell_type": "code",
   "execution_count": 72,
   "id": "a60c2fdf-6251-4e41-ab2b-1efd6863f372",
   "metadata": {},
   "outputs": [],
   "source": [
    "from utils import load_seml, model_type_map, dataset_map\n",
    "import scvelo as scv\n",
    "import pandas as pd\n",
    "import glob\n",
    "import os\n",
    "import pandas as pd\n",
    "import seaborn as sns\n",
    "import matplotlib.pyplot as plt\n",
    "import matplotlib"
   ]
  },
  {
   "cell_type": "code",
   "execution_count": 2,
   "id": "c17b21cf-2c17-4f2f-a6e0-8f7ebe89c151",
   "metadata": {},
   "outputs": [],
   "source": [
    "scv.set_figure_params()"
   ]
  },
  {
   "cell_type": "code",
   "execution_count": 3,
   "id": "947c5f30-a6f3-4198-86c2-4aa11f725525",
   "metadata": {},
   "outputs": [],
   "source": [
    "save_path = '/lustre/groups/ml01/workspace/laura.martens/atac_poisson_data/processed/scib/'"
   ]
  },
  {
   "cell_type": "markdown",
   "id": "b5bd30eb-a2b7-4236-8a67-2d681241bf04",
   "metadata": {},
   "source": [
    "# Load results"
   ]
  },
  {
   "cell_type": "code",
   "execution_count": 56,
   "id": "ff900ce0-4a76-49c8-b0da-ea2bf37c68d2",
   "metadata": {},
   "outputs": [],
   "source": [
    "model_order = [model_type_map['poissonviTrue'], model_type_map['binaryviTrue'], model_type_map[\"peakvi\"]]"
   ]
  },
  {
   "cell_type": "code",
   "execution_count": 57,
   "id": "0e6be059-36c7-439e-ba02-9112b9e321f2",
   "metadata": {},
   "outputs": [],
   "source": [
    "seml_database = 'atac_to_atac'"
   ]
  },
  {
   "cell_type": "code",
   "execution_count": 58,
   "id": "7d2a6772-1327-47ed-a02e-12b280ba44d1",
   "metadata": {},
   "outputs": [
    {
     "data": {
      "application/vnd.jupyter.widget-view+json": {
       "model_id": "96953ee3e4654bc2acd0b0dfa6c01fec",
       "version_major": 2,
       "version_minor": 0
      },
      "text/plain": [
       "  0%|          | 0/70 [00:00<?, ?it/s]"
      ]
     },
     "metadata": {},
     "output_type": "display_data"
    },
    {
     "data": {
      "application/vnd.jupyter.widget-view+json": {
       "model_id": "18cc095696c948d5a0f1ec35723f20b5",
       "version_major": 2,
       "version_minor": 0
      },
      "text/plain": [
       "  0%|          | 0/70 [00:00<?, ?it/s]"
      ]
     },
     "metadata": {},
     "output_type": "display_data"
    }
   ],
   "source": [
    "results = load_seml(seml_database, convert_dataset_name=False)"
   ]
  },
  {
   "cell_type": "code",
   "execution_count": 59,
   "id": "009e7907-9f1a-42ca-bd09-0648df034aff",
   "metadata": {},
   "outputs": [],
   "source": [
    "df1 = results[results[\"config.data.batch\"].isna()] #filtering for final run"
   ]
  },
  {
   "cell_type": "markdown",
   "id": "7f3512b9-9480-4ab4-8a82-40f460bf3f47",
   "metadata": {},
   "source": [
    "## Add new datasets"
   ]
  },
  {
   "cell_type": "code",
   "execution_count": 60,
   "id": "f1c6a02f-f467-4613-b7e7-17f38f4e9cc9",
   "metadata": {},
   "outputs": [],
   "source": [
    "seml_database = 'atac_to_atac_new_datasets'"
   ]
  },
  {
   "cell_type": "code",
   "execution_count": 61,
   "id": "2e5d9ebe-c0b2-4dd7-93d8-76ee62395202",
   "metadata": {},
   "outputs": [
    {
     "data": {
      "application/vnd.jupyter.widget-view+json": {
       "model_id": "7d5855590e16419babb607fe94248946",
       "version_major": 2,
       "version_minor": 0
      },
      "text/plain": [
       "  0%|          | 0/120 [00:00<?, ?it/s]"
      ]
     },
     "metadata": {},
     "output_type": "display_data"
    },
    {
     "data": {
      "application/vnd.jupyter.widget-view+json": {
       "model_id": "1058c769a6954873a7cb23dd1cd2c3e2",
       "version_major": 2,
       "version_minor": 0
      },
      "text/plain": [
       "  0%|          | 0/120 [00:00<?, ?it/s]"
      ]
     },
     "metadata": {},
     "output_type": "display_data"
    }
   ],
   "source": [
    "results = load_seml(seml_database, convert_dataset_name=False)"
   ]
  },
  {
   "cell_type": "code",
   "execution_count": 62,
   "id": "7004ad45-2023-494c-8a69-d827769f4918",
   "metadata": {},
   "outputs": [],
   "source": [
    "df2 = results[results[\"config.data.batch\"].isna()] #filtering for final run"
   ]
  },
  {
   "cell_type": "markdown",
   "id": "2fafe12a-3de1-4434-8e65-47e121af5f31",
   "metadata": {},
   "source": [
    "## Add benchmark results"
   ]
  },
  {
   "cell_type": "code",
   "execution_count": 63,
   "id": "79df83da-2658-4060-b5b4-742bba21e07a",
   "metadata": {},
   "outputs": [
    {
     "data": {
      "application/vnd.jupyter.widget-view+json": {
       "model_id": "1d83f801134841058932dfac3724341d",
       "version_major": 2,
       "version_minor": 0
      },
      "text/plain": [
       "  0%|          | 0/20 [00:00<?, ?it/s]"
      ]
     },
     "metadata": {},
     "output_type": "display_data"
    },
    {
     "data": {
      "application/vnd.jupyter.widget-view+json": {
       "model_id": "1aa132da667e4c7eb269d1d19c5669c4",
       "version_major": 2,
       "version_minor": 0
      },
      "text/plain": [
       "  0%|          | 0/20 [00:00<?, ?it/s]"
      ]
     },
     "metadata": {},
     "output_type": "display_data"
    }
   ],
   "source": [
    "benchmark = load_seml('integration_benchmark', convert_dataset_name=False)"
   ]
  },
  {
   "cell_type": "markdown",
   "id": "710d6e25-e032-4e2c-b584-3c095a4a1083",
   "metadata": {},
   "source": [
    "## Concatenate"
   ]
  },
  {
   "cell_type": "code",
   "execution_count": 64,
   "id": "0bf9965a-d0d5-47fd-a333-042f96eb0802",
   "metadata": {},
   "outputs": [],
   "source": [
    "df = pd.concat([df1, df2, benchmark], axis = 0).dropna(subset='config.data.dataset')"
   ]
  },
  {
   "cell_type": "code",
   "execution_count": 66,
   "id": "70407887-e3d2-4690-88ac-2d2d50a100a5",
   "metadata": {},
   "outputs": [],
   "source": [
    "df.loc[df['config.data.dataset'] == 'hematopoiesis', 'config.data.dataset'] = 'satpathy'"
   ]
  },
  {
   "cell_type": "code",
   "execution_count": 67,
   "id": "7dc15c78-d54f-45f6-b2ad-4911aa252fd9",
   "metadata": {},
   "outputs": [],
   "source": [
    "df = df[df['config.data.dataset'] != 'trapnell']"
   ]
  },
  {
   "cell_type": "code",
   "execution_count": 68,
   "id": "3863e1c8-b788-48b8-a662-a900c9419936",
   "metadata": {},
   "outputs": [],
   "source": [
    "df.loc[df['config.data.dataset'] == 'trapnell_old', 'result.embedding'] = df.loc[df['config.data.dataset'] == 'trapnell_old', 'result.embedding'].apply(lambda x: x.mean(axis=1).to_frame())"
   ]
  },
  {
   "cell_type": "markdown",
   "id": "0c184476-aeae-41b6-b8f3-6c5df6b746b8",
   "metadata": {},
   "source": [
    "# Compute mean per model and bring into right format for scib plotting function"
   ]
  },
  {
   "cell_type": "code",
   "execution_count": 69,
   "id": "7f42df9d-2751-4abb-923b-db1d08d1c862",
   "metadata": {},
   "outputs": [],
   "source": [
    "# Export data for scib plotting in R\n",
    "scib_table = pd.concat(df['result.embedding'].values, axis =1).T"
   ]
  },
  {
   "cell_type": "code",
   "execution_count": 70,
   "id": "e9ace177-197b-4bdd-984f-0ace0c5ba7e6",
   "metadata": {},
   "outputs": [],
   "source": [
    "scib_table.index = \"/\" + df['config.data.dataset'] + \"/metrics/unscaled/full_feature/\" + df['config.model.model_type'].str.split('\\n').str[0] + \"_embed\"\n",
    "scib_table.index.name = \"X\""
   ]
  },
  {
   "cell_type": "code",
   "execution_count": 71,
   "id": "07435836-eace-4177-a9aa-faa9c22b14bb",
   "metadata": {},
   "outputs": [
    {
     "data": {
      "text/html": [
       "<div>\n",
       "<style scoped>\n",
       "    .dataframe tbody tr th:only-of-type {\n",
       "        vertical-align: middle;\n",
       "    }\n",
       "\n",
       "    .dataframe tbody tr th {\n",
       "        vertical-align: top;\n",
       "    }\n",
       "\n",
       "    .dataframe thead th {\n",
       "        text-align: right;\n",
       "    }\n",
       "</style>\n",
       "<table border=\"1\" class=\"dataframe\">\n",
       "  <thead>\n",
       "    <tr style=\"text-align: right;\">\n",
       "      <th></th>\n",
       "      <th>NMI_cluster/label</th>\n",
       "      <th>ARI_cluster/label</th>\n",
       "      <th>ASW_label</th>\n",
       "      <th>ASW_label/batch</th>\n",
       "      <th>PCR_batch</th>\n",
       "      <th>cell_cycle_conservation</th>\n",
       "      <th>isolated_label_F1</th>\n",
       "      <th>isolated_label_silhouette</th>\n",
       "      <th>graph_conn</th>\n",
       "      <th>kBET</th>\n",
       "      <th>iLISI</th>\n",
       "      <th>cLISI</th>\n",
       "      <th>hvg_overlap</th>\n",
       "      <th>trajectory</th>\n",
       "    </tr>\n",
       "    <tr>\n",
       "      <th>X</th>\n",
       "      <th></th>\n",
       "      <th></th>\n",
       "      <th></th>\n",
       "      <th></th>\n",
       "      <th></th>\n",
       "      <th></th>\n",
       "      <th></th>\n",
       "      <th></th>\n",
       "      <th></th>\n",
       "      <th></th>\n",
       "      <th></th>\n",
       "      <th></th>\n",
       "      <th></th>\n",
       "      <th></th>\n",
       "    </tr>\n",
       "  </thead>\n",
       "  <tbody>\n",
       "    <tr>\n",
       "      <th>/aerts/metrics/unscaled/full_feature/Binary VAE_embed</th>\n",
       "      <td>0.719963</td>\n",
       "      <td>0.458843</td>\n",
       "      <td>0.519397</td>\n",
       "      <td>0.952917</td>\n",
       "      <td>0.837484</td>\n",
       "      <td>NaN</td>\n",
       "      <td>0.528190</td>\n",
       "      <td>0.491352</td>\n",
       "      <td>0.947518</td>\n",
       "      <td>NaN</td>\n",
       "      <td>0.246962</td>\n",
       "      <td>0.967808</td>\n",
       "      <td>NaN</td>\n",
       "      <td>NaN</td>\n",
       "    </tr>\n",
       "    <tr>\n",
       "      <th>/aerts/metrics/unscaled/full_feature/PeakVI_embed</th>\n",
       "      <td>0.706722</td>\n",
       "      <td>0.438688</td>\n",
       "      <td>0.515999</td>\n",
       "      <td>0.949591</td>\n",
       "      <td>0.683178</td>\n",
       "      <td>NaN</td>\n",
       "      <td>0.560663</td>\n",
       "      <td>0.486512</td>\n",
       "      <td>0.943244</td>\n",
       "      <td>NaN</td>\n",
       "      <td>0.246131</td>\n",
       "      <td>0.967819</td>\n",
       "      <td>NaN</td>\n",
       "      <td>NaN</td>\n",
       "    </tr>\n",
       "    <tr>\n",
       "      <th>/aerts/metrics/unscaled/full_feature/Poisson VAE_embed</th>\n",
       "      <td>0.714754</td>\n",
       "      <td>0.446702</td>\n",
       "      <td>0.517154</td>\n",
       "      <td>0.954022</td>\n",
       "      <td>0.877684</td>\n",
       "      <td>NaN</td>\n",
       "      <td>0.532298</td>\n",
       "      <td>0.490181</td>\n",
       "      <td>0.946489</td>\n",
       "      <td>NaN</td>\n",
       "      <td>0.248961</td>\n",
       "      <td>0.966868</td>\n",
       "      <td>NaN</td>\n",
       "      <td>NaN</td>\n",
       "    </tr>\n",
       "    <tr>\n",
       "      <th>/aerts/metrics/unscaled/full_feature/SCALE_embed</th>\n",
       "      <td>0.552392</td>\n",
       "      <td>0.246130</td>\n",
       "      <td>0.468691</td>\n",
       "      <td>0.903891</td>\n",
       "      <td>0.000000</td>\n",
       "      <td>NaN</td>\n",
       "      <td>0.140654</td>\n",
       "      <td>0.495872</td>\n",
       "      <td>0.675981</td>\n",
       "      <td>NaN</td>\n",
       "      <td>0.218982</td>\n",
       "      <td>0.872877</td>\n",
       "      <td>NaN</td>\n",
       "      <td>NaN</td>\n",
       "    </tr>\n",
       "    <tr>\n",
       "      <th>/aerts/metrics/unscaled/full_feature/Signac (Harmony)_embed</th>\n",
       "      <td>0.630342</td>\n",
       "      <td>0.363472</td>\n",
       "      <td>0.466408</td>\n",
       "      <td>0.894256</td>\n",
       "      <td>0.976686</td>\n",
       "      <td>NaN</td>\n",
       "      <td>0.333330</td>\n",
       "      <td>0.454145</td>\n",
       "      <td>0.902764</td>\n",
       "      <td>NaN</td>\n",
       "      <td>0.267857</td>\n",
       "      <td>0.944966</td>\n",
       "      <td>NaN</td>\n",
       "      <td>NaN</td>\n",
       "    </tr>\n",
       "  </tbody>\n",
       "</table>\n",
       "</div>"
      ],
      "text/plain": [
       "                                                    NMI_cluster/label  \\\n",
       "X                                                                       \n",
       "/aerts/metrics/unscaled/full_feature/Binary VAE...           0.719963   \n",
       "/aerts/metrics/unscaled/full_feature/PeakVI_embed            0.706722   \n",
       "/aerts/metrics/unscaled/full_feature/Poisson VA...           0.714754   \n",
       "/aerts/metrics/unscaled/full_feature/SCALE_embed             0.552392   \n",
       "/aerts/metrics/unscaled/full_feature/Signac (Ha...           0.630342   \n",
       "\n",
       "                                                    ARI_cluster/label  \\\n",
       "X                                                                       \n",
       "/aerts/metrics/unscaled/full_feature/Binary VAE...           0.458843   \n",
       "/aerts/metrics/unscaled/full_feature/PeakVI_embed            0.438688   \n",
       "/aerts/metrics/unscaled/full_feature/Poisson VA...           0.446702   \n",
       "/aerts/metrics/unscaled/full_feature/SCALE_embed             0.246130   \n",
       "/aerts/metrics/unscaled/full_feature/Signac (Ha...           0.363472   \n",
       "\n",
       "                                                    ASW_label  \\\n",
       "X                                                               \n",
       "/aerts/metrics/unscaled/full_feature/Binary VAE...   0.519397   \n",
       "/aerts/metrics/unscaled/full_feature/PeakVI_embed    0.515999   \n",
       "/aerts/metrics/unscaled/full_feature/Poisson VA...   0.517154   \n",
       "/aerts/metrics/unscaled/full_feature/SCALE_embed     0.468691   \n",
       "/aerts/metrics/unscaled/full_feature/Signac (Ha...   0.466408   \n",
       "\n",
       "                                                    ASW_label/batch  \\\n",
       "X                                                                     \n",
       "/aerts/metrics/unscaled/full_feature/Binary VAE...         0.952917   \n",
       "/aerts/metrics/unscaled/full_feature/PeakVI_embed          0.949591   \n",
       "/aerts/metrics/unscaled/full_feature/Poisson VA...         0.954022   \n",
       "/aerts/metrics/unscaled/full_feature/SCALE_embed           0.903891   \n",
       "/aerts/metrics/unscaled/full_feature/Signac (Ha...         0.894256   \n",
       "\n",
       "                                                    PCR_batch  \\\n",
       "X                                                               \n",
       "/aerts/metrics/unscaled/full_feature/Binary VAE...   0.837484   \n",
       "/aerts/metrics/unscaled/full_feature/PeakVI_embed    0.683178   \n",
       "/aerts/metrics/unscaled/full_feature/Poisson VA...   0.877684   \n",
       "/aerts/metrics/unscaled/full_feature/SCALE_embed     0.000000   \n",
       "/aerts/metrics/unscaled/full_feature/Signac (Ha...   0.976686   \n",
       "\n",
       "                                                    cell_cycle_conservation  \\\n",
       "X                                                                             \n",
       "/aerts/metrics/unscaled/full_feature/Binary VAE...                      NaN   \n",
       "/aerts/metrics/unscaled/full_feature/PeakVI_embed                       NaN   \n",
       "/aerts/metrics/unscaled/full_feature/Poisson VA...                      NaN   \n",
       "/aerts/metrics/unscaled/full_feature/SCALE_embed                        NaN   \n",
       "/aerts/metrics/unscaled/full_feature/Signac (Ha...                      NaN   \n",
       "\n",
       "                                                    isolated_label_F1  \\\n",
       "X                                                                       \n",
       "/aerts/metrics/unscaled/full_feature/Binary VAE...           0.528190   \n",
       "/aerts/metrics/unscaled/full_feature/PeakVI_embed            0.560663   \n",
       "/aerts/metrics/unscaled/full_feature/Poisson VA...           0.532298   \n",
       "/aerts/metrics/unscaled/full_feature/SCALE_embed             0.140654   \n",
       "/aerts/metrics/unscaled/full_feature/Signac (Ha...           0.333330   \n",
       "\n",
       "                                                    isolated_label_silhouette  \\\n",
       "X                                                                               \n",
       "/aerts/metrics/unscaled/full_feature/Binary VAE...                   0.491352   \n",
       "/aerts/metrics/unscaled/full_feature/PeakVI_embed                    0.486512   \n",
       "/aerts/metrics/unscaled/full_feature/Poisson VA...                   0.490181   \n",
       "/aerts/metrics/unscaled/full_feature/SCALE_embed                     0.495872   \n",
       "/aerts/metrics/unscaled/full_feature/Signac (Ha...                   0.454145   \n",
       "\n",
       "                                                    graph_conn  kBET  \\\n",
       "X                                                                      \n",
       "/aerts/metrics/unscaled/full_feature/Binary VAE...    0.947518   NaN   \n",
       "/aerts/metrics/unscaled/full_feature/PeakVI_embed     0.943244   NaN   \n",
       "/aerts/metrics/unscaled/full_feature/Poisson VA...    0.946489   NaN   \n",
       "/aerts/metrics/unscaled/full_feature/SCALE_embed      0.675981   NaN   \n",
       "/aerts/metrics/unscaled/full_feature/Signac (Ha...    0.902764   NaN   \n",
       "\n",
       "                                                       iLISI     cLISI  \\\n",
       "X                                                                        \n",
       "/aerts/metrics/unscaled/full_feature/Binary VAE...  0.246962  0.967808   \n",
       "/aerts/metrics/unscaled/full_feature/PeakVI_embed   0.246131  0.967819   \n",
       "/aerts/metrics/unscaled/full_feature/Poisson VA...  0.248961  0.966868   \n",
       "/aerts/metrics/unscaled/full_feature/SCALE_embed    0.218982  0.872877   \n",
       "/aerts/metrics/unscaled/full_feature/Signac (Ha...  0.267857  0.944966   \n",
       "\n",
       "                                                    hvg_overlap  trajectory  \n",
       "X                                                                            \n",
       "/aerts/metrics/unscaled/full_feature/Binary VAE...          NaN         NaN  \n",
       "/aerts/metrics/unscaled/full_feature/PeakVI_embed           NaN         NaN  \n",
       "/aerts/metrics/unscaled/full_feature/Poisson VA...          NaN         NaN  \n",
       "/aerts/metrics/unscaled/full_feature/SCALE_embed            NaN         NaN  \n",
       "/aerts/metrics/unscaled/full_feature/Signac (Ha...          NaN         NaN  "
      ]
     },
     "execution_count": 71,
     "metadata": {},
     "output_type": "execute_result"
    }
   ],
   "source": [
    "scib_table = scib_table.reset_index().groupby('X').agg(\"mean\")\n",
    "\n",
    "scib_table.head()"
   ]
  },
  {
   "cell_type": "code",
   "execution_count": 101,
   "id": "66de9c60-dcc2-444c-beb5-fe72af4cd177",
   "metadata": {},
   "outputs": [],
   "source": [
    "scib_table.to_csv(os.path.join(save_path, \"integration_metrics_benchmark_mean.csv\"))"
   ]
  },
  {
   "cell_type": "markdown",
   "id": "17074925-885b-4da4-b0b3-3380a465aaec",
   "metadata": {},
   "source": [
    "Code to produce plots using the functions from https://github.com/theislab/scib-reproducibility"
   ]
  },
  {
   "cell_type": "markdown",
   "id": "b788fad2-fa0f-4a46-89a8-69c2c0a0cf42",
   "metadata": {},
   "source": [
    "```R\n",
    "source(\"plotSingleTaskATAC.R\") \n",
    "plotSingleTaskATAC('/lustre/groups/ml01/workspace/laura.martens/atac_poisson_data/processed/scib/integration_metrics_benchmark_mean.csv',\n",
    "                  outdir='/lustre/groups/ml01/workspace/laura.martens/atac_poisson_data/panels/new_plots/scib/')\n",
    "```"
   ]
  },
  {
   "cell_type": "markdown",
   "id": "75925e89-1431-4fb0-9feb-542fc6050b48",
   "metadata": {},
   "source": [
    "# Read in summary scores and plot them"
   ]
  },
  {
   "cell_type": "code",
   "execution_count": 73,
   "id": "a64e6312-e295-4b8a-90c1-e7f2cb4686be",
   "metadata": {},
   "outputs": [],
   "source": [
    "sns.set_style(\"whitegrid\")"
   ]
  },
  {
   "cell_type": "markdown",
   "id": "dc6e671d-662b-4a20-a506-23226d60f0b6",
   "metadata": {},
   "source": [
    "### Read in data"
   ]
  },
  {
   "cell_type": "code",
   "execution_count": 75,
   "id": "a645aaea-cfdd-43b7-9486-a22b8339b112",
   "metadata": {},
   "outputs": [],
   "source": [
    "fig_path = '/lustre/groups/ml01/workspace/laura.martens/atac_poisson_data/panels/new_plots/'"
   ]
  },
  {
   "cell_type": "code",
   "execution_count": 76,
   "id": "1caced2d-d277-4530-8871-a09d6226dfe5",
   "metadata": {},
   "outputs": [],
   "source": [
    "scores = pd.Series(glob.glob(os.path.join(fig_path, 'scib', '*.csv')))"
   ]
  },
  {
   "cell_type": "code",
   "execution_count": 77,
   "id": "d974c675-3b1a-458b-bbf0-cd371d446d2b",
   "metadata": {},
   "outputs": [],
   "source": [
    "scores = scores[scores.str.contains('|'.join(list(dataset_map.keys())), regex=True)]"
   ]
  },
  {
   "cell_type": "code",
   "execution_count": 78,
   "id": "fb3db842-6a06-432d-a807-ee0d96b1b06a",
   "metadata": {},
   "outputs": [],
   "source": [
    "scores_dfs = [pd.read_csv(score, index_col=0) for score in scores]"
   ]
  },
  {
   "cell_type": "code",
   "execution_count": 79,
   "id": "f80b0cb4-5ad7-4f6e-b6a7-76d71bd03a81",
   "metadata": {},
   "outputs": [],
   "source": [
    "dataset = pd.Series(scores).str.split('scib/|_summary', expand=True, regex=True)[1]"
   ]
  },
  {
   "cell_type": "code",
   "execution_count": 81,
   "id": "6e424cdf-31d6-4942-8d89-7644fdda895b",
   "metadata": {},
   "outputs": [],
   "source": [
    "dataset.name ='Dataset'"
   ]
  },
  {
   "cell_type": "code",
   "execution_count": 82,
   "id": "1ba741c4-9080-409a-b1d0-cfa4a42f1f6d",
   "metadata": {},
   "outputs": [],
   "source": [
    "scores = pd.concat(scores_dfs, keys=dataset).reset_index()"
   ]
  },
  {
   "cell_type": "code",
   "execution_count": 83,
   "id": "0aef5680-8dc4-4c39-85ba-a4fd2bba8113",
   "metadata": {},
   "outputs": [],
   "source": [
    "scores['Dataset'] = scores['Dataset'].map(dataset_map)"
   ]
  },
  {
   "cell_type": "markdown",
   "id": "5b5b7dc3-322a-41ba-b668-c6ed63c9c3d9",
   "metadata": {},
   "source": [
    "### Plot data"
   ]
  },
  {
   "cell_type": "code",
   "execution_count": 84,
   "id": "eb6092b7-9b15-4710-ab19-676abf073bd5",
   "metadata": {},
   "outputs": [],
   "source": [
    "order = [dataset_map[key] for key in ['neurips',  'satpathy', 'aerts', 'trapnell_old']]"
   ]
  },
  {
   "cell_type": "code",
   "execution_count": 85,
   "id": "f5285d83-598f-4512-9783-ad38ac8d611e",
   "metadata": {},
   "outputs": [
    {
     "data": {
      "image/png": "[encoded data removed]",
      "text/plain": [
       "<Figure size 800x400 with 1 Axes>"
      ]
     },
     "metadata": {
      "image/png": {
       "height": 383,
       "width": 778
      }
     },
     "output_type": "display_data"
    }
   ],
   "source": [
    "fig, ax = plt.subplots(figsize=(8,4))\n",
    "ax = sns.barplot(data=scores, x='Dataset', y='Overall Score', hue='Method', order=order)\n",
    "sns.despine(left=True)\n",
    "ax.legend().remove()\n",
    "plt.ylim((0,1))\n",
    "plt.ylabel('Overall Score\\n(Weighted Bio Conservation\\n and Batch Correction)')\n",
    "plt.xlabel('')\n",
    "plt.tight_layout()\n",
    "fig.savefig(os.path.join(fig_path, 'integration', f'overall_score_bar.pdf'))\n",
    "fig.savefig(os.path.join(fig_path, 'integration', f'overall_score_bar.png'))"
   ]
  }
 ],
 "metadata": {
  "kernelspec": {
   "display_name": "Python 3 (ipykernel)",
   "language": "python",
   "name": "python3"
  },
  "language_info": {
   "codemirror_mode": {
    "name": "ipython",
    "version": 3
   },
   "file_extension": ".py",
   "mimetype": "text/x-python",
   "name": "python",
   "nbconvert_exporter": "python",
   "pygments_lexer": "ipython3",
   "version": "3.9.12"
  }
 },
 "nbformat": 4,
 "nbformat_minor": 5
}
