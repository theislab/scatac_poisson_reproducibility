{
 "cells": [
  {
   "cell_type": "code",
   "execution_count": 1,
   "id": "47c09caf-530c-49b8-84af-2e2fa8ca2699",
   "metadata": {},
   "outputs": [],
   "source": [
    "%load_ext autoreload\n",
    "%autoreload 2"
   ]
  },
  {
   "cell_type": "code",
   "execution_count": 2,
   "id": "74192284-5b14-4c9e-a950-f05564cf1ef0",
   "metadata": {},
   "outputs": [
    {
     "name": "stderr",
     "output_type": "stream",
     "text": [
      "Global seed set to 0\n"
     ]
    }
   ],
   "source": [
    "import seml\n",
    "from poisson_atac.utils import model_type_map\n",
    "import seaborn as sns\n",
    "import numpy as np\n",
    "import pandas as pd\n",
    "import matplotlib.pyplot as plt\n",
    "import os"
   ]
  },
  {
   "cell_type": "code",
   "execution_count": 3,
   "id": "693879ba-961f-4e3d-a495-36db6fbd5f06",
   "metadata": {},
   "outputs": [],
   "source": [
    "from statannotations.Annotator import Annotator\n",
    "import itertools"
   ]
  },
  {
   "cell_type": "code",
   "execution_count": 4,
   "id": "4abb5b34-5f19-4970-93e9-4451a7dbe655",
   "metadata": {},
   "outputs": [],
   "source": [
    "seml_collection = \"neurips_challenge_evaluation\""
   ]
  },
  {
   "cell_type": "code",
   "execution_count": 5,
   "id": "947c5f30-a6f3-4198-86c2-4aa11f725525",
   "metadata": {},
   "outputs": [],
   "source": [
    "fig_path = '/storage/groups/ml01/workspace/laura.martens/atac_poisson_data/panels/Figure2/'"
   ]
  },
  {
   "cell_type": "code",
   "execution_count": 9,
   "id": "ca850034-b275-4114-8d8c-5818b7c516b4",
   "metadata": {},
   "outputs": [],
   "source": [
    "\n",
    "def load_seml(seml_database, model_type_map, final=False, metric=\"rmse\"):\n",
    "    dataset_map = {'neurips': 'Neurips\\nall batches'}\n",
    "    \n",
    "    results = seml.get_results(seml_database, to_data_frame=True,  fields=[\"config\", \"config_hash\", \"result\", \"batch_id\"])\n",
    "    \n",
    "    results = results[results['config.training.final']==final]\n",
    "    results['config.data.dataset'] = results['config.data.dataset'].map(dataset_map)\n",
    "    #add LS-lab results\n",
    "    results.loc[results['config.model.model_type'].isna(), 'config.model.model_type'] = results.loc[results['config.model.model_type'].isna(), 'config.model.method']\n",
    "    \n",
    "    results['config.setup.model_params.use_observed_lib_size'] = results['config.setup.model_params.use_observed_lib_size'].map({True: \"True\", np.nan: ''})\n",
    "    #combine with results using mean library size\n",
    "    df = merge_dataframe(results, metric)\n",
    "    \n",
    "    df['config.model.model_type'] = df['config.model.model_type'] + df['config.setup.model_params.use_observed_lib_size'].astype(str) \n",
    "    df[\"config.model.model_type\"] = df[\"config.model.model_type\"].map(model_type_map)\n",
    "    \n",
    "    return df"
   ]
  },
  {
   "cell_type": "code",
   "execution_count": 16,
   "id": "546ba4d1-c01b-4527-8be2-236d8f584124",
   "metadata": {},
   "outputs": [],
   "source": [
    "def merge_dataframe(results, metric):\n",
    "    df = results.loc[:, [f\"result.{metric}\", \"config.model.model_type\", \"config.setup.model_params.use_observed_lib_size\", 'config.data.data_split', 'config.setup.model_params.n_latent']]\n",
    "    df_mean = results.loc[:, [\"config.model.model_type\", 'config.data.data_split']]\n",
    "    df_mean.loc[:, f'result.{metric}'] = pd.concat(results['result.test_cells'].values).loc[metric, \"Mean\"].values\n",
    "    df_mean.loc[:, \"config.setup.model_params.use_observed_lib_size\"] = False\n",
    "    df = pd.concat([df, df_mean.dropna()], axis=0)\n",
    "    return df"
   ]
  },
  {
   "cell_type": "code",
   "execution_count": 11,
   "id": "fff03b90-43a9-4cbf-9b6e-45d29e8ed83e",
   "metadata": {},
   "outputs": [],
   "source": [
    "def create_annotated_boxplot(data, pairs, x, y, hue, hue_order, order, test, ax, x_label=None, y_label=None, legend=True, y_lim=None):\n",
    "    sns.boxplot(data = data, x=x, y=y, hue=hue, hue_order = hue_order, order=order, orient=\"h\", ax=ax, palette=\"Blues\")\n",
    "    annot = Annotator(ax, pairs, data=data, x=x, y=y, order=order, hue=hue, hue_order=hue_order, orient=\"h\")\n",
    "    annot.configure(test=test, verbose=0, text_format='star', loc='inside')\n",
    "    annot.apply_test()\n",
    "    ax, test_results = annot.annotate()\n",
    "    \n",
    "        \n",
    "    if x_label:\n",
    "        plt.xlabel(x_label)\n",
    "    else:\n",
    "        plt.xlabel(\"\")\n",
    "        #plt.xlabel(x.split(\".\")[-1])\n",
    "        \n",
    "    if y_label:\n",
    "        plt.ylabel(y_label)\n",
    "    else:\n",
    "        plt.ylabel(\"\")\n",
    "        ax.axes.get_yaxis().set_ticklabels([])\n",
    "        #ax.axes.get_yaxis().set_visible(False)\n",
    "        #plt.ylabel(y.split(\".\")[-1])\n",
    "        \n",
    "    if y_lim:\n",
    "        plt.ylim(y_lim)\n",
    "        \n",
    "    if legend:\n",
    "        plt.legend()\n",
    "    else:\n",
    "        ax.axes.get_legend().set_visible(False)\n",
    "        \n",
    "    plt.tight_layout()\n",
    "    return ax"
   ]
  },
  {
   "cell_type": "markdown",
   "id": "c39de4a1-ed23-4433-b9d7-6fe8e4cbe5dc",
   "metadata": {},
   "source": [
    "# Load hyperparameter search\n"
   ]
  },
  {
   "cell_type": "code",
   "execution_count": 19,
   "id": "9006634b-ea49-4611-b425-48857146cecf",
   "metadata": {},
   "outputs": [
    {
     "data": {
      "application/vnd.jupyter.widget-view+json": {
       "model_id": "af0a4d5fadf945498c9032c78c9b8a09",
       "version_major": 2,
       "version_minor": 0
      },
      "text/plain": [
       "  0%|          | 0/143 [00:00<?, ?it/s]"
      ]
     },
     "metadata": {},
     "output_type": "display_data"
    },
    {
     "data": {
      "application/vnd.jupyter.widget-view+json": {
       "model_id": "3e912085ed934907bab16d7df4401529",
       "version_major": 2,
       "version_minor": 0
      },
      "text/plain": [
       "  0%|          | 0/143 [00:00<?, ?it/s]"
      ]
     },
     "metadata": {},
     "output_type": "display_data"
    }
   ],
   "source": [
    "metric=\"average_precision\"\n",
    "results = load_seml(seml_collection, model_type_map, final=False, metric=metric)"
   ]
  },
  {
   "cell_type": "code",
   "execution_count": 20,
   "id": "20e10928-e372-4663-8cee-13392403f810",
   "metadata": {},
   "outputs": [
    {
     "data": {
      "text/html": [
       "<div>\n",
       "<style scoped>\n",
       "    .dataframe tbody tr th:only-of-type {\n",
       "        vertical-align: middle;\n",
       "    }\n",
       "\n",
       "    .dataframe tbody tr th {\n",
       "        vertical-align: top;\n",
       "    }\n",
       "\n",
       "    .dataframe thead th {\n",
       "        text-align: right;\n",
       "    }\n",
       "</style>\n",
       "<table border=\"1\" class=\"dataframe\">\n",
       "  <thead>\n",
       "    <tr style=\"text-align: right;\">\n",
       "      <th></th>\n",
       "      <th>result.average_precision</th>\n",
       "      <th>config.model.model_type</th>\n",
       "      <th>config.setup.model_params.use_observed_lib_size</th>\n",
       "      <th>config.data.data_split</th>\n",
       "      <th>config.setup.model_params.n_latent</th>\n",
       "    </tr>\n",
       "  </thead>\n",
       "  <tbody>\n",
       "    <tr>\n",
       "      <th>11</th>\n",
       "      <td>0.263996</td>\n",
       "      <td>Poisson encoder-decoder\\n(observed library size)</td>\n",
       "      <td>True</td>\n",
       "      <td>0</td>\n",
       "      <td>10.0</td>\n",
       "    </tr>\n",
       "    <tr>\n",
       "      <th>12</th>\n",
       "      <td>0.264076</td>\n",
       "      <td>Poisson encoder-decoder\\n(observed library size)</td>\n",
       "      <td>True</td>\n",
       "      <td>0</td>\n",
       "      <td>20.0</td>\n",
       "    </tr>\n",
       "    <tr>\n",
       "      <th>13</th>\n",
       "      <td>0.264005</td>\n",
       "      <td>Poisson encoder-decoder\\n(observed library size)</td>\n",
       "      <td>True</td>\n",
       "      <td>0</td>\n",
       "      <td>30.0</td>\n",
       "    </tr>\n",
       "    <tr>\n",
       "      <th>14</th>\n",
       "      <td>0.264199</td>\n",
       "      <td>Poisson encoder-decoder\\n(observed library size)</td>\n",
       "      <td>True</td>\n",
       "      <td>0</td>\n",
       "      <td>40.0</td>\n",
       "    </tr>\n",
       "    <tr>\n",
       "      <th>15</th>\n",
       "      <td>0.264097</td>\n",
       "      <td>Poisson encoder-decoder\\n(observed library size)</td>\n",
       "      <td>True</td>\n",
       "      <td>0</td>\n",
       "      <td>50.0</td>\n",
       "    </tr>\n",
       "    <tr>\n",
       "      <th>...</th>\n",
       "      <td>...</td>\n",
       "      <td>...</td>\n",
       "      <td>...</td>\n",
       "      <td>...</td>\n",
       "      <td>...</td>\n",
       "    </tr>\n",
       "    <tr>\n",
       "      <th>116</th>\n",
       "      <td>0.189347</td>\n",
       "      <td>Binary encoder-decoder\\n(mean observed library...</td>\n",
       "      <td>False</td>\n",
       "      <td>10</td>\n",
       "      <td>NaN</td>\n",
       "    </tr>\n",
       "    <tr>\n",
       "      <th>117</th>\n",
       "      <td>0.189144</td>\n",
       "      <td>Binary encoder-decoder\\n(mean observed library...</td>\n",
       "      <td>False</td>\n",
       "      <td>10</td>\n",
       "      <td>NaN</td>\n",
       "    </tr>\n",
       "    <tr>\n",
       "      <th>118</th>\n",
       "      <td>0.189110</td>\n",
       "      <td>Binary encoder-decoder\\n(mean observed library...</td>\n",
       "      <td>False</td>\n",
       "      <td>10</td>\n",
       "      <td>NaN</td>\n",
       "    </tr>\n",
       "    <tr>\n",
       "      <th>119</th>\n",
       "      <td>0.188439</td>\n",
       "      <td>Binary encoder-decoder\\n(mean observed library...</td>\n",
       "      <td>False</td>\n",
       "      <td>10</td>\n",
       "      <td>NaN</td>\n",
       "    </tr>\n",
       "    <tr>\n",
       "      <th>120</th>\n",
       "      <td>0.188927</td>\n",
       "      <td>Binary encoder-decoder\\n(mean observed library...</td>\n",
       "      <td>False</td>\n",
       "      <td>10</td>\n",
       "      <td>NaN</td>\n",
       "    </tr>\n",
       "  </tbody>\n",
       "</table>\n",
       "<p>220 rows × 5 columns</p>\n",
       "</div>"
      ],
      "text/plain": [
       "     result.average_precision  \\\n",
       "11                   0.263996   \n",
       "12                   0.264076   \n",
       "13                   0.264005   \n",
       "14                   0.264199   \n",
       "15                   0.264097   \n",
       "..                        ...   \n",
       "116                  0.189347   \n",
       "117                  0.189144   \n",
       "118                  0.189110   \n",
       "119                  0.188439   \n",
       "120                  0.188927   \n",
       "\n",
       "                               config.model.model_type  \\\n",
       "11    Poisson encoder-decoder\\n(observed library size)   \n",
       "12    Poisson encoder-decoder\\n(observed library size)   \n",
       "13    Poisson encoder-decoder\\n(observed library size)   \n",
       "14    Poisson encoder-decoder\\n(observed library size)   \n",
       "15    Poisson encoder-decoder\\n(observed library size)   \n",
       "..                                                 ...   \n",
       "116  Binary encoder-decoder\\n(mean observed library...   \n",
       "117  Binary encoder-decoder\\n(mean observed library...   \n",
       "118  Binary encoder-decoder\\n(mean observed library...   \n",
       "119  Binary encoder-decoder\\n(mean observed library...   \n",
       "120  Binary encoder-decoder\\n(mean observed library...   \n",
       "\n",
       "    config.setup.model_params.use_observed_lib_size  config.data.data_split  \\\n",
       "11                                             True                       0   \n",
       "12                                             True                       0   \n",
       "13                                             True                       0   \n",
       "14                                             True                       0   \n",
       "15                                             True                       0   \n",
       "..                                              ...                     ...   \n",
       "116                                           False                      10   \n",
       "117                                           False                      10   \n",
       "118                                           False                      10   \n",
       "119                                           False                      10   \n",
       "120                                           False                      10   \n",
       "\n",
       "     config.setup.model_params.n_latent  \n",
       "11                                 10.0  \n",
       "12                                 20.0  \n",
       "13                                 30.0  \n",
       "14                                 40.0  \n",
       "15                                 50.0  \n",
       "..                                  ...  \n",
       "116                                 NaN  \n",
       "117                                 NaN  \n",
       "118                                 NaN  \n",
       "119                                 NaN  \n",
       "120                                 NaN  \n",
       "\n",
       "[220 rows x 5 columns]"
      ]
     },
     "execution_count": 20,
     "metadata": {},
     "output_type": "execute_result"
    }
   ],
   "source": [
    "results"
   ]
  },
  {
   "cell_type": "code",
   "execution_count": 22,
   "id": "2436a3c3-32b4-4008-9759-7c309f27d780",
   "metadata": {},
   "outputs": [
    {
     "data": {
      "text/html": [
       "<div>\n",
       "<style scoped>\n",
       "    .dataframe tbody tr th:only-of-type {\n",
       "        vertical-align: middle;\n",
       "    }\n",
       "\n",
       "    .dataframe tbody tr th {\n",
       "        vertical-align: top;\n",
       "    }\n",
       "\n",
       "    .dataframe thead th {\n",
       "        text-align: right;\n",
       "    }\n",
       "</style>\n",
       "<table border=\"1\" class=\"dataframe\">\n",
       "  <thead>\n",
       "    <tr style=\"text-align: right;\">\n",
       "      <th></th>\n",
       "      <th></th>\n",
       "      <th>result.average_precision</th>\n",
       "    </tr>\n",
       "    <tr>\n",
       "      <th>config.model.model_type</th>\n",
       "      <th>config.setup.model_params.n_latent</th>\n",
       "      <th></th>\n",
       "    </tr>\n",
       "  </thead>\n",
       "  <tbody>\n",
       "    <tr>\n",
       "      <th rowspan=\"5\" valign=\"top\">Binary encoder-decoder\\n(observed library size)</th>\n",
       "      <th>10.0</th>\n",
       "      <td>0.262177</td>\n",
       "    </tr>\n",
       "    <tr>\n",
       "      <th>20.0</th>\n",
       "      <td>0.262287</td>\n",
       "    </tr>\n",
       "    <tr>\n",
       "      <th>30.0</th>\n",
       "      <td>0.262294</td>\n",
       "    </tr>\n",
       "    <tr>\n",
       "      <th>40.0</th>\n",
       "      <td>0.262464</td>\n",
       "    </tr>\n",
       "    <tr>\n",
       "      <th>50.0</th>\n",
       "      <td>0.262472</td>\n",
       "    </tr>\n",
       "    <tr>\n",
       "      <th rowspan=\"5\" valign=\"top\">Poisson encoder-decoder\\n(observed library size)</th>\n",
       "      <th>10.0</th>\n",
       "      <td>0.263996</td>\n",
       "    </tr>\n",
       "    <tr>\n",
       "      <th>30.0</th>\n",
       "      <td>0.264005</td>\n",
       "    </tr>\n",
       "    <tr>\n",
       "      <th>20.0</th>\n",
       "      <td>0.264076</td>\n",
       "    </tr>\n",
       "    <tr>\n",
       "      <th>50.0</th>\n",
       "      <td>0.264097</td>\n",
       "    </tr>\n",
       "    <tr>\n",
       "      <th>40.0</th>\n",
       "      <td>0.264199</td>\n",
       "    </tr>\n",
       "  </tbody>\n",
       "</table>\n",
       "</div>"
      ],
      "text/plain": [
       "                                                                                     result.average_precision\n",
       "config.model.model_type                          config.setup.model_params.n_latent                          \n",
       "Binary encoder-decoder\\n(observed library size)  10.0                                                0.262177\n",
       "                                                 20.0                                                0.262287\n",
       "                                                 30.0                                                0.262294\n",
       "                                                 40.0                                                0.262464\n",
       "                                                 50.0                                                0.262472\n",
       "Poisson encoder-decoder\\n(observed library size) 10.0                                                0.263996\n",
       "                                                 30.0                                                0.264005\n",
       "                                                 20.0                                                0.264076\n",
       "                                                 50.0                                                0.264097\n",
       "                                                 40.0                                                0.264199"
      ]
     },
     "execution_count": 22,
     "metadata": {},
     "output_type": "execute_result"
    }
   ],
   "source": [
    "results.groupby(['config.model.model_type', 'config.setup.model_params.n_latent']).agg({f'result.{metric}': 'median'}).sort_values(f'result.{metric}')"
   ]
  },
  {
   "cell_type": "markdown",
   "id": "5b245e98-c53a-4f86-bda2-602697200bbe",
   "metadata": {},
   "source": [
    "# Load results of final evaluation"
   ]
  },
  {
   "cell_type": "code",
   "execution_count": 23,
   "id": "ff900ce0-4a76-49c8-b0da-ea2bf37c68d2",
   "metadata": {},
   "outputs": [],
   "source": [
    "model_order = [model_type_map['LS_lab'], model_type_map['gex_binaryFalse'], model_type_map[\"gexFalse\"] , model_type_map['gex_binaryTrue'], model_type_map[\"gexTrue\"]]"
   ]
  },
  {
   "cell_type": "code",
   "execution_count": 24,
   "id": "7d2a6772-1327-47ed-a02e-12b280ba44d1",
   "metadata": {},
   "outputs": [
    {
     "data": {
      "application/vnd.jupyter.widget-view+json": {
       "model_id": "c393b02d04a2492eac5169a4717e61d7",
       "version_major": 2,
       "version_minor": 0
      },
      "text/plain": [
       "  0%|          | 0/143 [00:00<?, ?it/s]"
      ]
     },
     "metadata": {},
     "output_type": "display_data"
    },
    {
     "data": {
      "application/vnd.jupyter.widget-view+json": {
       "model_id": "ad7d9e3eff3b4b78acbc3faa2e989d99",
       "version_major": 2,
       "version_minor": 0
      },
      "text/plain": [
       "  0%|          | 0/143 [00:00<?, ?it/s]"
      ]
     },
     "metadata": {},
     "output_type": "display_data"
    }
   ],
   "source": [
    "results = load_seml(seml_collection, model_type_map, final=True, metric=metric)"
   ]
  },
  {
   "cell_type": "code",
   "execution_count": 25,
   "id": "c0ceb776-90a6-4dab-88a5-b05cb03c27f4",
   "metadata": {},
   "outputs": [
    {
     "data": {
      "text/plain": [
       "(55, 5)"
      ]
     },
     "execution_count": 25,
     "metadata": {},
     "output_type": "execute_result"
    }
   ],
   "source": [
    "results.shape"
   ]
  },
  {
   "cell_type": "markdown",
   "id": "fdf8be0e-f2cb-4c5e-a6bf-fde05284c925",
   "metadata": {},
   "source": [
    "# Plot results"
   ]
  },
  {
   "cell_type": "code",
   "execution_count": 28,
   "id": "b8684cd8-f2ad-4228-8491-bce103dc6d15",
   "metadata": {},
   "outputs": [],
   "source": [
    "pairs = list(itertools.combinations(results['config.model.model_type'].unique(), 2))"
   ]
  },
  {
   "cell_type": "code",
   "execution_count": 29,
   "id": "a4040b5a-6035-4958-8417-8eea498417cc",
   "metadata": {},
   "outputs": [
    {
     "name": "stderr",
     "output_type": "stream",
     "text": [
      "No artists with labels found to put in legend.  Note that artists whose label start with an underscore are ignored when legend() is called with no argument.\n"
     ]
    },
    {
     "data": {
      "image/png": "[encoded data removed]",
      "text/plain": [
       "<Figure size 1152x432 with 1 Axes>"
      ]
     },
     "metadata": {},
     "output_type": "display_data"
    }
   ],
   "source": [
    "fig, ax = plt.subplots(figsize=(16,6))\n",
    "ax = create_annotated_boxplot(data = results, pairs=pairs, x=f\"result.{metric}\", y=\"config.model.model_type\", hue=None, order=model_order, hue_order=None, ax = ax, test='Wilcoxon', y_label=\"Model\", x_label=\"RMSE\")\n",
    "#fig.savefig(os.path.join(fig_path, \"Neurips_challenge_RMSE.pdf\"))\n",
    "#fig.savefig(os.path.join(fig_path, \"Neurips_challenge_RMSE.png\"))"
   ]
  },
  {
   "cell_type": "code",
   "execution_count": null,
   "id": "f6b62bba-01cb-4da1-8809-b8884127e741",
   "metadata": {},
   "outputs": [],
   "source": []
  },
  {
   "cell_type": "code",
   "execution_count": null,
   "id": "8d7b1300-8b38-42ac-9cbb-b1f452ffeecd",
   "metadata": {},
   "outputs": [],
   "source": [
    "# I should redo the analysis and choose optimal n_latent etc on train set"
   ]
  }
 ],
 "metadata": {
  "kernelspec": {
   "display_name": "Python 3 (ipykernel)",
   "language": "python",
   "name": "python3"
  },
  "language_info": {
   "codemirror_mode": {
    "name": "ipython",
    "version": 3
   },
   "file_extension": ".py",
   "mimetype": "text/x-python",
   "name": "python",
   "nbconvert_exporter": "python",
   "pygments_lexer": "ipython3",
   "version": "3.9.12"
  }
 },
 "nbformat": 4,
 "nbformat_minor": 5
}
