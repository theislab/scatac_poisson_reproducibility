{
 "cells": [
  {
   "cell_type": "code",
   "execution_count": 6,
   "id": "556c4bd4-a12a-4028-b32f-ad754d99b04e",
   "metadata": {},
   "outputs": [],
   "source": [
    "import poisson_atac as patac\n",
    "import scale\n",
    "import os"
   ]
  },
  {
   "cell_type": "code",
   "execution_count": 2,
   "id": "7f1dcbed-a6a6-4b6a-98af-756f9230104e",
   "metadata": {},
   "outputs": [],
   "source": [
    "from scale.dataset import load_dataset"
   ]
  },
  {
   "cell_type": "code",
   "execution_count": 5,
   "id": "645e2b7c-72bc-4c06-a636-baa7c863f55d",
   "metadata": {},
   "outputs": [],
   "source": [
    "output=\"/lustre/groups/ml01/workspace/laura.martens/atac_poisson_data/benchmark/trapnell/scale/\""
   ]
  },
  {
   "cell_type": "code",
   "execution_count": 3,
   "id": "f1ba8ab2-b937-497e-b197-d6ac013a74d6",
   "metadata": {},
   "outputs": [
    {
     "name": "stdout",
     "output_type": "stream",
     "text": [
      "Raw dataset shape: (720613, 53063)\n",
      "Processed dataset shape: (720613, 30002)\n"
     ]
    }
   ],
   "source": [
    "adata, trainloader, testloader = load_dataset(\n",
    "    \"/lustre/groups/ml01/workspace/laura.martens/data/trapnell_sciATAC_fetal_tissue/all_tissues_filtered.h5ad\",\n",
    "    batch_categories=None, \n",
    "    join='inner', \n",
    "    batch_key='batch', \n",
    "    batch_name='batch',\n",
    "    min_genes=0,\n",
    "    min_cells=0,\n",
    "    batch_size=32, \n",
    "    n_top_genes=30000,\n",
    "    log=None,\n",
    ")"
   ]
  },
  {
   "cell_type": "code",
   "execution_count": 7,
   "id": "a1730d81-9b15-4852-9a1d-16b7a34f5a8f",
   "metadata": {},
   "outputs": [],
   "source": [
    "adata.write(os.path.join(output, \"adata_preprocessed.h5ad\"))"
   ]
  },
  {
   "cell_type": "code",
   "execution_count": null,
   "id": "937abea8-0713-4db4-bb69-c5ed3aa14c7e",
   "metadata": {},
   "outputs": [],
   "source": []
  }
 ],
 "metadata": {
  "kernelspec": {
   "display_name": "Python 3 (ipykernel)",
   "language": "python",
   "name": "python3"
  },
  "language_info": {
   "codemirror_mode": {
    "name": "ipython",
    "version": 3
   },
   "file_extension": ".py",
   "mimetype": "text/x-python",
   "name": "python",
   "nbconvert_exporter": "python",
   "pygments_lexer": "ipython3",
   "version": "3.8.13"
  }
 },
 "nbformat": 4,
 "nbformat_minor": 5
}
